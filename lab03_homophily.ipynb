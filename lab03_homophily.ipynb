{
 "cells": [
  {
   "cell_type": "code",
   "execution_count": 147,
   "metadata": {
    "deletable": false,
    "editable": false
   },
   "outputs": [],
   "source": [
    "# Initialize Otter\n",
    "import otter\n",
    "grader = otter.Notebook(\"lab03_homophily.ipynb\")"
   ]
  },
  {
   "cell_type": "code",
   "execution_count": 148,
   "metadata": {},
   "outputs": [
    {
     "name": "stdout",
     "output_type": "stream",
     "text": [
      "Requirement already satisfied: networkx in /srv/conda/lib/python3.11/site-packages (3.3)\n"
     ]
    }
   ],
   "source": [
    "!pip install --upgrade networkx"
   ]
  },
  {
   "cell_type": "code",
   "execution_count": 149,
   "metadata": {},
   "outputs": [
    {
     "data": {
      "text/html": [
       "<style>\n",
       "div.question {    \n",
       "    background-color: #33f2f2;\n",
       "    border-color: #dFb5b4;\n",
       "    border-left: 5px solid #dfb5b4;\n",
       "    padding: 0.5em;\n",
       "    }\n",
       "div.response {    \n",
       "    background-color: #fcf2f2;\n",
       "    border-color: #dFb5b4;\n",
       "    border-left: 5px solid #dfb5b4;\n",
       "    padding: 0.5em;\n",
       "    }\n",
       "</style>\n"
      ],
      "text/plain": [
       "<IPython.core.display.HTML object>"
      ]
     },
     "execution_count": 149,
     "metadata": {},
     "output_type": "execute_result"
    }
   ],
   "source": [
    "from IPython.core.display import HTML\n",
    "HTML(\"\"\"\n",
    "<style>\n",
    ".imagesource {\n",
    "    font-size: xx-small;\n",
    "}\n",
    "</style>\n",
    "\"\"\")\n",
    "\n",
    "from datascience import *\n",
    "\n",
    "import matplotlib\n",
    "matplotlib.use('Agg')\n",
    "%matplotlib inline\n",
    "import matplotlib.pyplot as plt\n",
    "import numpy as np\n",
    "plt.style.use('fivethirtyeight')\n",
    "\n",
    "import os\n",
    "import networkx as nx\n",
    "\n",
    "def css_styling():\n",
    "    styles = open(\"custom_style.css\", \"r\").read()\n",
    "    return HTML(styles)\n",
    "css_styling()\n"
   ]
  },
  {
   "cell_type": "markdown",
   "metadata": {},
   "source": [
    "## Lab 3 - Node Attributes and Homophily"
   ]
  },
  {
   "cell_type": "markdown",
   "metadata": {},
   "source": [
    "## Node Attributes\n",
    "\n",
    "We have seen that there is a lot we can learn about social networks by just studying their structure---i.e., by investigating the patterns of nodes and edges. However, since social networks are typically made of people, we know that only studying their structure leaves a lot of potentially important information out of our analysis. People are not all the same, and so reducing people to identical nodes in a network can be too simplistic to accurately learn about the social processes that a network is a part of.\n",
    "\n",
    "Today, we're going to learn how to enrich our networks by adding additional information about who is in the nodes. We'll continue to work with the theoretical idea of homophily, which we have discussed in a few previous classes."
   ]
  },
  {
   "cell_type": "markdown",
   "metadata": {},
   "source": [
    "## Measuring homophily"
   ]
  },
  {
   "cell_type": "markdown",
   "metadata": {},
   "source": [
    "In class, we talked about one approach to measuring homophily in a network that is composed of nodes that are either girls or boys.\n",
    "\n",
    "Suppose that a proportion $p$ of the nodes in the network are boys, and that a proportion $q$ of nodes in the network are girls. Then we reasoned that if we pick an edge at random from the network, and randomly assign genders to the nodes at either end of the edge, we'd see one of the following three situations:"
   ]
  },
  {
   "cell_type": "markdown",
   "metadata": {},
   "source": [
    "<img src='random_gender_withfrac.jpg' width='30%'></img>"
   ]
  },
  {
   "cell_type": "markdown",
   "metadata": {},
   "source": [
    "We'd expect to see an edge joining two boys with probability $p^2$; an edge joining two girls with probability $q^2$; and an edge that joins a boy and a girl with probability $pq + qp = 2p$. "
   ]
  },
  {
   "cell_type": "markdown",
   "metadata": {},
   "source": [
    "Although this analysis is a good starting point, it makes an important assumption: it assumes that, on average, boys and girls have the same average network size. (If you are curious about why the model implies this, please see the optional footnote at the end of the lab.)\n",
    "\n",
    "In this lab, we'll explore a more sophisticated metric -- **the assortativity coefficient** -- that accounts for differences in nodes' network sizes. The assortativity coefficient can also be extended to measure homophily on characteristics that have more than two categories."
   ]
  },
  {
   "cell_type": "markdown",
   "metadata": {},
   "source": [
    "### The assortativity coefficient\n",
    "\n",
    "If a network's nodes can be divided into discrete groups, then a quantitative metric for the amount of homophily in a network was proposed by [Newman](https://arxiv.org/pdf/cond-mat/0205405.pdf). We'll work with this metric today.\n",
    "\n",
    "* suppose that the nodes can all be divided into discrete groups\n",
    "* let $a_i$ be the fraction of ends of edges ('stubs') in a network that are connected to nodes in group $i$\n",
    "* let $e_{ij}$ be the fraction of edges in a network ('stubs') that connect nodes in group $i$ to nodes in group $j$\n",
    "\n",
    "\n",
    "Newman's *assortativity coefficient* is:\n",
    "\n",
    "$$r = \\frac{\\sum_i e_{ii} - \\sum_i a_i^2}{1 - \\sum_i a_i^2}$$\n",
    "\n",
    "* when $r=0$, then there is no assortativity\n",
    "* when $r>0$, then there is assortativity -- i.e., members of the same group tend to be more connected to each other than to other groups. At the extreme, when $r=1$, all network connections are within groups\n",
    "* when $r<0$, then there is disassortativity -- i.e., members of the same group are less likely to be connected to each other than to other groups\n",
    "\n",
    "For two groups, we can write the assortativity coefficient as\n",
    "\n",
    "$$r = \\frac{e_{11} + e_{22} - a_1^2 - a_2^2}{1 - a_1^2 - a_2^2}$$"
   ]
  },
  {
   "cell_type": "markdown",
   "metadata": {},
   "source": [
    "### Example 1"
   ]
  },
  {
   "cell_type": "markdown",
   "metadata": {},
   "source": [
    "<img src='example_network_groups3.png'></img>"
   ]
  },
  {
   "cell_type": "markdown",
   "metadata": {},
   "source": [
    "**Practice** Calculate the assortativity coefficient in the example network. You can find answers to this practice question at the end of the notebook."
   ]
  },
  {
   "cell_type": "markdown",
   "metadata": {
    "collapsed": true,
    "jupyter": {
     "outputs_hidden": true
    }
   },
   "source": [
    "```\n",
    "          degree  group\n",
    "  node 1    1     blue\n",
    "  node 2    2     red\n",
    "  node 3    5     blue\n",
    "  node 4    1     red\n",
    "  node 5    2     blue\n",
    "  node 6    1     red\n",
    "  node 7    2     red\n",
    "  node 8    2     blue\n",
    "```"
   ]
  },
  {
   "cell_type": "markdown",
   "metadata": {
    "collapsed": true,
    "jupyter": {
     "outputs_hidden": true
    }
   },
   "source": [
    "Stub Counts:\n",
    "\n",
    "```\n",
    "        blue  red\n",
    "  blue   4     6\n",
    "  red    6     0\n",
    "```"
   ]
  },
  {
   "cell_type": "markdown",
   "metadata": {
    "collapsed": true,
    "jupyter": {
     "outputs_hidden": true
    }
   },
   "source": [
    "Stub Totals:\n",
    "\n",
    "```\n",
    "        total degree  a_i\n",
    "  blue       10       10/16\n",
    "  red        6        6/16\n",
    "```"
   ]
  },
  {
   "cell_type": "markdown",
   "metadata": {
    "collapsed": true,
    "jupyter": {
     "outputs_hidden": true
    }
   },
   "source": [
    "$e_{ij}$ MATRIX:\n",
    "    \n",
    "```\n",
    "        blue  red\n",
    "  blue  4/16  6/16\n",
    "  red   6/16  0/16\n",
    "```"
   ]
  },
  {
   "cell_type": "markdown",
   "metadata": {},
   "source": [
    "Assortativity Coefficient $r = \\frac{e_{11} + e_{22} - a_1^2 - a_2^2}{1 - a_1^2 - a_2^2}$"
   ]
  },
  {
   "cell_type": "markdown",
   "metadata": {},
   "source": [
    "_**r = assortativity coefficient<br>\n",
    "e11 = like to like<br>\n",
    "e22 = other like to like<br>\n",
    "a1 = sum of first column<be>\n",
    "a2 = sum of second column**_"
   ]
  },
  {
   "cell_type": "markdown",
   "metadata": {},
   "source": [
    "**ANSWER:** *assortativity coefficient*\n",
    "$r$ = [((4/16) + 0) - (10/16)^2 - (6/16)^2] / [1 - (10/16)^2 - (6/16)^2] = -0.6"
   ]
  },
  {
   "cell_type": "markdown",
   "metadata": {},
   "source": [
    " Now we'll use the `networkx` package to check the results of the calculation we performed above. This will  give us a chance to learn about how the package handles node attributes."
   ]
  },
  {
   "cell_type": "markdown",
   "metadata": {
    "deletable": false,
    "editable": false
   },
   "source": [
    "## Question 1: \n",
    "\n",
    "Create a `networkx` graph called `test` that represents the example network above.<BR>\n",
    "    \n",
    "*[Hint: you can enter this network as an edgelist.]*\n",
    "    \n",
    "*[Hint: you can go back to lab 2 and see how to create a networkx graph.]*"
   ]
  },
  {
   "cell_type": "code",
   "execution_count": 150,
   "metadata": {
    "tags": []
   },
   "outputs": [],
   "source": [
    "edge_list = [\n",
    "    (1, 3),\n",
    "    (3, 4),\n",
    "    (3, 2),\n",
    "    (3, 7),\n",
    "    (3, 8),\n",
    "    (7, 8),\n",
    "    (2, 5),\n",
    "    (5, 6)\n",
    "]\n",
    "test = nx.Graph(edge_list)"
   ]
  },
  {
   "cell_type": "code",
   "execution_count": 151,
   "metadata": {
    "deletable": false,
    "editable": false
   },
   "outputs": [
    {
     "data": {
      "text/html": [
       "<p><strong><pre style='display: inline;'>q1</pre></strong> passed! 💯</p>"
      ],
      "text/plain": [
       "q1 results: All test cases passed!"
      ]
     },
     "execution_count": 151,
     "metadata": {},
     "output_type": "execute_result"
    }
   ],
   "source": [
    "grader.check(\"q1\")"
   ]
  },
  {
   "cell_type": "code",
   "execution_count": 152,
   "metadata": {},
   "outputs": [
    {
     "data": {
      "image/png": "[encoded data removed]",
      "text/plain": [
       "<Figure size 640x480 with 1 Axes>"
      ]
     },
     "metadata": {},
     "output_type": "display_data"
    }
   ],
   "source": [
    "# Let's take a look at the network you generate, is it the same as the one above?\n",
    "nx.draw_circular(test, with_labels=True)"
   ]
  },
  {
   "cell_type": "markdown",
   "metadata": {},
   "source": [
    "The pattern below shows us how to tell `networkx` that there is a node attribute called 'color', and it shows us how to explicitly add the color of each node:"
   ]
  },
  {
   "cell_type": "code",
   "execution_count": 153,
   "metadata": {},
   "outputs": [
    {
     "data": {
      "image/png": "[encoded data removed]",
      "text/plain": [
       "<Figure size 640x480 with 1 Axes>"
      ]
     },
     "metadata": {},
     "output_type": "display_data"
    }
   ],
   "source": [
    "nx.set_node_attributes(test,                    \n",
    "                       {1 : 'blue',\n",
    "                        2 : 'red',\n",
    "                        3 : 'blue',\n",
    "                        4 : 'red',\n",
    "                        5 : 'blue',\n",
    "                        6 : 'red',\n",
    "                        7 : 'red',\n",
    "                        8 : 'blue'},\n",
    "                      'color')\n",
    "\n",
    "node_color=[x[0] for x in nx.get_node_attributes(test, 'color').values()]\n",
    "\n",
    "nx.draw_circular(test, with_labels=True,node_color=node_color)"
   ]
  },
  {
   "cell_type": "markdown",
   "metadata": {},
   "source": [
    "See the help page for [`set_node_attributes`](https://networkx.github.io/documentation/networkx-1.9/reference/generated/networkx.classes.function.set_node_attributes.html) for more information on working with attributes."
   ]
  },
  {
   "cell_type": "markdown",
   "metadata": {},
   "source": [
    "You can check the matrix of $e_{ij}$ values by using the function `nx.attribute_mixing_matrix`:"
   ]
  },
  {
   "cell_type": "code",
   "execution_count": 154,
   "metadata": {},
   "outputs": [
    {
     "data": {
      "text/plain": [
       "array([[ 0.25 ,  0.375],\n",
       "       [ 0.375,  0.   ]])"
      ]
     },
     "execution_count": 154,
     "metadata": {},
     "output_type": "execute_result"
    }
   ],
   "source": [
    "nx.attribute_mixing_matrix(test, 'color')"
   ]
  },
  {
   "cell_type": "markdown",
   "metadata": {},
   "source": [
    "Note that, by default, the order of the columns of the mixing matrix is not specified. If you want to be able to interpret the columns, you can pass in a dictionary that maps the different attributes to column numbers like we do below:"
   ]
  },
  {
   "cell_type": "code",
   "execution_count": 155,
   "metadata": {},
   "outputs": [
    {
     "data": {
      "text/plain": [
       "array([[ 0.25 ,  0.375],\n",
       "       [ 0.375,  0.   ]])"
      ]
     },
     "execution_count": 155,
     "metadata": {},
     "output_type": "execute_result"
    }
   ],
   "source": [
    "nx.attribute_mixing_matrix(test, 'color', mapping = {'red' : 1, 'blue' : 0})"
   ]
  },
  {
   "cell_type": "markdown",
   "metadata": {},
   "source": [
    "We can calculate the value of the assortativity coefficient using the `nx.attribute_assortativity_coefficient` function:"
   ]
  },
  {
   "cell_type": "code",
   "execution_count": 156,
   "metadata": {},
   "outputs": [
    {
     "data": {
      "text/plain": [
       "-0.6"
      ]
     },
     "execution_count": 156,
     "metadata": {},
     "output_type": "execute_result"
    }
   ],
   "source": [
    "nx.attribute_assortativity_coefficient(test, 'color')"
   ]
  },
  {
   "cell_type": "markdown",
   "metadata": {},
   "source": [
    "## For the following questions, use the below example network. \n",
    "\n",
    "Does it look more or less homophilous by color than the one above?"
   ]
  },
  {
   "cell_type": "markdown",
   "metadata": {},
   "source": [
    "<img src='example_network_groups2.png'></img>"
   ]
  },
  {
   "cell_type": "markdown",
   "metadata": {
    "deletable": false,
    "editable": false
   },
   "source": [
    "<!-- BEGIN QUESTION -->\n",
    "\n",
    "## Question 2:\n",
    "\n",
    "Calculate the assortativity coefficient for this network by filling in the missing quantities below:"
   ]
  },
  {
   "cell_type": "markdown",
   "metadata": {
    "collapsed": true,
    "jupyter": {
     "outputs_hidden": true
    }
   },
   "source": [
    "```\n",
    "          degree  group\n",
    "  node 1    1      blue\n",
    "  node 2    2      red\n",
    "  node 3    5      blue\n",
    "  node 4    1      blue\n",
    "  node 5    2      red\n",
    "  node 6    1      red\n",
    "  node 7    2      blue\n",
    "  node 8    2      blue\n",
    "```\n",
    "\n",
    "STUB COUNTS:\n",
    "```\n",
    "\n",
    "        blue  red\n",
    "  blue   10    1\n",
    "  red    1     4\n",
    "```\n",
    "\n",
    "STUB TOTALS: \n",
    "```\n",
    "\n",
    "        total degree  a_i\n",
    "  blue       11      11/16\n",
    "  red        5        5/16\n",
    "```\n",
    "\n",
    "$e_{ij}$ MATRIX:\n",
    "```\n",
    "\n",
    "       blue  red\n",
    " blue  10/16  1/16\n",
    " red   1/16   4/16\n",
    "```"
   ]
  },
  {
   "cell_type": "markdown",
   "metadata": {
    "deletable": false,
    "editable": false
   },
   "source": [
    "<!-- END QUESTION -->\n",
    "\n",
    "## Question 3: \n",
    "\n",
    "Calculate (by hand) the *assortativity coefficient* of this network and assign it to `q3`."
   ]
  },
  {
   "cell_type": "code",
   "execution_count": 157,
   "metadata": {
    "tags": []
   },
   "outputs": [
    {
     "data": {
      "text/plain": [
       "0.7090909090909091"
      ]
     },
     "execution_count": 157,
     "metadata": {},
     "output_type": "execute_result"
    }
   ],
   "source": [
    "q3 = ((10/16) + (4/16) - ((11/16)**2) - ((5/16)**2)) / (1 - ((11/16)**2) - ((5/16)**2))\n",
    "q3"
   ]
  },
  {
   "cell_type": "code",
   "execution_count": 158,
   "metadata": {
    "deletable": false,
    "editable": false
   },
   "outputs": [
    {
     "data": {
      "text/html": [
       "<p><strong><pre style='display: inline;'>q3</pre></strong> passed! 🍀</p>"
      ],
      "text/plain": [
       "q3 results: All test cases passed!"
      ]
     },
     "execution_count": 158,
     "metadata": {},
     "output_type": "execute_result"
    }
   ],
   "source": [
    "grader.check(\"q3\")"
   ]
  },
  {
   "cell_type": "markdown",
   "metadata": {
    "deletable": false,
    "editable": false
   },
   "source": [
    "## Question 4: \n",
    "\n",
    "Now check your answer using the `networkx` package. Build a networkx graph called `test2` first, and then assign the color attributes to the nodes, and finally use the functions to calculate the assortativity coefficient."
   ]
  },
  {
   "cell_type": "code",
   "execution_count": 159,
   "metadata": {
    "tags": []
   },
   "outputs": [
    {
     "data": {
      "text/plain": [
       "0.7090909090909091"
      ]
     },
     "execution_count": 159,
     "metadata": {},
     "output_type": "execute_result"
    }
   ],
   "source": [
    "# Create test2 network graph\n",
    "test2 = nx.Graph([(1,3), (2,3), (2,5), (3,4), (3,7), (3,8), (5,6), (7,8)])\n",
    "\n",
    "nx.set_node_attributes(test2, {\n",
    "                        1: 'blue',\n",
    "                        2: 'red',\n",
    "                        3: 'blue',\n",
    "                        4: 'blue',\n",
    "                        5: 'red',\n",
    "                        6: 'red',\n",
    "                        7: 'blue',\n",
    "                        8: 'blue',\n",
    "                    },'color')\n",
    "\n",
    "# Get the assortativity coefficient\n",
    "q4 = nx.attribute_assortativity_coefficient(test2, \"color\")\n",
    "q4"
   ]
  },
  {
   "cell_type": "code",
   "execution_count": 160,
   "metadata": {
    "deletable": false,
    "editable": false
   },
   "outputs": [
    {
     "data": {
      "text/html": [
       "<p><strong><pre style='display: inline;'>q4</pre></strong> passed! 🚀</p>"
      ],
      "text/plain": [
       "q4 results: All test cases passed!"
      ]
     },
     "execution_count": 160,
     "metadata": {},
     "output_type": "execute_result"
    }
   ],
   "source": [
    "grader.check(\"q4\")"
   ]
  },
  {
   "cell_type": "markdown",
   "metadata": {},
   "source": [
    "### Reading Add Health attributes"
   ]
  },
  {
   "cell_type": "markdown",
   "metadata": {},
   "source": [
    "Recall that the Add Health dataset we have been working with stores information about network connections in an edge list.  The Add Health dataset also has information about the nodes; it has their grade, their gender, and their race/ethnicity. The code below will read all of this information in for you.\n",
    "\n",
    "There are some problems with two of the Add Health networks' node data, so we'll leave those two out. Our set of Add Health networks is thus 82 nodes instead of 84 for today.\n",
    "\n",
    "(Note-- no action is required for the below code cell, simply run it)"
   ]
  },
  {
   "cell_type": "code",
   "execution_count": 161,
   "metadata": {},
   "outputs": [],
   "source": [
    "data_path = \"data/\"\n",
    "\n",
    "def read_add_health_edges(network_id, path=data_path):\n",
    "    \"\"\"\n",
    "    network_id : integer from 1 to 84\n",
    "    \n",
    "    read in the Add Health network corresponding to the given id number and\n",
    "    return it as an undirected networkx object\n",
    "    \"\"\"\n",
    "\n",
    "    # this file was downloaded from\n",
    "    # http://moreno.ss.uci.edu/data.html#adhealth\n",
    "    edge_file = os.path.join(path, \"comm\" + str(network_id) + \".dat\")\n",
    "    with open(edge_file, 'r') as f:\n",
    "        edge_lines = f.readlines()\n",
    "        \n",
    "    network = nx.parse_edgelist(edge_lines, nodetype=int, data=[('activity_level', float)])\n",
    "    \n",
    "    # note that we call the to_undirected method to ensure we get an undirected network\n",
    "    return(network.to_undirected())\n",
    "\n",
    "def read_add_health_attributes_oneperrow(network_id, net, path=data_path):\n",
    "    \"\"\"\n",
    "    Read in an Add Health attributes file that has one attribute per row\n",
    "    \"\"\"\n",
    "    att_file = os.path.join(path, \"comm\" + str(network_id) + \"_att.dat\")\n",
    "    with open(att_file, 'r') as f:\n",
    "        att_lines = f.readlines()\n",
    "    \n",
    "    # the first 8 lines are meta-info and not actual data\n",
    "    att_lines = att_lines[8:]\n",
    "    \n",
    "    node_races = {}\n",
    "    node_grades = {}\n",
    "    node_sexes = {}\n",
    "\n",
    "    for cur_id in net.nodes():\n",
    "        \n",
    "        print(\"starting node \", cur_id)\n",
    "        \n",
    "        # the attributes are stored one per line for each node in sequence (race / sex / grade)\n",
    "        # so line 0 is node 1's race, line 2 is node 1's sex, line 3 is node 1's grade, line 4 is node 2's race, etc\n",
    "        start_idx = (cur_id-1) * 3\n",
    "        this_race = str.split(g_att[start_idx])[2]\n",
    "        this_sex = str.split(g_att[start_idx+1])[2]\n",
    "        this_grade = str.split(g_att[start_idx+2])[2]\n",
    "    \n",
    "        node_races[cur_id] = this_race\n",
    "        node_grades[cur_id] = this_grade\n",
    "        node_sexes[cur_id] = this_sex\n",
    "    \n",
    "    nx.set_node_attributes(net, 'race', node_races)\n",
    "    nx.set_node_attributes(net, 'grade', node_grades)\n",
    "    nx.set_node_attributes(net, 'sex', node_sexes)\n",
    "    \n",
    "    return(net)\n",
    "\n",
    "def read_add_health_attributes(network_id, net, path=data_path):\n",
    "    \"\"\"\n",
    "    Read in an Add Health attributes file that has one row per node\n",
    "    \"\"\"\n",
    "    \n",
    "    # open up the attributes datafile\n",
    "    att_file = os.path.join(path, \"comm\" + str(network_id) + \"_att.dat\")\n",
    "    with open(att_file, 'r') as f:\n",
    "        att_lines = f.readlines()\n",
    "        \n",
    "    # the first several lines are meta-info and not actual data;\n",
    "    # the data start once we see \"DATA:\\n\"\n",
    "    header_start = att_lines.index(\"COLUMN LABELS:\\n\") + 1\n",
    "    header_end = att_lines.index(\"DATA:\\n\")\n",
    "    data_start = header_end + 1\n",
    "    \n",
    "    # build up a list that maps column index to column name\n",
    "    col_defs = []\n",
    "    # build up a dict that has the data for each variable\n",
    "    col_data = {}\n",
    "    \n",
    "    for colindex, lineidx in enumerate(range(header_start, header_end)):\n",
    "        # strip off the newline and the starting/ending quotes of the column name\n",
    "        this_name = (str.strip(att_lines[lineidx])[1:-1]).lower()\n",
    "        col_defs.append(this_name)\n",
    "        # initialize the data for this column to empty dict\n",
    "        col_data[this_name] = {}  \n",
    "    \n",
    "    att_lines = att_lines[data_start:]\n",
    "    \n",
    "    # for each row (corresponding to one node's data)\n",
    "    # split the columns up and stick them into the appropriate\n",
    "    # dict, with node id as key and attribute value as value\n",
    "    for cur_id in net.nodes():\n",
    "        #print('starting node ', cur_id)\n",
    "        these_data = str.split(att_lines[cur_id - 1])\n",
    "        \n",
    "        for colidx, dat in enumerate(these_data):\n",
    "            col_data[col_defs[colidx]][cur_id] = dat\n",
    "\n",
    "    # take the data and assign it to the nodes in the graph object\n",
    "    for var in col_defs:\n",
    "        nx.set_node_attributes(net,  col_data[var],var)\n",
    "    \n",
    "    return(net)\n",
    "\n",
    "def read_add_health_network(network_id):\n",
    "    \n",
    "    this_net = read_add_health_edges(network_id)\n",
    "    #this_net = read_add_health_attributes(network_id, this_net)\n",
    "    this_net = read_add_health_attributes(network_id, this_net)\n",
    "    \n",
    "    return(this_net)"
   ]
  },
  {
   "cell_type": "markdown",
   "metadata": {},
   "source": [
    "Having loaded those functions, we can use the `read_add_health_network` function to load the datasets into memory:"
   ]
  },
  {
   "cell_type": "code",
   "execution_count": 162,
   "metadata": {},
   "outputs": [],
   "source": [
    "# EXCEPTIONS: networks 1 and 48 have formatting problems, so we'll omit them today\n",
    "# this will take a few seconds\n",
    "\n",
    "add_health_ids = [x for x in range(2, 85) if x != 48]\n",
    "add_health_networks = [read_add_health_network(x) for x in add_health_ids]"
   ]
  },
  {
   "cell_type": "markdown",
   "metadata": {},
   "source": [
    "### Exploring network attributes"
   ]
  },
  {
   "cell_type": "markdown",
   "metadata": {},
   "source": [
    "We'll start by looking at the fraction of students in one school that is male."
   ]
  },
  {
   "cell_type": "markdown",
   "metadata": {},
   "source": [
    "Looking at the [dataset information](http://moreno.ss.uci.edu/data.html#adhealth), you can see that the Add Health sex variable has the values 1=male, 2=female, and 0=unreported."
   ]
  },
  {
   "cell_type": "markdown",
   "metadata": {},
   "source": [
    "**Practice** Use the `get_node_attributes` function to grab the sexes of the students in the first school by filling in the code below."
   ]
  },
  {
   "cell_type": "code",
   "execution_count": 163,
   "metadata": {
    "scrolled": true
   },
   "outputs": [
    {
     "data": {
      "text/plain": [
       "{1: '2',\n",
       " 95: '2',\n",
       " 108: '2',\n",
       " 2: '1',\n",
       " 30: '1',\n",
       " 85: '1',\n",
       " 3: '2',\n",
       " 10: '1',\n",
       " 21: '2',\n",
       " 75: '2',\n",
       " 81: '2',\n",
       " 82: '2',\n",
       " 6: '1',\n",
       " 15: '2',\n",
       " 36: '1',\n",
       " 37: '1',\n",
       " 59: '1',\n",
       " 84: '2',\n",
       " 7: '2',\n",
       " 11: '2',\n",
       " 29: '1',\n",
       " 33: '1',\n",
       " 48: '2',\n",
       " 72: '2',\n",
       " 79: '2',\n",
       " 96: '1',\n",
       " 8: '1',\n",
       " 26: '2',\n",
       " 60: '1',\n",
       " 74: '1',\n",
       " 97: '1',\n",
       " 103: '2',\n",
       " 9: '1',\n",
       " 34: '1',\n",
       " 41: '1',\n",
       " 12: '1',\n",
       " 24: '1',\n",
       " 28: '2',\n",
       " 78: '1',\n",
       " 98: '2',\n",
       " 13: '1',\n",
       " 31: '2',\n",
       " 35: '1',\n",
       " 67: '2',\n",
       " 68: '1',\n",
       " 100: '1',\n",
       " 104: '1',\n",
       " 109: '2',\n",
       " 14: '1',\n",
       " 18: '2',\n",
       " 71: '2',\n",
       " 105: '2',\n",
       " 107: '1',\n",
       " 17: '1',\n",
       " 19: '1',\n",
       " 66: '1',\n",
       " 101: '2',\n",
       " 106: '1',\n",
       " 20: '1',\n",
       " 57: '1',\n",
       " 22: '1',\n",
       " 49: '1',\n",
       " 86: '1',\n",
       " 44: '1',\n",
       " 51: '2',\n",
       " 76: '2',\n",
       " 25: '2',\n",
       " 45: '2',\n",
       " 27: '1',\n",
       " 61: '1',\n",
       " 42: '1',\n",
       " 91: '1',\n",
       " 58: '2',\n",
       " 32: '1',\n",
       " 55: '2',\n",
       " 89: '1',\n",
       " 83: '1',\n",
       " 5: '1',\n",
       " 64: '1',\n",
       " 63: '1',\n",
       " 39: '2',\n",
       " 90: '2',\n",
       " 102: '2',\n",
       " 40: '2',\n",
       " 99: '1',\n",
       " 46: '1',\n",
       " 4: '1',\n",
       " 47: '1',\n",
       " 88: '2',\n",
       " 87: '1',\n",
       " 50: '1',\n",
       " 52: '2',\n",
       " 77: '2',\n",
       " 54: '1',\n",
       " 62: '1',\n",
       " 56: '1',\n",
       " 16: '1',\n",
       " 65: '2',\n",
       " 73: '2',\n",
       " 70: '1',\n",
       " 92: '1',\n",
       " 23: '1',\n",
       " 43: '1',\n",
       " 80: '1',\n",
       " 53: '2'}"
      ]
     },
     "execution_count": 163,
     "metadata": {},
     "output_type": "execute_result"
    }
   ],
   "source": [
    "net = add_health_networks[0]\n",
    "sexes = nx.get_node_attributes(net, 'sex')\n",
    "sexes"
   ]
  },
  {
   "cell_type": "markdown",
   "metadata": {},
   "source": [
    "It turns out that the `get_node_attributes` function returns a dictionary, but we will find it easier to work with `numpy` arrays. To convert the dictionary values into an array, use the following code:"
   ]
  },
  {
   "cell_type": "code",
   "execution_count": 164,
   "metadata": {},
   "outputs": [
    {
     "data": {
      "text/plain": [
       "array(['2', '2', '2', '1', '1', '1', '2', '1', '2', '2', '2', '2', '1',\n",
       "       '2', '1', '1', '1', '2', '2', '2', '1', '1', '2', '2', '2', '1',\n",
       "       '1', '2', '1', '1', '1', '2', '1', '1', '1', '1', '1', '2', '1',\n",
       "       '2', '1', '2', '1', '2', '1', '1', '1', '2', '1', '2', '2', '2',\n",
       "       '1', '1', '1', '1', '2', '1', '1', '1', '1', '1', '1', '1', '2',\n",
       "       '2', '2', '2', '1', '1', '1', '1', '2', '1', '2', '1', '1', '1',\n",
       "       '1', '1', '2', '2', '2', '2', '1', '1', '1', '1', '2', '1', '1',\n",
       "       '2', '2', '1', '1', '1', '1', '2', '2', '1', '1', '1', '1', '1', '2'],\n",
       "      dtype='<U1')"
      ]
     },
     "execution_count": 164,
     "metadata": {},
     "output_type": "execute_result"
    }
   ],
   "source": [
    "sexes_array = np.array(list(sexes.values()))\n",
    "sexes_array"
   ]
  },
  {
   "cell_type": "markdown",
   "metadata": {
    "deletable": false,
    "editable": false
   },
   "source": [
    "## Question 5: \n",
    "Calculate the proportion of students in the first school that is male.\n",
    "\n",
    "Hint: You can use `np.mean()`"
   ]
  },
  {
   "cell_type": "code",
   "execution_count": 165,
   "metadata": {
    "tags": []
   },
   "outputs": [
    {
     "data": {
      "text/plain": [
       "0.6"
      ]
     },
     "execution_count": 165,
     "metadata": {},
     "output_type": "execute_result"
    }
   ],
   "source": [
    "q5 = np.count_nonzero(sexes_array == '1')/len(sexes_array)\n",
    "q5"
   ]
  },
  {
   "cell_type": "code",
   "execution_count": 166,
   "metadata": {
    "deletable": false,
    "editable": false
   },
   "outputs": [
    {
     "data": {
      "text/html": [
       "<p><strong><pre style='display: inline;'>q5</pre></strong> passed! 🍀</p>"
      ],
      "text/plain": [
       "q5 results: All test cases passed!"
      ]
     },
     "execution_count": 166,
     "metadata": {},
     "output_type": "execute_result"
    }
   ],
   "source": [
    "grader.check(\"q5\")"
   ]
  },
  {
   "cell_type": "markdown",
   "metadata": {},
   "source": [
    "**Practice** Now write a loop that calculates the fraction of students that is male in each of the Add Health schools. Store your results in an array called `add_health_frac_male`."
   ]
  },
  {
   "cell_type": "code",
   "execution_count": 167,
   "metadata": {},
   "outputs": [
    {
     "data": {
      "text/plain": [
       "array([ 0.6       ,  0.5       ,  0.44839858,  0.50955414,  0.49074074,\n",
       "        0.47619048,  0.50490196,  0.49193548,  0.48082596,  0.47201946,\n",
       "        0.52495697,  0.46636086,  0.49644128,  0.49717514,  0.50257069,\n",
       "        0.46962233,  0.51760563,  0.51422764,  0.48791209,  0.46419098,\n",
       "        0.5228013 ,  0.53973013,  0.47362251,  0.48370927,  0.45735027,\n",
       "        0.99657827,  0.49472759,  0.48681898,  0.5       ,  0.57256991,\n",
       "        0.48538012,  0.47710116,  0.45737399,  0.44653349,  0.48885794,\n",
       "        0.35656836,  0.48944338,  0.46720484,  0.51148851,  0.44525194,\n",
       "        0.42288557,  0.4683313 ,  0.49866903,  0.49038462,  0.51152074,\n",
       "        0.49543147,  0.49681529,  0.48247341,  0.50073206,  0.40046431,\n",
       "        0.46815835,  0.44956772,  0.44642857,  0.47309417,  0.47275775,\n",
       "        0.49737609,  0.4625641 ,  0.47944007,  0.4865175 ,  0.49000951,\n",
       "        0.47959184,  0.48706897,  0.44007156,  0.50776398,  0.44517544,\n",
       "        0.46087581,  0.46024636,  0.47368421,  0.45945946,  0.58238636,\n",
       "        0.47487745,  0.50457317,  0.48289738,  0.41860465,  0.52      ,\n",
       "        0.49768519,  0.48702929,  0.53535354,  0.48604651,  0.52108108,\n",
       "        0.49842271,  0.45697897])"
      ]
     },
     "execution_count": 167,
     "metadata": {},
     "output_type": "execute_result"
    }
   ],
   "source": [
    "# create an empty array first.\n",
    "add_health_frac_male = make_array()\n",
    "\n",
    "# Then we calculate the fractions and use the for loop to accumulate the records for each network.\n",
    "for net in add_health_networks:\n",
    "    sexes = nx.get_node_attributes(net, 'sex').values()\n",
    "    sexes = np.array(list(sexes))\n",
    "    net_male_frac = np.mean(sexes == '1')\n",
    "    add_health_frac_male = np.append(add_health_frac_male, net_male_frac)\n",
    "    \n",
    "add_health_frac_male"
   ]
  },
  {
   "cell_type": "markdown",
   "metadata": {},
   "source": [
    "**Practice** Make a histogram that shows the distribution of the fraction male across the schools in the sample."
   ]
  },
  {
   "cell_type": "code",
   "execution_count": 168,
   "metadata": {},
   "outputs": [
    {
     "data": {
      "image/png": "[encoded data removed]",
      "text/plain": [
       "<Figure size 600x400 with 1 Axes>"
      ]
     },
     "metadata": {},
     "output_type": "display_data"
    }
   ],
   "source": [
    "Table().with_column('frac_male', add_health_frac_male).hist()"
   ]
  },
  {
   "cell_type": "markdown",
   "metadata": {
    "deletable": false,
    "editable": false
   },
   "source": [
    "## Question 6:\n",
    "\n",
    "Following the pattern you used to calculate the fraction male in each community, write another loop that calculates the assortativity coefficient for sex in each community. Store your results in an array called `add_health_r`."
   ]
  },
  {
   "cell_type": "code",
   "execution_count": 169,
   "metadata": {
    "tags": []
   },
   "outputs": [
    {
     "data": {
      "text/plain": [
       "array([ 0.14207465,  0.09632572,  0.05316426,  0.03781604,  0.09492771,\n",
       "        0.15066857,  0.08683557,  0.10945906,  0.16117832,  0.10985689,\n",
       "        0.06401593,  0.17960147,  0.07686842,  0.14533151,  0.07817275,\n",
       "        0.08788648,  0.05508658,  0.08292628,  0.13782239,  0.16076421,\n",
       "        0.18349129,  0.08789731,  0.12913338,  0.12408234,  0.14120606,\n",
       "       -0.00237922,  0.13783791,  0.13717341,  0.15202205,  0.30815379,\n",
       "        0.1406675 ,  0.13768224,  0.07269015,  0.1439017 ,  0.09950581,\n",
       "        0.11881835,  0.13886652,  0.1056683 ,  0.10287037,  0.09577148,\n",
       "        0.08751284,  0.11453051,  0.11292649,  0.09841272,  0.0833842 ,\n",
       "        0.09719308,  0.15611561,  0.10838692,  0.16687752,  0.09892444,\n",
       "        0.14685605,  0.1667231 ,  0.27855351,  0.20528251,  0.1144674 ,\n",
       "        0.15651848,  0.16315856,  0.12861718,  0.22189027,  0.26624663,\n",
       "        0.13862468,  0.12229252,  0.10872317,  0.10800383,  0.2562249 ,\n",
       "        0.14127244,  0.09238042, -0.01217532,  0.14761905,  0.12067597,\n",
       "        0.10680126,  0.21808373,  0.09692226, -0.0037926 ,  0.0376502 ,\n",
       "        0.28334687,  0.11735195,  0.21115416,  0.1155822 ,  0.0731042 ,\n",
       "        0.15600645,  0.25812025])"
      ]
     },
     "execution_count": 169,
     "metadata": {},
     "output_type": "execute_result"
    }
   ],
   "source": [
    "add_health_r = make_array()\n",
    "\n",
    "for net in add_health_networks:\n",
    "    net_r = nx.attribute_assortativity_coefficient(net, 'sex')\n",
    "    add_health_r = np.append(add_health_r, net_r)\n",
    "    \n",
    "add_health_r"
   ]
  },
  {
   "cell_type": "code",
   "execution_count": 170,
   "metadata": {
    "deletable": false,
    "editable": false
   },
   "outputs": [
    {
     "data": {
      "text/html": [
       "<p><strong><pre style='display: inline;'>q6</pre></strong> passed! 🍀</p>"
      ],
      "text/plain": [
       "q6 results: All test cases passed!"
      ]
     },
     "execution_count": 170,
     "metadata": {},
     "output_type": "execute_result"
    }
   ],
   "source": [
    "grader.check(\"q6\")"
   ]
  },
  {
   "cell_type": "markdown",
   "metadata": {},
   "source": [
    "**Practice** Plot a histogram of the assortativity coefficients across the Add Health networks."
   ]
  },
  {
   "cell_type": "code",
   "execution_count": 171,
   "metadata": {},
   "outputs": [
    {
     "data": {
      "image/png": "[encoded data removed]",
      "text/plain": [
       "<Figure size 600x400 with 1 Axes>"
      ]
     },
     "metadata": {},
     "output_type": "display_data"
    }
   ],
   "source": [
    "Table().with_columns('r', add_health_r).hist()"
   ]
  },
  {
   "cell_type": "markdown",
   "metadata": {},
   "source": [
    "### Generating random networks with random sexes"
   ]
  },
  {
   "cell_type": "markdown",
   "metadata": {},
   "source": [
    "This histogram of assortativity coefficients you just made shows the values that assortativity takes on across all of the different school networks. It seems to suggest that, across all of these networks, the assortativity coefficient for sex tends to be positive.\n",
    "\n",
    "Now let's take a deeper dive, focusin on a specific Add Health network:"
   ]
  },
  {
   "cell_type": "code",
   "execution_count": 172,
   "metadata": {},
   "outputs": [],
   "source": [
    "first_add_health = add_health_networks[0]"
   ]
  },
  {
   "cell_type": "markdown",
   "metadata": {},
   "source": [
    "We'll now go through an analysis to try to assess more rigorously whether or not there is evidence for homophily by sex in this network."
   ]
  },
  {
   "cell_type": "markdown",
   "metadata": {
    "deletable": false,
    "editable": false
   },
   "source": [
    "## Question 7:\n",
    "\n",
    "Calculate the assortativity coefficient for sex in `first_add_health`."
   ]
  },
  {
   "cell_type": "code",
   "execution_count": 173,
   "metadata": {
    "tags": []
   },
   "outputs": [
    {
     "data": {
      "text/plain": [
       "0.1420746545679521"
      ]
     },
     "execution_count": 173,
     "metadata": {},
     "output_type": "execute_result"
    }
   ],
   "source": [
    "q7 = nx.attribute_assortativity_coefficient(first_add_health, 'sex')\n",
    "q7"
   ]
  },
  {
   "cell_type": "code",
   "execution_count": 174,
   "metadata": {
    "deletable": false,
    "editable": false
   },
   "outputs": [
    {
     "data": {
      "text/html": [
       "<p><strong><pre style='display: inline;'>q7</pre></strong> passed! 🌟</p>"
      ],
      "text/plain": [
       "q7 results: All test cases passed!"
      ]
     },
     "execution_count": 174,
     "metadata": {},
     "output_type": "execute_result"
    }
   ],
   "source": [
    "grader.check(\"q7\")"
   ]
  },
  {
   "cell_type": "markdown",
   "metadata": {},
   "source": [
    "We're interested in understanding whether or not there is homophily according to sex in this specific network. The assortativity coefficient is positive, which suggests that there is evidence in favor of homophily. However, we're in a similar situation to the example we saw in lecture: it seems possible that, actually, there is no homophily by sex in this network; rather, the network is assembled as the result of a random process and, just by chance, we happened to get a network that had a positive assortativity coefficient.\n",
    "\n",
    "To assess how likely this possibility is, we will set up a *null model* and to compare what we see in the real world to what we would see if the null model were true. Remember that a null model describes the world in the absence of the phenomenon we are interested in; here, it describes a world in which networks are formed without any homophily by sex. The first_add_health network would be the observed network."
   ]
  },
  {
   "cell_type": "markdown",
   "metadata": {},
   "source": [
    "For this null model, we will assume that the network structure is fixed, but that the gender of each node is randomly assigned. (Another way of saying this is that we *condition on* the observed network structure.)\n",
    "\n",
    "We'd like to know what the distribution of assortativity coefficients would look like under this null model. Then we can see how likely (or unlikely) the observed assortativity coefficient would be if the null model were true."
   ]
  },
  {
   "cell_type": "code",
   "execution_count": 175,
   "metadata": {},
   "outputs": [],
   "source": [
    "import random\n",
    "\n",
    "def shuffle_attribute(net, att): # the two inputs are: the network, and the attribute we work with\n",
    "    att_dict = nx.get_node_attributes(net, att) # get the dictionary of the network\n",
    "    \n",
    "    # we want a new copy of the network (we don't want to clobber the original one)\n",
    "    newnet = net.copy()\n",
    "    \n",
    "    # create a dictionary mapping node id to shuffled attribute values\n",
    "    node_ids = att_dict.keys()\n",
    "    att_vals = list(att_dict.values())\n",
    "    random.shuffle(att_vals)\n",
    "    \n",
    "    new_att = dict(zip(node_ids, att_vals)) # create the new dictionary\n",
    "    \n",
    "    # assign the newly shuffled attribute values\n",
    "    nx.set_node_attributes(newnet, name=att, values=new_att)\n",
    "    \n",
    "    return(newnet)"
   ]
  },
  {
   "cell_type": "code",
   "execution_count": 176,
   "metadata": {},
   "outputs": [
    {
     "data": {
      "text/plain": [
       "{1: 'blue',\n",
       " 3: 'blue',\n",
       " 2: 'red',\n",
       " 5: 'red',\n",
       " 4: 'blue',\n",
       " 7: 'blue',\n",
       " 8: 'blue',\n",
       " 6: 'red'}"
      ]
     },
     "execution_count": 176,
     "metadata": {},
     "output_type": "execute_result"
    }
   ],
   "source": [
    "### If you have trouble understanding the function above, you can run the following codes and see what they do\n",
    "dictionary = nx.get_node_attributes(test2, 'color')\n",
    "dictionary"
   ]
  },
  {
   "cell_type": "code",
   "execution_count": 177,
   "metadata": {},
   "outputs": [
    {
     "data": {
      "text/plain": [
       "dict_keys([1, 3, 2, 5, 4, 7, 8, 6])"
      ]
     },
     "execution_count": 177,
     "metadata": {},
     "output_type": "execute_result"
    }
   ],
   "source": [
    "dictionary.keys()"
   ]
  },
  {
   "cell_type": "code",
   "execution_count": 178,
   "metadata": {},
   "outputs": [
    {
     "data": {
      "text/plain": [
       "['blue', 'blue', 'red', 'red', 'blue', 'blue', 'blue', 'red']"
      ]
     },
     "execution_count": 178,
     "metadata": {},
     "output_type": "execute_result"
    }
   ],
   "source": [
    "list(dictionary.values())"
   ]
  },
  {
   "cell_type": "markdown",
   "metadata": {},
   "source": [
    "If you run the following cell a few times, you should see that the sex value is getting shuffled"
   ]
  },
  {
   "cell_type": "code",
   "execution_count": 179,
   "metadata": {},
   "outputs": [
    {
     "data": {
      "text/plain": [
       "'1'"
      ]
     },
     "execution_count": 179,
     "metadata": {},
     "output_type": "execute_result"
    }
   ],
   "source": [
    "test_3 = shuffle_attribute(first_add_health, 'sex')\n",
    "test_3.nodes[1]['sex']"
   ]
  },
  {
   "cell_type": "markdown",
   "metadata": {
    "deletable": false,
    "editable": false
   },
   "source": [
    "# Question 8:\n",
    "\n",
    "Fill in the code below to reshuffle sex in the `first_add_health` network 1000 times. Record the assortativity coefficient for each reshuffled network."
   ]
  },
  {
   "cell_type": "code",
   "execution_count": 180,
   "metadata": {
    "tags": []
   },
   "outputs": [
    {
     "name": "stdout",
     "output_type": "stream",
     "text": [
      "[ -4.31654676e-03  -2.87265676e-02  -9.07605581e-03  -8.31940964e-03\n",
      "  -1.76029058e-02  -5.40268456e-02  -2.22013942e-02   1.43961232e-02\n",
      "   4.83155259e-02  -1.29198512e-02   1.45267742e-02  -4.27570575e-02\n",
      "   1.67909642e-02   3.61778514e-02   7.36910149e-03  -2.87356322e-03\n",
      "  -8.12099694e-02   4.47849304e-02   4.38356164e-02   7.63960260e-03\n",
      "  -4.69476526e-02   3.70152934e-02   1.24081395e-02   3.53979354e-02\n",
      "  -6.07991805e-02  -2.51976676e-02  -8.57252101e-02   9.67673421e-03\n",
      "  -4.52195836e-02  -1.63975942e-02   1.30917470e-02  -1.06870824e-01\n",
      "  -1.08748778e-01  -1.61323387e-03  -3.82691007e-02   1.48074011e-02\n",
      "  -1.00952331e-02   4.22975848e-03   1.08644308e-02   1.42381312e-02\n",
      "   1.48074011e-02   5.14366923e-02  -1.09947989e-02  -4.26203701e-02\n",
      "  -1.40895718e-01  -1.18381800e-01   8.46149095e-03  -9.02464422e-02\n",
      "   4.21222849e-02  -8.54066986e-02  -4.32935623e-02  -8.72274143e-02\n",
      "  -3.73029655e-02   5.50300140e-02   4.72704961e-03  -4.40206054e-03\n",
      "  -2.74635152e-02  -1.38414217e-02   8.57658025e-02  -1.87856309e-02\n",
      "   5.92424051e-03  -6.07991805e-02  -2.07178165e-03  -2.00611133e-02\n",
      "  -1.76029058e-02   3.37508240e-02  -4.59540460e-02  -8.06107196e-02\n",
      "  -3.29564350e-02  -4.49012412e-02  -1.57210750e-02  -5.47427708e-02\n",
      "  -9.70646956e-02  -1.90631127e-02   2.15368931e-02  -4.00613053e-02\n",
      "   7.45160435e-02   4.42826610e-02   6.14495092e-02  -1.05190925e-02\n",
      "   3.26275715e-02   1.42381312e-02  -8.31940964e-03  -2.44618395e-02\n",
      "   4.29911259e-02  -4.08624008e-02   5.14366923e-02  -7.17404173e-02\n",
      "  -7.35942021e-02  -3.80743606e-02   1.87782020e-02   5.34687731e-02\n",
      "  -2.81748904e-02  -1.50815689e-01  -4.52783650e-02  -3.55468518e-02\n",
      "  -2.04678363e-02  -1.11921891e-01  -1.74569723e-02  -5.69131161e-02\n",
      "  -3.54751023e-02  -7.97179653e-02  -1.46689573e-02  -3.34091928e-02\n",
      "  -4.41374210e-02  -7.77628613e-03   1.00136705e-02   4.42720219e-02\n",
      "  -2.41429905e-02  -5.40024194e-02  -4.73816730e-02   3.26275715e-02\n",
      "   6.65268126e-02  -4.31368576e-02   1.00653241e-01   2.91572223e-02\n",
      "  -7.54254500e-02   3.82925625e-02  -1.02360292e-01   4.67819875e-02\n",
      "  -4.74189676e-02  -3.07217055e-02  -9.10992645e-04  -4.49706785e-02\n",
      "  -7.40769396e-02  -4.96240602e-02   9.76628275e-04  -3.45849802e-02\n",
      "  -6.46610205e-02   4.09187933e-02  -1.21592143e-01   4.96439045e-02\n",
      "  -8.04585970e-02  -2.96771954e-02   5.65658922e-03  -8.28900709e-02\n",
      "  -8.31952445e-02   3.86999036e-02   2.07209152e-02  -8.33389567e-02\n",
      "   1.54011136e-02   5.53244867e-02   1.95062455e-02   3.12571842e-02\n",
      "  -4.31368576e-02  -1.47455867e-02  -1.13680585e-02  -8.53757867e-02\n",
      "  -7.34791524e-02  -6.90615427e-02  -3.52905074e-02  -7.33686494e-03\n",
      "   9.76628275e-04  -5.24921483e-02  -5.27903469e-02  -1.05791234e-01\n",
      "   6.47823378e-02  -2.64705882e-02  -2.34604106e-02  -3.29595128e-02\n",
      "  -5.45634675e-02  -4.49012412e-02  -2.68258913e-02  -2.10927400e-02\n",
      "  -7.89154865e-02  -1.14710995e-01   3.13128992e-02   2.07234618e-02\n",
      "  -3.80743606e-02  -9.36510123e-03   1.98991334e-02   1.00397170e-01\n",
      "  -2.64980347e-02   7.36910149e-03   6.02913812e-02  -1.95631433e-02\n",
      "  -6.18661258e-02  -9.75827876e-03  -2.10177843e-02  -3.33976036e-02\n",
      "   7.49030681e-02  -5.72482991e-02  -4.45626871e-02   3.44754203e-02\n",
      "   1.41242938e-02   3.91120507e-03  -4.08075033e-02  -8.57252101e-02\n",
      "   8.46224236e-03  -4.48390828e-02  -4.11326002e-02  -6.79991758e-03\n",
      "  -6.08584241e-03  -7.87141974e-02   1.17924328e-02  -9.80274321e-02\n",
      "   4.42720219e-02   2.34709329e-02  -2.56478760e-02  -4.07584572e-02\n",
      "   4.57963090e-02   7.06006322e-03  -1.06689853e-01   9.64167357e-02\n",
      "  -1.75633461e-02   3.91618652e-02   2.70306798e-05   5.54642001e-02\n",
      "  -1.22080378e-01  -7.81112092e-02  -6.62638333e-02   6.40573019e-02\n",
      "  -2.84902547e-02  -6.45527417e-02   3.62362767e-02  -6.54420004e-02\n",
      "   1.28455108e-02  -1.42060242e-01   8.92494929e-03  -5.90902891e-02\n",
      "  -3.18771301e-02   2.19299377e-02  -4.08624008e-02  -2.15988020e-02\n",
      "   9.92907801e-03   2.07234618e-02  -6.26908357e-02   1.30090498e-02\n",
      "   9.07694456e-04  -4.07584572e-02  -1.76029058e-02  -9.40897394e-02\n",
      "  -1.62726961e-02   1.45267742e-02   5.54966602e-02  -2.87356322e-03\n",
      "   7.95604396e-02   1.43061516e-03  -5.23682949e-02   7.45834092e-02\n",
      "  -3.61088097e-02  -3.89061959e-02   1.23090562e-02   2.07787395e-02\n",
      "   1.17924328e-02  -5.75757576e-02  -6.62638333e-02   1.25833814e-01\n",
      "   7.09665387e-02  -6.45344024e-02  -2.71494709e-02   5.71173697e-02\n",
      "   4.35080507e-02  -1.12763581e-02   3.03531057e-02   6.72335994e-02\n",
      "   6.45711501e-02  -2.60735010e-02  -4.07584572e-02  -3.73561047e-02\n",
      "   4.72704961e-03   1.12237115e-02  -5.83996966e-03  -2.85882700e-02\n",
      "   1.01621331e-01  -4.77783086e-04   6.47452914e-02  -2.41429905e-02\n",
      "   4.30967871e-02  -3.55468518e-02  -3.10912985e-02   3.96644295e-02\n",
      "   2.89160842e-02  -6.77751912e-02  -1.57309166e-02  -9.03477144e-04\n",
      "   6.71662896e-04  -2.33906165e-02  -2.74171810e-02  -4.32935623e-02\n",
      "  -4.77783086e-04  -2.57347670e-02  -4.31654676e-03  -3.34091928e-02\n",
      "   3.12571842e-02  -9.63746660e-02   7.48435438e-03  -6.67284841e-02\n",
      "  -7.62676364e-02  -4.24400693e-02  -2.56478760e-02  -2.93683900e-02\n",
      "   2.61956136e-02  -2.37120307e-02  -2.29604299e-02  -4.54138548e-02\n",
      "   1.46674012e-02  -3.87632187e-02  -1.17382546e-01  -6.89505599e-02\n",
      "  -3.13862825e-03  -8.08154540e-04  -8.06107196e-02  -9.60714286e-03\n",
      "   3.32757752e-02  -3.45357143e-02  -2.66528210e-03  -6.07991805e-02\n",
      "  -5.28968103e-02  -5.00676133e-02  -7.41667710e-03  -7.33443779e-02\n",
      "  -4.00613053e-02   1.28371628e-01  -3.26162629e-02  -4.19740077e-02\n",
      "   1.98069853e-01  -2.66528210e-03  -3.42372673e-02  -7.21966206e-02\n",
      "  -5.43536701e-02   4.12168710e-02   4.02500000e-02  -6.69926692e-03\n",
      "  -7.17404173e-02   2.42089471e-02  -7.68541263e-02   2.75842853e-02\n",
      "  -4.71903983e-02  -3.26162629e-02  -3.29564350e-02  -1.30225421e-01\n",
      "  -1.18772095e-02   5.92424051e-03  -2.68258913e-02  -9.34788597e-02\n",
      "   4.64244020e-02  -5.84830287e-02  -4.08075033e-02  -8.12099694e-02\n",
      "   3.91120507e-03   3.63497603e-02   4.68539406e-02  -1.09036743e-01\n",
      "  -7.33686494e-03  -7.77592490e-02   4.34647705e-02  -8.13083698e-02\n",
      "  -9.72616633e-02  -2.56478760e-02   4.81563678e-02   5.06325865e-02\n",
      "  -5.75757576e-02  -1.71859296e-02   6.66435266e-03  -9.21956862e-03\n",
      "  -4.26203701e-02   1.08291666e-02  -9.07605581e-03   7.93764988e-02\n",
      "  -8.58977879e-02   6.60230352e-02  -4.35286086e-02   1.37088178e-02\n",
      "   2.02197951e-03   1.72863367e-02  -2.51976676e-02  -4.35286086e-02\n",
      "  -4.90776426e-02   1.01197563e-02   1.58761941e-02  -8.46950976e-03\n",
      "  -2.13813524e-02   1.43961232e-02  -1.88890346e-02  -7.10478767e-02\n",
      "  -1.18772095e-02  -1.14907256e-02  -1.88926174e-02   7.45834092e-02\n",
      "  -7.54254500e-02  -6.20311167e-02  -2.64980347e-02  -1.52300667e-01\n",
      "  -9.55784130e-02   4.97176281e-02   4.28122282e-02   1.34685733e-02\n",
      "  -1.34103853e-01  -2.72259014e-02   1.08644308e-02  -6.77751912e-02\n",
      "   2.69602041e-02  -2.13813524e-02   2.41300746e-02  -5.90902891e-02\n",
      "  -1.08924855e-01  -5.55925231e-02   4.82042230e-03  -9.33583960e-02\n",
      "  -1.29391625e-02  -4.01849949e-02  -1.75633461e-02  -1.05609095e-02\n",
      "   2.07787395e-02  -3.63404977e-02   1.98119874e-02   3.08920514e-02\n",
      "  -6.14631942e-02  -1.13680585e-02   3.44152777e-02  -1.67344173e-02\n",
      "  -4.64767616e-02   8.06111697e-02  -3.89061959e-02  -2.85569106e-02\n",
      "   7.47317139e-02   3.26275715e-02  -8.38618746e-03  -6.60187435e-02\n",
      "  -7.06867503e-02   2.52757995e-02  -7.15635333e-02   6.38053267e-02\n",
      "   6.53981677e-02   4.72704961e-03   3.38687628e-02  -6.10152715e-02\n",
      "  -1.04802317e-01   8.42633187e-02  -5.55925231e-02  -5.40268456e-02\n",
      "  -6.60187435e-02   5.61189993e-02  -9.24408924e-02   6.24619363e-02\n",
      "  -1.50386607e-02   7.59181813e-02  -3.26162629e-02  -1.39927865e-02\n",
      "   1.59774436e-02  -7.57205500e-02  -6.02043634e-02  -9.07605581e-03\n",
      "  -3.18771301e-02  -4.78285156e-02  -1.58699725e-02   2.65114998e-03\n",
      "   2.41300746e-02  -6.20760799e-02  -6.87846982e-02   4.54132366e-02\n",
      "  -2.78283875e-02  -8.73366834e-02  -4.55973694e-02  -4.59540460e-02\n",
      "  -6.26700277e-02   9.54643629e-02   1.95957520e-02   2.86567266e-03\n",
      "  -6.14631942e-02  -2.13380971e-02  -6.68677068e-03  -5.68429697e-02\n",
      "  -3.97863482e-03   1.17924328e-02  -4.17910448e-02   6.24864603e-02\n",
      "  -1.12763581e-02  -6.32616487e-02  -1.78808829e-01   2.61956136e-02\n",
      "   7.78932675e-02   2.63999456e-02   4.31435991e-02  -2.68258913e-02\n",
      "   2.69602041e-02  -4.71903983e-02  -4.81565866e-02  -3.70386509e-03\n",
      "   3.22984589e-02   2.52757995e-02  -2.68258913e-02  -2.74635152e-02\n",
      "   5.97427090e-02   7.48435438e-03   8.46947149e-02  -4.90776426e-02\n",
      "   9.92907801e-03   3.33970520e-02  -7.18120805e-03   3.12571842e-02\n",
      "   8.99929528e-02  -8.94177760e-03  -1.18772095e-02   1.30090498e-02\n",
      "  -5.09839625e-02  -2.92326533e-02  -1.00952331e-02  -1.32645172e-01\n",
      "   5.92424051e-03   2.15368931e-02   5.14391927e-02  -4.73816730e-02\n",
      "   4.63281951e-02   2.50748254e-02  -3.42891309e-02   2.41300746e-02\n",
      "   4.23780488e-02   1.98991334e-02  -7.77628613e-03  -5.45634675e-02\n",
      "   2.43091455e-02  -1.94007795e-02  -9.24611467e-02   3.91120507e-03\n",
      "   2.32715670e-02  -1.62726961e-02  -5.65173158e-02   6.71662896e-04\n",
      "  -8.06107196e-02   1.76258244e-01  -3.77296154e-02  -4.01849949e-02\n",
      "   2.07631874e-02  -3.29809725e-02  -4.77783086e-04  -7.43089331e-02\n",
      "  -9.51143802e-02  -1.06555779e-01   2.91572223e-02   5.12179208e-02\n",
      "  -2.40610329e-02  -8.04585970e-02  -6.76980901e-02  -4.77594706e-02\n",
      "  -5.67122542e-02   1.28278323e-01   5.29810812e-02  -4.00613053e-02\n",
      "  -6.81899068e-02  -2.72259014e-02  -1.14474141e-01  -7.77628613e-03\n",
      "   1.40986647e-02  -7.97203522e-02  -6.18661258e-02   7.95604396e-02\n",
      "   5.77362409e-02   2.59170654e-02   4.82042230e-03   2.88548787e-02\n",
      "   3.15770987e-02  -5.00676133e-02  -3.30225083e-02  -6.00125681e-02\n",
      "  -6.94463573e-02  -6.76011833e-02  -7.36646383e-02   7.93474488e-02\n",
      "  -8.08154540e-04  -2.57347670e-02   3.29731227e-02  -1.20132560e-02\n",
      "  -2.82288455e-02  -1.04304882e-01  -7.06867503e-02  -2.57689679e-02\n",
      "  -2.19977730e-02  -5.83996966e-03  -2.78283875e-02  -5.43536701e-02\n",
      "  -4.77594706e-02   4.63281951e-02  -8.76461937e-02   1.38557324e-01\n",
      "  -1.66170142e-02  -8.82795699e-02  -1.15334814e-02  -9.47209576e-02\n",
      "   8.42633187e-02  -1.87856309e-02   5.61189993e-02  -9.02842862e-02\n",
      "  -7.36646383e-02  -2.59037424e-02  -5.75757576e-02   6.96514012e-02\n",
      "  -1.01202338e-01  -1.06327538e-01  -4.23883279e-05  -3.92059553e-02\n",
      "   4.59316570e-02  -4.01849949e-02  -4.19740077e-02   3.33970520e-02\n",
      "  -1.86128677e-02   6.66435266e-03  -6.46610205e-02  -3.56444631e-02\n",
      "  -5.55875841e-02  -5.00752203e-02   2.14953271e-02   2.67491296e-02\n",
      "  -6.79991758e-03  -3.07713442e-02  -4.17910448e-02   3.77618597e-02\n",
      "   2.69602041e-02  -6.06131445e-02  -1.39927865e-02  -2.65424750e-02\n",
      "   1.62571703e-02  -2.59037424e-02  -1.62884755e-02  -2.21921820e-02\n",
      "  -1.01152437e-01  -7.14651202e-02   2.96454106e-02  -8.83043510e-02\n",
      "   2.02197951e-03   5.99086197e-02  -4.31654676e-03  -4.54138548e-02\n",
      "  -8.08154540e-04  -4.49012412e-02  -2.35042918e-02  -1.88890346e-02\n",
      "   1.02575674e-01   6.74203494e-02   9.53004694e-03  -5.27903469e-02\n",
      "  -4.42349400e-02   2.43010753e-02   8.92494929e-03  -2.29265506e-02\n",
      "   4.80087289e-02  -6.22449662e-02  -3.97863482e-03  -9.00764975e-02\n",
      "  -5.90902891e-02  -8.08191808e-02   2.88548787e-02   2.79010354e-03\n",
      "  -6.79991758e-03  -1.27951283e-01  -4.52195836e-02   4.80087289e-02\n",
      "   2.43789499e-02  -9.00764975e-02   2.43789499e-02   3.62362767e-02\n",
      "   5.00286007e-03  -1.25364940e-01   1.62085976e-02   3.14328808e-02\n",
      "   9.76628275e-04   1.90433609e-04  -7.44332759e-02  -7.97179653e-02\n",
      "  -1.62726961e-02  -2.64705882e-02   1.66677982e-02   3.61778514e-02\n",
      "  -1.62726961e-02  -1.05609095e-02   1.93707693e-02   1.76779829e-02\n",
      "   2.05090117e-01   2.63999456e-02   3.27944573e-02  -1.02008073e-01\n",
      "  -5.57690939e-02  -3.54751023e-02   1.83861083e-03  -1.57210750e-02\n",
      "  -2.93683900e-02  -6.32047062e-02  -2.52354674e-02  -1.17873158e-01\n",
      "   1.83861083e-03  -4.97533003e-02   3.03419336e-02  -3.57809791e-02\n",
      "  -5.22613065e-02  -2.64705882e-02  -5.43536701e-02  -1.00599180e-01\n",
      "   6.16209946e-04  -9.21956862e-03  -7.16151020e-03  -5.97315828e-03\n",
      "   1.81585678e-02  -3.87632187e-02   8.46224236e-03  -5.09839625e-02\n",
      "  -4.33482810e-02  -1.40435835e-02   8.37399381e-02   3.86999036e-02\n",
      "   2.50748254e-02   2.43010753e-02  -1.66946779e-02  -3.14646940e-02\n",
      "  -7.77628613e-03  -2.37120307e-02  -1.13198832e-01   2.99119196e-02\n",
      "  -2.18342466e-03   1.93707693e-02   1.46166414e-01  -9.02842862e-02\n",
      "   3.25219743e-02   5.42005420e-02   1.02571429e-01  -2.33769703e-03\n",
      "  -2.13813524e-02   2.41300746e-02   4.01057102e-03  -4.16497083e-02\n",
      "  -6.62672709e-02   1.20822977e-02   3.15519013e-02   1.06676613e-02\n",
      "   1.44676702e-01  -6.62672709e-02  -7.33443779e-02  -1.00952331e-02\n",
      "  -1.40556343e-02  -9.39709217e-02  -9.22728254e-02  -1.12189886e-01\n",
      "  -8.31940964e-03   4.09165303e-04   9.53004694e-03  -6.18661258e-02\n",
      "  -2.07178165e-03   4.03625501e-02  -8.80095923e-02   3.35756317e-02\n",
      "   8.99608866e-02  -1.18772095e-02   9.97319933e-02  -3.07095482e-02\n",
      "  -5.43536701e-02   6.33497046e-03  -6.18661258e-02   8.92494929e-03\n",
      "  -1.75633461e-02  -2.38807722e-02   1.01197563e-02   5.29827078e-02\n",
      "   2.85151741e-02   1.37738033e-02   2.43091455e-02  -2.82288455e-02\n",
      "   9.67673421e-03  -1.25512457e-02  -2.57347670e-02   4.83205708e-02\n",
      "  -8.06507559e-02  -1.02593947e-01  -9.78841127e-03  -2.10927400e-02\n",
      "  -1.29198512e-02   4.82042230e-03  -9.53291544e-02   1.02575674e-01\n",
      "  -4.49012412e-02  -2.37120307e-02   1.06755574e-01  -2.81748904e-02\n",
      "  -8.19014464e-02  -4.74459127e-02   4.82256283e-02   8.46224236e-03\n",
      "  -4.54138548e-02   5.71173697e-02   2.69602041e-02   7.40120095e-02\n",
      "  -7.34791524e-02   3.44152777e-02  -6.46610205e-02  -3.63404977e-02\n",
      "  -2.04678363e-02  -5.87591695e-02  -1.02071143e-01  -7.16151020e-03\n",
      "  -4.66278819e-03   6.79175118e-02   8.16605511e-03   2.61956136e-02\n",
      "   1.16357816e-02  -8.38618746e-03  -6.60187435e-02  -9.60714286e-03\n",
      "  -3.26162629e-02   3.82901699e-03  -2.19977730e-02  -6.20311167e-02\n",
      "  -3.74754839e-02  -3.92059553e-02   2.69602041e-02   9.65676304e-02\n",
      "   5.92424051e-03   1.57239714e-01  -5.42325255e-02  -5.39048941e-02\n",
      "  -4.08624008e-02  -4.35286086e-02  -2.37120307e-02   3.12571842e-02\n",
      "  -1.85066553e-02  -6.79991758e-03   1.71715090e-02   6.97415480e-02\n",
      "  -3.29659114e-02  -8.38618746e-03   5.24227235e-02   4.72704961e-03\n",
      "  -3.73029655e-02  -3.77296154e-02   2.88548787e-02  -2.33769703e-03\n",
      "  -1.40435835e-02   4.09551362e-02  -7.05799776e-02   8.73551804e-02\n",
      "   6.33497046e-03  -4.63860798e-02  -5.97315828e-03  -1.76041798e-02\n",
      "   1.00136705e-02  -4.93321863e-02   1.62085976e-02  -3.33976036e-02\n",
      "  -8.55910094e-02  -4.64767616e-02  -8.31952445e-02   3.79857469e-02\n",
      "  -7.10513153e-02   4.30967871e-02   6.62944407e-02   7.45834092e-02\n",
      "  -2.88777219e-02  -4.02021875e-02  -5.77894524e-02   2.69602041e-02\n",
      "  -5.49413735e-03   7.14959251e-02  -4.77783086e-04  -6.45344024e-02\n",
      "   4.37329034e-04  -4.24400693e-02   4.08033827e-02   5.47335661e-02\n",
      "   1.11342593e-01  -4.25690814e-02  -2.87356322e-03  -5.09865005e-02\n",
      "   4.81563678e-02  -4.41374210e-02  -5.94642857e-02  -5.44949670e-03\n",
      "  -4.75295204e-02   4.72968963e-02   4.30059007e-02   5.21433387e-03\n",
      "   6.71662896e-04  -9.24517422e-02  -2.65424750e-02  -5.00752203e-02\n",
      "  -4.80126864e-02  -1.39927865e-02   6.19765494e-03  -3.10912985e-02\n",
      "  -1.58699725e-02  -2.52354674e-02  -3.18771301e-02   5.98935816e-02\n",
      "   1.46674012e-02  -4.92619335e-02   6.29448568e-02  -1.07299965e-01\n",
      "  -1.32283096e-01  -4.14119360e-02  -5.31247518e-02   9.25484254e-02\n",
      "  -1.31241586e-01  -8.89417261e-02   3.26275715e-02  -2.80360800e-02\n",
      "   1.45267742e-02  -4.03794038e-02  -2.90236512e-02  -6.30668051e-02\n",
      "  -6.69926692e-03  -2.85656754e-02  -4.99855009e-02  -3.60182070e-02\n",
      "  -4.23559838e-02   4.41993153e-02   1.76884507e-02   2.11028588e-02\n",
      "  -6.71631053e-02  -1.85066553e-02  -2.34604106e-02  -8.43806731e-02\n",
      "   3.54620752e-02   3.61914143e-02  -1.20132560e-02  -2.81748904e-02\n",
      "  -5.49413735e-03  -6.62638333e-02   1.05993373e-01  -8.33389567e-02\n",
      "  -4.16497083e-02  -1.38414217e-02   4.80087289e-02  -1.76950096e-02\n",
      "  -9.07605581e-03  -4.40206054e-03   1.76884507e-02   5.46956139e-02\n",
      "  -4.71903983e-02  -4.60062728e-03  -7.41667710e-03   7.32551587e-03\n",
      "  -2.66528210e-03   3.14979602e-02   1.10989811e-01  -2.87265676e-02\n",
      "   1.27298444e-02  -2.40610329e-02   2.65360278e-03  -3.07217055e-02\n",
      "  -1.61323387e-03   3.14328808e-02  -3.10912985e-02   1.11342593e-01\n",
      "   2.87889261e-02   2.23405000e-02  -6.56488550e-02   5.14366923e-02\n",
      "  -2.81748904e-02   8.15169715e-02  -1.01152437e-01   2.42089471e-02\n",
      "  -5.40024194e-02  -4.38880495e-03  -2.37120307e-02  -1.76474271e-02\n",
      "  -1.16657240e-02  -4.60362363e-02   2.65114998e-03   2.24089636e-02\n",
      "  -2.40457541e-02  -1.09947989e-02  -7.33686494e-03   9.41502250e-03\n",
      "   5.51549320e-03  -1.38414217e-02   5.69734847e-02   2.91572223e-02\n",
      "  -5.55925231e-02  -2.41429905e-02   5.22099260e-02  -1.20132560e-02\n",
      "  -9.21956862e-03   2.79530201e-02   3.54620752e-02  -2.87265676e-02\n",
      "  -7.77628613e-03   5.60723003e-02   7.36910149e-03  -7.51471097e-02\n",
      "  -2.00082717e-02   3.93711425e-02  -2.44618395e-02  -2.96771954e-02\n",
      "  -6.15516063e-02   6.18279570e-02  -6.71631053e-02  -5.43536701e-02\n",
      "  -3.26162629e-02  -5.39048941e-02   7.06006322e-03  -9.07605581e-03\n",
      "   2.90415355e-02  -8.88666173e-02   1.87557833e-02   9.62399089e-02\n",
      "   4.57963090e-02  -7.21966206e-02  -7.58468835e-02   5.21433387e-03\n",
      "   1.95062455e-02  -2.33906165e-02   1.95062455e-02   6.24864603e-02]\n"
     ]
    }
   ],
   "source": [
    "# Hint: use the correct index\n",
    "first_add_health = add_health_networks[0]\n",
    "\n",
    "null_network_r = make_array()\n",
    "\n",
    "for _ in range(1000):\n",
    "    # shuffle the sex for the current network\n",
    "    cur_net = shuffle_attribute(first_add_health, 'sex')\n",
    "    # record the coefficient of the shuffled current network by appending it to the array\n",
    "    null_network_r = np.append(null_network_r, nx.attribute_assortativity_coefficient(cur_net, 'sex'))\n",
    "\n",
    "#print(len(null_network_r))\n",
    "print(null_network_r)"
   ]
  },
  {
   "cell_type": "code",
   "execution_count": 181,
   "metadata": {
    "deletable": false,
    "editable": false
   },
   "outputs": [
    {
     "data": {
      "text/html": [
       "<p><strong><pre style='display: inline;'>q8</pre></strong> passed! 🙌</p>"
      ],
      "text/plain": [
       "q8 results: All test cases passed!"
      ]
     },
     "execution_count": 181,
     "metadata": {},
     "output_type": "execute_result"
    }
   ],
   "source": [
    "grader.check(\"q8\")"
   ]
  },
  {
   "cell_type": "markdown",
   "metadata": {},
   "source": [
    "**Practice** Make a histogram of the `null_network_r` values. Identify value is the assortativity coefficient centered on."
   ]
  },
  {
   "cell_type": "code",
   "execution_count": 182,
   "metadata": {},
   "outputs": [
    {
     "data": {
      "image/png": "[encoded data removed]",
      "text/plain": [
       "<Figure size 600x400 with 1 Axes>"
      ]
     },
     "metadata": {},
     "output_type": "display_data"
    }
   ],
   "source": [
    "to_hist = Table().with_column('null_network_r', null_network_r)\n",
    "to_hist.hist()"
   ]
  },
  {
   "cell_type": "markdown",
   "metadata": {
    "deletable": false,
    "editable": false
   },
   "source": [
    "# Question 9: \n",
    "\n",
    "Now calculate the assortativity coefficient for the observed network (the first Add Health network) that you based the random networks on. Call this `observed_r`."
   ]
  },
  {
   "cell_type": "code",
   "execution_count": 183,
   "metadata": {
    "tags": []
   },
   "outputs": [
    {
     "data": {
      "text/plain": [
       "0.1420746545679521"
      ]
     },
     "execution_count": 183,
     "metadata": {},
     "output_type": "execute_result"
    }
   ],
   "source": [
    "observed_r = nx.attribute_assortativity_coefficient(first_add_health, 'sex')\n",
    "observed_r"
   ]
  },
  {
   "cell_type": "code",
   "execution_count": 184,
   "metadata": {
    "deletable": false,
    "editable": false
   },
   "outputs": [
    {
     "data": {
      "text/html": [
       "<p><strong><pre style='display: inline;'>q9</pre></strong> passed! 🚀</p>"
      ],
      "text/plain": [
       "q9 results: All test cases passed!"
      ]
     },
     "execution_count": 184,
     "metadata": {},
     "output_type": "execute_result"
    }
   ],
   "source": [
    "grader.check(\"q9\")"
   ]
  },
  {
   "cell_type": "markdown",
   "metadata": {
    "deletable": false,
    "editable": false
   },
   "source": [
    "<!-- BEGIN QUESTION -->\n",
    "\n",
    "# Question 10:\n",
    "\n",
    "Where in the null distribution does the observed assortativity coefficient fall? What does this suggest about how likely the observed value is to have been generated from the null model?"
   ]
  },
  {
   "cell_type": "markdown",
   "metadata": {},
   "source": [
    "_**The observed assortativity coefficient falls far to the right of the null distribution. This suggest that the observed value is highly unlikely to have been thanks to chance alone.**_"
   ]
  },
  {
   "cell_type": "markdown",
   "metadata": {
    "deletable": false,
    "editable": false
   },
   "source": [
    "<!-- END QUESTION -->\n",
    "\n",
    "<!-- BEGIN QUESTION -->\n",
    "\n",
    "# Question 11:\n",
    "We will base our null hypothesis on the null model. In words, describe what the null hypothesis should say about the network.<BR>"
   ]
  },
  {
   "cell_type": "markdown",
   "metadata": {},
   "source": [
    "_The null hypothesis should state something like: **There is no significant evidence of homophily in the Add Health networks.**_"
   ]
  },
  {
   "cell_type": "markdown",
   "metadata": {
    "deletable": false,
    "editable": false
   },
   "source": [
    "<!-- END QUESTION -->\n",
    "\n",
    "<!-- BEGIN QUESTION -->\n",
    "\n",
    "# Question 12:\n",
    "We will base our alternative hypothesis on the observed model (Add Health), in words, describe what the alternative hypothesis says about the network."
   ]
  },
  {
   "cell_type": "markdown",
   "metadata": {},
   "source": [
    "_The alternativce hypothesis should state something like: **There is significant evidence of homphily in the Add Health networks.**_"
   ]
  },
  {
   "cell_type": "markdown",
   "metadata": {
    "deletable": false,
    "editable": false
   },
   "source": [
    "<!-- END QUESTION -->\n",
    "\n",
    "**Practice** Now calculate an empirical $p$ value based on your null and alternative hypotheses."
   ]
  },
  {
   "cell_type": "code",
   "execution_count": 185,
   "metadata": {},
   "outputs": [
    {
     "data": {
      "text/plain": [
       "0.0060000000000000001"
      ]
     },
     "execution_count": 185,
     "metadata": {},
     "output_type": "execute_result"
    }
   ],
   "source": [
    "emp_p_value = np.mean(null_network_r >= observed_r)\n",
    "emp_p_value"
   ]
  },
  {
   "cell_type": "markdown",
   "metadata": {
    "deletable": false,
    "editable": false
   },
   "source": [
    "<!-- BEGIN QUESTION -->\n",
    "\n",
    "# Question 13:\n",
    "What do you conclude about homophily by sex in this network from the empirical $p$ value above, assuming significance level is at the conventional 0.05?"
   ]
  },
  {
   "cell_type": "markdown",
   "metadata": {},
   "source": [
    "_**A p-value of 0.001 is much below the 0.05 significance level, demonstrating that there is significant evidence of homphily in the Add Health networks.**_"
   ]
  },
  {
   "cell_type": "markdown",
   "metadata": {
    "deletable": false,
    "editable": false
   },
   "source": [
    "<!-- END QUESTION -->\n",
    "\n",
    "### Optional footnote\n",
    "\n",
    "To see why the simple null model we discussed in lecture implies that the average degree of girls and boys is the same, let's start by recalling that the average degree among girls can be written as\n",
    "\n",
    "$$\n",
    "\\text{avg. degree among girls} = \\frac{\\text{sum of girls' degrees}}{\\text{number of girls}}\n",
    "$$\n",
    "\n",
    "and a similar expression holds for the average degree among boys.\n",
    "\n",
    "Now let's think about how much each of the three types of edges (b-b, b-g, and g-g) will add to the total degrees:\n",
    "\n",
    "| edge type | probability | added to boys' total degree | added to girls' total degree |\n",
    "|-----------|-------------| -----------------|---------------------------|\n",
    "| b-b | $p^2$ |  2 | 0 |\n",
    "| b-g | $2pq$ | 1 | 1 |\n",
    "| g-g | $q^2$  | 0 | 2 |\n",
    "\n",
    "Using the table above, we can determine the expected total degree of girls under this model: if we draw $k$ degrees in total, then we expect $q^2 k$ g-g edges and $2pq k$ g-b edges. So we have\n",
    "\n",
    "$$\n",
    "\\text{expected total girls' degree} = 2 q^2 k + 2pqk = 2qk(q + p) = 2qk.\n",
    "$$\n",
    "\n",
    "The last step follows because $q = 1-p$, so that $q+p = 1$.\n",
    "To calculate, the average degree among girls, we need to divide this total degree by the number of girls. If there are $N$ people in the population, then we expect $Nq$ to be girls (since $q$ is the proportion of the population that is girls). So this means\n",
    "\n",
    "$$\n",
    "\\text{expected avg. degree among girls} = \\frac{2qk}{Nq} = \\frac{2k}{N}.\n",
    "$$\n",
    "\n",
    "\n",
    "Using the same logic, we can determine that \n",
    "\n",
    "$$\n",
    "\\text{expected total boys' degree} = 2 p^2 k + 2pqk = 2pk(q + p) = 2pk.\n",
    "$$\n",
    "\n",
    "and so\n",
    "\n",
    "$$\n",
    "\\text{expected avg. degree among boys} = \\frac{2pk}{Np} = \\frac{2k}{N}.\n",
    "$$\n",
    "\n",
    "This is the same as the expected average degree among girls.\n"
   ]
  },
  {
   "cell_type": "markdown",
   "metadata": {},
   "source": [
    "### Answer to Practice Question"
   ]
  },
  {
   "cell_type": "markdown",
   "metadata": {},
   "source": [
    "```\n",
    "          degree  group\n",
    "  node 1    1     blue\n",
    "  node 2    2     red\n",
    "  node 3    5     blue\n",
    "  node 4    1     red\n",
    "  node 5    2     blue\n",
    "  node 6    1     red\n",
    "  node 7    2     red\n",
    "  node 8    2     blue\n",
    "```"
   ]
  },
  {
   "cell_type": "markdown",
   "metadata": {},
   "source": [
    "Stub Counts:\n",
    "\n",
    "```\n",
    "        blue  red\n",
    "  blue   4     6\n",
    "  red    6     0\n",
    "```"
   ]
  },
  {
   "cell_type": "markdown",
   "metadata": {},
   "source": [
    "Stub Totals:\n",
    "\n",
    "```\n",
    "        total degree  a_i\n",
    "  blue       10       10/16\n",
    "  red        6        6/16\n",
    "```"
   ]
  },
  {
   "cell_type": "markdown",
   "metadata": {},
   "source": [
    "$e_{ij}$ MATRIX:\n",
    "    \n",
    "```\n",
    "        blue  red\n",
    "  blue  4/16  6/16\n",
    "  red   6/16  0\n",
    "```"
   ]
  },
  {
   "cell_type": "markdown",
   "metadata": {},
   "source": [
    "**ANSWER:** assortativity coefficient  𝑟  = [((4/16) + 0) - (10/16)^2 - (6/16)^2] / [1 - (10/16)^2 - (6/16)^2] = -0.6"
   ]
  },
  {
   "cell_type": "markdown",
   "metadata": {
    "deletable": false,
    "editable": false
   },
   "source": [
    "---\n",
    "\n",
    "To double-check your work, the cell below will rerun all of the autograder tests."
   ]
  },
  {
   "cell_type": "code",
   "execution_count": 186,
   "metadata": {
    "deletable": false,
    "editable": false
   },
   "outputs": [
    {
     "data": {
      "text/plain": [
       "q1 results: All test cases passed!\n",
       "\n",
       "q3 results: All test cases passed!\n",
       "\n",
       "q4 results: All test cases passed!\n",
       "\n",
       "q5 results: All test cases passed!\n",
       "\n",
       "q6 results: All test cases passed!\n",
       "\n",
       "q7 results: All test cases passed!\n",
       "\n",
       "q8 results: All test cases passed!\n",
       "\n",
       "q9 results: All test cases passed!"
      ]
     },
     "execution_count": 186,
     "metadata": {},
     "output_type": "execute_result"
    }
   ],
   "source": [
    "grader.check_all()"
   ]
  },
  {
   "cell_type": "markdown",
   "metadata": {
    "deletable": false,
    "editable": false
   },
   "source": [
    "## Submission\n",
    "\n",
    "Make sure you have run all cells in your notebook in order before running the cell below, so that all images/graphs appear in the output. The cell below will generate a zip file for you to submit. **Please save before exporting!**\n",
    "\n",
    "Please upload the .zip file to Gradescope."
   ]
  },
  {
   "cell_type": "code",
   "execution_count": 187,
   "metadata": {
    "deletable": false,
    "editable": false
   },
   "outputs": [
    {
     "name": "stdout",
     "output_type": "stream",
     "text": [
      "Running your submission against local test cases...\n",
      "\n",
      "\n",
      "\n",
      "Your submission received the following results when run against available test cases:\n",
      "\n",
      "    q1 results: All test cases passed!\n",
      "\n",
      "    q3 results: All test cases passed!\n",
      "\n",
      "    q4 results: All test cases passed!\n",
      "\n",
      "    q5 results: All test cases passed!\n",
      "\n",
      "    q6 results: All test cases passed!\n",
      "\n",
      "    q7 results: All test cases passed!\n",
      "\n",
      "    q8 results: All test cases passed!\n",
      "\n",
      "    q9 results: All test cases passed!\n"
     ]
    },
    {
     "data": {
      "text/html": [
       "\n",
       "            <p>Your submission has been exported. Click <a href=\"lab03_homophily_2024_09_23T13_26_17_518306.zip\" download=\"lab03_homophily_2024_09_23T13_26_17_518306.zip\" target=\"_blank\">here</a>\n",
       "            to download the zip file.</p>\n",
       "            "
      ],
      "text/plain": [
       "<IPython.core.display.HTML object>"
      ]
     },
     "metadata": {},
     "output_type": "display_data"
    }
   ],
   "source": [
    "# Save your notebook first, then run this cell to export your submission.\n",
    "grader.export(run_tests=True)"
   ]
  },
  {
   "cell_type": "markdown",
   "metadata": {},
   "source": [
    " "
   ]
  }
 ],
 "metadata": {
  "anaconda-cloud": {},
  "kernelspec": {
   "display_name": "Python 3 (ipykernel)",
   "language": "python",
   "name": "python3"
  },
  "language_info": {
   "codemirror_mode": {
    "name": "ipython",
    "version": 3
   },
   "file_extension": ".py",
   "mimetype": "text/x-python",
   "name": "python",
   "nbconvert_exporter": "python",
   "pygments_lexer": "ipython3",
   "version": "3.11.10"
  },
  "otter": {
   "OK_FORMAT": true,
   "tests": {
    "q1": {
     "name": "q1",
     "points": 1,
     "suites": [
      {
       "cases": [
        {
         "code": ">>> np.isclose(len(test.nodes()), 8)\nTrue",
         "hidden": false,
         "locked": false
        },
        {
         "code": ">>> np.isclose(len(test.edges()), 8)\nTrue",
         "hidden": false,
         "locked": false
        }
       ],
       "scored": true,
       "setup": "",
       "teardown": "",
       "type": "doctest"
      }
     ]
    },
    "q3": {
     "name": "q3",
     "points": 1,
     "suites": [
      {
       "cases": [
        {
         "code": ">>> np.isclose(q3, (((10/16) + (4/16)) - (11/16)**2 - (5/16)**2)/(1-  (11/16)**2 - (5/16)**2), rtol = 0.01)\nTrue",
         "hidden": false,
         "locked": false
        }
       ],
       "scored": true,
       "setup": "",
       "teardown": "",
       "type": "doctest"
      }
     ]
    },
    "q4": {
     "name": "q4",
     "points": 1,
     "suites": [
      {
       "cases": [
        {
         "code": ">>> np.isclose(q4, 0.709, atol = 0.01)\nTrue",
         "hidden": false,
         "locked": false
        }
       ],
       "scored": true,
       "setup": "",
       "teardown": "",
       "type": "doctest"
      }
     ]
    },
    "q5": {
     "name": "q5",
     "points": 1,
     "suites": [
      {
       "cases": [
        {
         "code": ">>> np.isclose(q5, 0.6)\nTrue",
         "hidden": false,
         "locked": false
        }
       ],
       "scored": true,
       "setup": "",
       "teardown": "",
       "type": "doctest"
      }
     ]
    },
    "q6": {
     "name": "q6",
     "points": 1,
     "suites": [
      {
       "cases": [
        {
         "code": ">>> len(add_health_r) == 82\nTrue",
         "hidden": false,
         "locked": false
        },
        {
         "code": ">>> np.isclose(np.mean(add_health_r), 0.128, rtol = 0.01)\nTrue",
         "hidden": false,
         "locked": false
        }
       ],
       "scored": true,
       "setup": "",
       "teardown": "",
       "type": "doctest"
      }
     ]
    },
    "q7": {
     "name": "q7",
     "points": 1,
     "suites": [
      {
       "cases": [
        {
         "code": ">>> np.isclose(q7, 0.142,rtol = 0.01)\nTrue",
         "hidden": false,
         "locked": false
        }
       ],
       "scored": true,
       "setup": "",
       "teardown": "",
       "type": "doctest"
      }
     ]
    },
    "q8": {
     "name": "q8",
     "points": 1,
     "suites": [
      {
       "cases": [
        {
         "code": ">>> len(null_network_r) == 1000\nTrue",
         "hidden": false,
         "locked": false
        },
        {
         "code": ">>> np.isclose(np.mean(null_network_r), -0, atol = 0.1)\nTrue",
         "hidden": false,
         "locked": false
        }
       ],
       "scored": true,
       "setup": "",
       "teardown": "",
       "type": "doctest"
      }
     ]
    },
    "q9": {
     "name": "q9",
     "points": 1,
     "suites": [
      {
       "cases": [
        {
         "code": ">>> np.isclose(observed_r, 0.142, rtol = 0.01)\nTrue",
         "hidden": false,
         "locked": false
        }
       ],
       "scored": true,
       "setup": "",
       "teardown": "",
       "type": "doctest"
      }
     ]
    }
   }
  }
 },
 "nbformat": 4,
 "nbformat_minor": 4
}
