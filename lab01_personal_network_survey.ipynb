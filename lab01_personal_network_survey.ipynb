{
 "cells": [
  {
   "cell_type": "code",
   "execution_count": 59,
   "metadata": {
    "deletable": false,
    "editable": false
   },
   "outputs": [],
   "source": [
    "# Initialize Otter\n",
    "import otter\n",
    "grader = otter.Notebook(\"lab01_personal_network_survey.ipynb\")"
   ]
  },
  {
   "cell_type": "code",
   "execution_count": 60,
   "metadata": {},
   "outputs": [
    {
     "name": "stdout",
     "output_type": "stream",
     "text": [
      "Requirement already satisfied: pandoc in /srv/conda/lib/python3.11/site-packages (2.4)\n",
      "Requirement already satisfied: plumbum in /srv/conda/lib/python3.11/site-packages (from pandoc) (1.8.3)\n",
      "Requirement already satisfied: ply in /srv/conda/lib/python3.11/site-packages (from pandoc) (3.11)\n"
     ]
    }
   ],
   "source": [
    "!pip install --upgrade pandoc"
   ]
  },
  {
   "cell_type": "code",
   "execution_count": 61,
   "metadata": {},
   "outputs": [],
   "source": [
    "from IPython.core.display import HTML\n",
    "from datascience import *\n",
    "from scipy.stats import chi2_contingency\n",
    "\n",
    "import matplotlib\n",
    "matplotlib.use('Agg')\n",
    "%matplotlib inline\n",
    "import matplotlib.pyplot as plt\n",
    "import numpy as np\n",
    "import pandas as pd\n",
    "plt.style.use('fivethirtyeight')\n",
    "import warnings\n",
    "warnings.simplefilter('ignore', FutureWarning)"
   ]
  },
  {
   "cell_type": "markdown",
   "metadata": {},
   "source": [
    "# Lab 1: Personal Network Surveys"
   ]
  },
  {
   "cell_type": "markdown",
   "metadata": {},
   "source": [
    "In this lab, we will analyze some data from the [General Social Survey](http://gss.norc.org/) (GSS).\n",
    "The GSS is the survey that was the basis of the debate over whether or not Americans are becoming more socially isolated, which we discussed in class."
   ]
  },
  {
   "cell_type": "code",
   "execution_count": 62,
   "metadata": {},
   "outputs": [
    {
     "data": {
      "text/plain": [
       "'/home/jovyan/demog180-fa2024/labs/lab01'"
      ]
     },
     "execution_count": 62,
     "metadata": {},
     "output_type": "execute_result"
    }
   ],
   "source": [
    "import os\n",
    "os.getcwd()"
   ]
  },
  {
   "cell_type": "markdown",
   "metadata": {},
   "source": [
    "The file `GSS.csv` has an extract from the GSS which we will analyze today.\n",
    "\n",
    "Here is the [codebook](http://gss.norc.org/documents/codebook/GSS_Codebook.pdf) for the entire GSS. Of course, the GSS is huge, so you will have to search through for the variable names included in this extract. (Don't do this by hand -- use your pdf viewer's search function.)"
   ]
  },
  {
   "cell_type": "markdown",
   "metadata": {},
   "source": [
    "Read the GSS extract into a Table called `gss_data`."
   ]
  },
  {
   "cell_type": "code",
   "execution_count": 63,
   "metadata": {},
   "outputs": [],
   "source": [
    "gss_data = Table.read_table('GSS.csv')\n"
   ]
  },
  {
   "cell_type": "markdown",
   "metadata": {},
   "source": [
    "Let's first take a look at its contents:"
   ]
  },
  {
   "cell_type": "code",
   "execution_count": 64,
   "metadata": {},
   "outputs": [
    {
     "data": {
      "text/html": [
       "<table border=\"1\" class=\"dataframe\">\n",
       "    <thead>\n",
       "        <tr>\n",
       "            <th>year</th> <th>id</th> <th>marital</th> <th>age</th> <th>numgiven</th> <th>sex1</th> <th>sex2</th> <th>sex3</th> <th>sex4</th> <th>sex5</th> <th>spouse1</th> <th>spouse2</th> <th>spouse3</th> <th>spouse4</th> <th>spouse5</th> <th>age1</th> <th>age2</th> <th>age3</th> <th>age4</th> <th>age5</th>\n",
       "        </tr>\n",
       "    </thead>\n",
       "    <tbody>\n",
       "        <tr>\n",
       "            <td>1972</td> <td>1   </td> <td>5      </td> <td>23  </td> <td>-1      </td> <td>0   </td> <td>0   </td> <td>0   </td> <td>0   </td> <td>0   </td> <td>0      </td> <td>0      </td> <td>0      </td> <td>0      </td> <td>0      </td> <td>-1  </td> <td>-1  </td> <td>-1  </td> <td>-1  </td> <td>-1  </td>\n",
       "        </tr>\n",
       "        <tr>\n",
       "            <td>1972</td> <td>2   </td> <td>1      </td> <td>70  </td> <td>-1      </td> <td>0   </td> <td>0   </td> <td>0   </td> <td>0   </td> <td>0   </td> <td>0      </td> <td>0      </td> <td>0      </td> <td>0      </td> <td>0      </td> <td>-1  </td> <td>-1  </td> <td>-1  </td> <td>-1  </td> <td>-1  </td>\n",
       "        </tr>\n",
       "        <tr>\n",
       "            <td>1972</td> <td>3   </td> <td>1      </td> <td>48  </td> <td>-1      </td> <td>0   </td> <td>0   </td> <td>0   </td> <td>0   </td> <td>0   </td> <td>0      </td> <td>0      </td> <td>0      </td> <td>0      </td> <td>0      </td> <td>-1  </td> <td>-1  </td> <td>-1  </td> <td>-1  </td> <td>-1  </td>\n",
       "        </tr>\n",
       "        <tr>\n",
       "            <td>1972</td> <td>4   </td> <td>1      </td> <td>27  </td> <td>-1      </td> <td>0   </td> <td>0   </td> <td>0   </td> <td>0   </td> <td>0   </td> <td>0      </td> <td>0      </td> <td>0      </td> <td>0      </td> <td>0      </td> <td>-1  </td> <td>-1  </td> <td>-1  </td> <td>-1  </td> <td>-1  </td>\n",
       "        </tr>\n",
       "        <tr>\n",
       "            <td>1972</td> <td>5   </td> <td>1      </td> <td>61  </td> <td>-1      </td> <td>0   </td> <td>0   </td> <td>0   </td> <td>0   </td> <td>0   </td> <td>0      </td> <td>0      </td> <td>0      </td> <td>0      </td> <td>0      </td> <td>-1  </td> <td>-1  </td> <td>-1  </td> <td>-1  </td> <td>-1  </td>\n",
       "        </tr>\n",
       "        <tr>\n",
       "            <td>1972</td> <td>6   </td> <td>5      </td> <td>26  </td> <td>-1      </td> <td>0   </td> <td>0   </td> <td>0   </td> <td>0   </td> <td>0   </td> <td>0      </td> <td>0      </td> <td>0      </td> <td>0      </td> <td>0      </td> <td>-1  </td> <td>-1  </td> <td>-1  </td> <td>-1  </td> <td>-1  </td>\n",
       "        </tr>\n",
       "        <tr>\n",
       "            <td>1972</td> <td>7   </td> <td>3      </td> <td>28  </td> <td>-1      </td> <td>0   </td> <td>0   </td> <td>0   </td> <td>0   </td> <td>0   </td> <td>0      </td> <td>0      </td> <td>0      </td> <td>0      </td> <td>0      </td> <td>-1  </td> <td>-1  </td> <td>-1  </td> <td>-1  </td> <td>-1  </td>\n",
       "        </tr>\n",
       "        <tr>\n",
       "            <td>1972</td> <td>8   </td> <td>5      </td> <td>27  </td> <td>-1      </td> <td>0   </td> <td>0   </td> <td>0   </td> <td>0   </td> <td>0   </td> <td>0      </td> <td>0      </td> <td>0      </td> <td>0      </td> <td>0      </td> <td>-1  </td> <td>-1  </td> <td>-1  </td> <td>-1  </td> <td>-1  </td>\n",
       "        </tr>\n",
       "        <tr>\n",
       "            <td>1972</td> <td>9   </td> <td>5      </td> <td>21  </td> <td>-1      </td> <td>0   </td> <td>0   </td> <td>0   </td> <td>0   </td> <td>0   </td> <td>0      </td> <td>0      </td> <td>0      </td> <td>0      </td> <td>0      </td> <td>-1  </td> <td>-1  </td> <td>-1  </td> <td>-1  </td> <td>-1  </td>\n",
       "        </tr>\n",
       "        <tr>\n",
       "            <td>1972</td> <td>10  </td> <td>1      </td> <td>30  </td> <td>-1      </td> <td>0   </td> <td>0   </td> <td>0   </td> <td>0   </td> <td>0   </td> <td>0      </td> <td>0      </td> <td>0      </td> <td>0      </td> <td>0      </td> <td>-1  </td> <td>-1  </td> <td>-1  </td> <td>-1  </td> <td>-1  </td>\n",
       "        </tr>\n",
       "    </tbody>\n",
       "</table>\n",
       "<p>... (59589 rows omitted)</p>"
      ],
      "text/plain": [
       "year | id   | marital | age  | numgiven | sex1 | sex2 | sex3 | sex4 | sex5 | spouse1 | spouse2 | spouse3 | spouse4 | spouse5 | age1 | age2 | age3 | age4 | age5\n",
       "1972 | 1    | 5       | 23   | -1       | 0    | 0    | 0    | 0    | 0    | 0       | 0       | 0       | 0       | 0       | -1   | -1   | -1   | -1   | -1\n",
       "1972 | 2    | 1       | 70   | -1       | 0    | 0    | 0    | 0    | 0    | 0       | 0       | 0       | 0       | 0       | -1   | -1   | -1   | -1   | -1\n",
       "1972 | 3    | 1       | 48   | -1       | 0    | 0    | 0    | 0    | 0    | 0       | 0       | 0       | 0       | 0       | -1   | -1   | -1   | -1   | -1\n",
       "1972 | 4    | 1       | 27   | -1       | 0    | 0    | 0    | 0    | 0    | 0       | 0       | 0       | 0       | 0       | -1   | -1   | -1   | -1   | -1\n",
       "1972 | 5    | 1       | 61   | -1       | 0    | 0    | 0    | 0    | 0    | 0       | 0       | 0       | 0       | 0       | -1   | -1   | -1   | -1   | -1\n",
       "1972 | 6    | 5       | 26   | -1       | 0    | 0    | 0    | 0    | 0    | 0       | 0       | 0       | 0       | 0       | -1   | -1   | -1   | -1   | -1\n",
       "1972 | 7    | 3       | 28   | -1       | 0    | 0    | 0    | 0    | 0    | 0       | 0       | 0       | 0       | 0       | -1   | -1   | -1   | -1   | -1\n",
       "1972 | 8    | 5       | 27   | -1       | 0    | 0    | 0    | 0    | 0    | 0       | 0       | 0       | 0       | 0       | -1   | -1   | -1   | -1   | -1\n",
       "1972 | 9    | 5       | 21   | -1       | 0    | 0    | 0    | 0    | 0    | 0       | 0       | 0       | 0       | 0       | -1   | -1   | -1   | -1   | -1\n",
       "1972 | 10   | 1       | 30   | -1       | 0    | 0    | 0    | 0    | 0    | 0       | 0       | 0       | 0       | 0       | -1   | -1   | -1   | -1   | -1\n",
       "... (59589 rows omitted)"
      ]
     },
     "execution_count": 64,
     "metadata": {},
     "output_type": "execute_result"
    }
   ],
   "source": [
    "gss_data"
   ]
  },
  {
   "cell_type": "markdown",
   "metadata": {
    "deletable": false,
    "editable": false
   },
   "source": [
    "## Question 1:\n",
    "How many rows and how many columns does `gss_data` have? \n",
    "\n",
    "*Hint: the `Table` object has two attributes, `num_columns` and `num_rows`.*"
   ]
  },
  {
   "cell_type": "code",
   "execution_count": 65,
   "metadata": {
    "tags": []
   },
   "outputs": [
    {
     "name": "stdout",
     "output_type": "stream",
     "text": [
      "num rows:  59599\n",
      "num cols:  20\n"
     ]
    }
   ],
   "source": [
    "gss_number_of_rows = gss_data.num_rows\n",
    "gss_number_of_cols = gss_data.num_columns\n",
    "\n",
    "print(\"num rows: \", gss_number_of_rows)\n",
    "print(\"num cols: \", gss_number_of_cols)"
   ]
  },
  {
   "cell_type": "code",
   "execution_count": 66,
   "metadata": {
    "deletable": false,
    "editable": false
   },
   "outputs": [
    {
     "data": {
      "text/html": [
       "<p><strong><pre style='display: inline;'>q1</pre></strong> passed! ✨</p>"
      ],
      "text/plain": [
       "q1 results: All test cases passed!"
      ]
     },
     "execution_count": 66,
     "metadata": {},
     "output_type": "execute_result"
    }
   ],
   "source": [
    "grader.check(\"q1\")"
   ]
  },
  {
   "cell_type": "markdown",
   "metadata": {
    "deletable": false,
    "editable": false
   },
   "source": [
    "## Question 2:\n",
    "What range of years is covered by this dataset? Answer this by finding the largest and smallest year. \n",
    "\n",
    "_Hint: You can use the functions max and min that we introduced back in Lab 0_"
   ]
  },
  {
   "cell_type": "code",
   "execution_count": 67,
   "metadata": {
    "tags": []
   },
   "outputs": [
    {
     "name": "stdout",
     "output_type": "stream",
     "text": [
      "earliest year:  1972\n",
      "latest year:  2014\n"
     ]
    }
   ],
   "source": [
    "largest_year = max(gss_data.column(\"year\"))\n",
    "smallest_year = min(gss_data.column(\"year\"))\n",
    "\n",
    "print(\"earliest year: \", smallest_year)\n",
    "print(\"latest year: \", largest_year)"
   ]
  },
  {
   "cell_type": "code",
   "execution_count": 68,
   "metadata": {
    "deletable": false,
    "editable": false
   },
   "outputs": [
    {
     "data": {
      "text/html": [
       "<p><strong><pre style='display: inline;'>q2</pre></strong> passed! 🎉</p>"
      ],
      "text/plain": [
       "q2 results: All test cases passed!"
      ]
     },
     "execution_count": 68,
     "metadata": {},
     "output_type": "execute_result"
    }
   ],
   "source": [
    "grader.check(\"q2\")"
   ]
  },
  {
   "cell_type": "markdown",
   "metadata": {},
   "source": [
    "In the GSS, we are interested in one question that measures social networks, namely, Question 333: *From time to time, most people discuss important matters with other people. Looking back over the last six months - who are the people with whom\n",
    "you discussed matters important to you?* (GSS Codebook, p. 572). \n",
    "\n",
    " It turns out that this question was only asked of the survey respondents in 1985 and 2004. In order to continue with our analysis, we will pick out only the rows of the dataset that correspond to the years we are interested in."
   ]
  },
  {
   "cell_type": "markdown",
   "metadata": {
    "deletable": false,
    "editable": false
   },
   "source": [
    "## Question 3:\n",
    "Make two new datasets: `gss_1985` and `gss_2004` which have only the responses from 1985 and 2004, respectively.\n",
    "\n",
    "*Hint: use functions `Table.where` and `are.equal_to(...)`*"
   ]
  },
  {
   "cell_type": "code",
   "execution_count": 69,
   "metadata": {
    "tags": []
   },
   "outputs": [],
   "source": [
    "gss_1985 = gss_data.where(\"year\", are.equal_to(1985))\n",
    "gss_2004 = gss_data.where(\"year\", are.equal_to(2004))"
   ]
  },
  {
   "cell_type": "code",
   "execution_count": 70,
   "metadata": {
    "deletable": false,
    "editable": false
   },
   "outputs": [
    {
     "data": {
      "text/html": [
       "<p><strong><pre style='display: inline;'>q3</pre></strong> passed! 🚀</p>"
      ],
      "text/plain": [
       "q3 results: All test cases passed!"
      ]
     },
     "execution_count": 70,
     "metadata": {},
     "output_type": "execute_result"
    }
   ],
   "source": [
    "grader.check(\"q3\")"
   ]
  },
  {
   "cell_type": "markdown",
   "metadata": {
    "deletable": false,
    "editable": false
   },
   "source": [
    "## Question 4: \n",
    "How many responses are there from 1985, and how many from 2004? "
   ]
  },
  {
   "cell_type": "code",
   "execution_count": 71,
   "metadata": {
    "tags": []
   },
   "outputs": [
    {
     "name": "stdout",
     "output_type": "stream",
     "text": [
      "1534\n",
      "2812\n"
     ]
    }
   ],
   "source": [
    "responses_from_1985 = np.count_nonzero(gss_1985.column(\"age\"))\n",
    "responses_from_2004 = np.count_nonzero(gss_2004.column(\"age\"))\n",
    "\n",
    "print(responses_from_1985)\n",
    "print(responses_from_2004)"
   ]
  },
  {
   "cell_type": "code",
   "execution_count": 72,
   "metadata": {
    "deletable": false,
    "editable": false
   },
   "outputs": [
    {
     "data": {
      "text/html": [
       "<p><strong><pre style='display: inline;'>q4</pre></strong> passed! 🚀</p>"
      ],
      "text/plain": [
       "q4 results: All test cases passed!"
      ]
     },
     "execution_count": 72,
     "metadata": {},
     "output_type": "execute_result"
    }
   ],
   "source": [
    "grader.check(\"q4\")"
   ]
  },
  {
   "cell_type": "markdown",
   "metadata": {
    "deletable": false,
    "editable": false
   },
   "source": [
    "## Question 5:\n",
    "We are interested in how many people survey respondents said that they discussed important matters with. That will give us information about the sizes of their personal networks.\n",
    "\n",
    "Make a table of the values in the `numgiven` column for each year. This tables should show the possible options for `numgiven` and how often that response occurred.\n",
    "\n",
    "*Hint: use the function `Table.group`.*"
   ]
  },
  {
   "cell_type": "code",
   "execution_count": 73,
   "metadata": {
    "tags": []
   },
   "outputs": [
    {
     "data": {
      "text/html": [
       "<table border=\"1\" class=\"dataframe\">\n",
       "    <thead>\n",
       "        <tr>\n",
       "            <th>numgiven</th> <th>count</th>\n",
       "        </tr>\n",
       "    </thead>\n",
       "    <tbody>\n",
       "        <tr>\n",
       "            <td>0       </td> <td>136  </td>\n",
       "        </tr>\n",
       "        <tr>\n",
       "            <td>1       </td> <td>228  </td>\n",
       "        </tr>\n",
       "        <tr>\n",
       "            <td>2       </td> <td>235  </td>\n",
       "        </tr>\n",
       "        <tr>\n",
       "            <td>3       </td> <td>321  </td>\n",
       "        </tr>\n",
       "        <tr>\n",
       "            <td>4       </td> <td>233  </td>\n",
       "        </tr>\n",
       "        <tr>\n",
       "            <td>5       </td> <td>294  </td>\n",
       "        </tr>\n",
       "        <tr>\n",
       "            <td>6       </td> <td>84   </td>\n",
       "        </tr>\n",
       "        <tr>\n",
       "            <td>9       </td> <td>3    </td>\n",
       "        </tr>\n",
       "    </tbody>\n",
       "</table>"
      ],
      "text/plain": [
       "numgiven | count\n",
       "0        | 136\n",
       "1        | 228\n",
       "2        | 235\n",
       "3        | 321\n",
       "4        | 233\n",
       "5        | 294\n",
       "6        | 84\n",
       "9        | 3"
      ]
     },
     "execution_count": 73,
     "metadata": {},
     "output_type": "execute_result"
    }
   ],
   "source": [
    "gss_1985_numgiven = gss_1985.group(\"numgiven\")\n",
    "gss_1985_numgiven"
   ]
  },
  {
   "cell_type": "code",
   "execution_count": 74,
   "metadata": {
    "tags": []
   },
   "outputs": [
    {
     "data": {
      "text/html": [
       "<table border=\"1\" class=\"dataframe\">\n",
       "    <thead>\n",
       "        <tr>\n",
       "            <th>numgiven</th> <th>count</th>\n",
       "        </tr>\n",
       "    </thead>\n",
       "    <tbody>\n",
       "        <tr>\n",
       "            <td>-1      </td> <td>1340 </td>\n",
       "        </tr>\n",
       "        <tr>\n",
       "            <td>0       </td> <td>356  </td>\n",
       "        </tr>\n",
       "        <tr>\n",
       "            <td>1       </td> <td>281  </td>\n",
       "        </tr>\n",
       "        <tr>\n",
       "            <td>2       </td> <td>263  </td>\n",
       "        </tr>\n",
       "        <tr>\n",
       "            <td>3       </td> <td>232  </td>\n",
       "        </tr>\n",
       "        <tr>\n",
       "            <td>4       </td> <td>128  </td>\n",
       "        </tr>\n",
       "        <tr>\n",
       "            <td>5       </td> <td>96   </td>\n",
       "        </tr>\n",
       "        <tr>\n",
       "            <td>6       </td> <td>70   </td>\n",
       "        </tr>\n",
       "        <tr>\n",
       "            <td>9       </td> <td>46   </td>\n",
       "        </tr>\n",
       "    </tbody>\n",
       "</table>"
      ],
      "text/plain": [
       "numgiven | count\n",
       "-1       | 1340\n",
       "0        | 356\n",
       "1        | 281\n",
       "2        | 263\n",
       "3        | 232\n",
       "4        | 128\n",
       "5        | 96\n",
       "6        | 70\n",
       "9        | 46"
      ]
     },
     "execution_count": 74,
     "metadata": {},
     "output_type": "execute_result"
    }
   ],
   "source": [
    "gss_2004_numgiven = gss_2004.group(\"numgiven\")\n",
    "gss_2004_numgiven"
   ]
  },
  {
   "cell_type": "code",
   "execution_count": 75,
   "metadata": {
    "deletable": false,
    "editable": false
   },
   "outputs": [
    {
     "data": {
      "text/html": [
       "<p><strong><pre style='display: inline;'>q5</pre></strong> passed! 🌈</p>"
      ],
      "text/plain": [
       "q5 results: All test cases passed!"
      ]
     },
     "execution_count": 75,
     "metadata": {},
     "output_type": "execute_result"
    }
   ],
   "source": [
    "grader.check(\"q5\")"
   ]
  },
  {
   "cell_type": "markdown",
   "metadata": {},
   "source": [
    "Your table for 2004 should show that quite a few respondents have -1 as the value of `numgiven`. These respondents actually did not answer the important matters question. Their `numgiven` variable is coded as -1 (*not applicable*), according to the GSS coding scheme. There are also respondents who were asked the important matters question but did not respond. Their `numgiven` variable is coded as 9 (*No answer*). \n",
    "\n",
    " For our analysis, we need to drop those respondents."
   ]
  },
  {
   "cell_type": "markdown",
   "metadata": {
    "deletable": false,
    "editable": false
   },
   "source": [
    "## Question 6:\n",
    "Narrow the 2004 dataset down so that it does not have the respondents who have -1 values for `numgiven`\n",
    "\n",
    "_Hint: You can use the `are.above` function_"
   ]
  },
  {
   "cell_type": "code",
   "execution_count": 76,
   "metadata": {
    "tags": []
   },
   "outputs": [],
   "source": [
    "gss_2004_interviewed = gss_2004.where(\"numgiven\", are.above(-1))"
   ]
  },
  {
   "cell_type": "code",
   "execution_count": 77,
   "metadata": {
    "deletable": false,
    "editable": false
   },
   "outputs": [
    {
     "data": {
      "text/html": [
       "<p><strong><pre style='display: inline;'>q6</pre></strong> passed! 🌟</p>"
      ],
      "text/plain": [
       "q6 results: All test cases passed!"
      ]
     },
     "execution_count": 77,
     "metadata": {},
     "output_type": "execute_result"
    }
   ],
   "source": [
    "grader.check(\"q6\")"
   ]
  },
  {
   "cell_type": "markdown",
   "metadata": {
    "deletable": false,
    "editable": false
   },
   "source": [
    "## Question 7:\n",
    "Narrow both datasets down so that they only have respondents who were asked the important matters question  and who provided answers to that question (i.e., whose value in the `numgiven` column is neither -1 nor 9)."
   ]
  },
  {
   "cell_type": "code",
   "execution_count": 78,
   "metadata": {
    "tags": []
   },
   "outputs": [
    {
     "data": {
      "text/html": [
       "<table border=\"1\" class=\"dataframe\">\n",
       "    <thead>\n",
       "        <tr>\n",
       "            <th>year</th> <th>id</th> <th>marital</th> <th>age</th> <th>numgiven</th> <th>sex1</th> <th>sex2</th> <th>sex3</th> <th>sex4</th> <th>sex5</th> <th>spouse1</th> <th>spouse2</th> <th>spouse3</th> <th>spouse4</th> <th>spouse5</th> <th>age1</th> <th>age2</th> <th>age3</th> <th>age4</th> <th>age5</th>\n",
       "        </tr>\n",
       "    </thead>\n",
       "    <tbody>\n",
       "        <tr>\n",
       "            <td>1985</td> <td>1   </td> <td>1      </td> <td>33  </td> <td>6       </td> <td>1   </td> <td>2   </td> <td>1   </td> <td>1   </td> <td>2   </td> <td>2      </td> <td>1      </td> <td>2      </td> <td>2      </td> <td>2      </td> <td>32  </td> <td>29  </td> <td>32  </td> <td>35  </td> <td>29  </td>\n",
       "        </tr>\n",
       "        <tr>\n",
       "            <td>1985</td> <td>2   </td> <td>1      </td> <td>49  </td> <td>6       </td> <td>2   </td> <td>1   </td> <td>1   </td> <td>2   </td> <td>1   </td> <td>1      </td> <td>2      </td> <td>2      </td> <td>2      </td> <td>2      </td> <td>42  </td> <td>44  </td> <td>45  </td> <td>40  </td> <td>50  </td>\n",
       "        </tr>\n",
       "        <tr>\n",
       "            <td>1985</td> <td>3   </td> <td>5      </td> <td>23  </td> <td>5       </td> <td>2   </td> <td>2   </td> <td>2   </td> <td>2   </td> <td>2   </td> <td>2      </td> <td>2      </td> <td>2      </td> <td>2      </td> <td>2      </td> <td>25  </td> <td>24  </td> <td>46  </td> <td>21  </td> <td>35  </td>\n",
       "        </tr>\n",
       "        <tr>\n",
       "            <td>1985</td> <td>4   </td> <td>5      </td> <td>26  </td> <td>5       </td> <td>2   </td> <td>1   </td> <td>1   </td> <td>1   </td> <td>2   </td> <td>2      </td> <td>2      </td> <td>2      </td> <td>2      </td> <td>2      </td> <td>26  </td> <td>27  </td> <td>28  </td> <td>27  </td> <td>25  </td>\n",
       "        </tr>\n",
       "        <tr>\n",
       "            <td>1985</td> <td>5   </td> <td>5      </td> <td>24  </td> <td>5       </td> <td>2   </td> <td>2   </td> <td>1   </td> <td>1   </td> <td>1   </td> <td>2      </td> <td>2      </td> <td>2      </td> <td>2      </td> <td>2      </td> <td>44  </td> <td>25  </td> <td>20  </td> <td>19  </td> <td>12  </td>\n",
       "        </tr>\n",
       "        <tr>\n",
       "            <td>1985</td> <td>6   </td> <td>5      </td> <td>45  </td> <td>4       </td> <td>1   </td> <td>1   </td> <td>1   </td> <td>2   </td> <td>0   </td> <td>2      </td> <td>2      </td> <td>2      </td> <td>2      </td> <td>0      </td> <td>40  </td> <td>35  </td> <td>44  </td> <td>35  </td> <td>-1  </td>\n",
       "        </tr>\n",
       "        <tr>\n",
       "            <td>1985</td> <td>7   </td> <td>5      </td> <td>44  </td> <td>6       </td> <td>2   </td> <td>2   </td> <td>2   </td> <td>2   </td> <td>1   </td> <td>2      </td> <td>2      </td> <td>2      </td> <td>2      </td> <td>2      </td> <td>33  </td> <td>43  </td> <td>41  </td> <td>40  </td> <td>37  </td>\n",
       "        </tr>\n",
       "        <tr>\n",
       "            <td>1985</td> <td>8   </td> <td>5      </td> <td>56  </td> <td>5       </td> <td>2   </td> <td>1   </td> <td>2   </td> <td>1   </td> <td>1   </td> <td>2      </td> <td>2      </td> <td>2      </td> <td>2      </td> <td>2      </td> <td>40  </td> <td>50  </td> <td>40  </td> <td>50  </td> <td>65  </td>\n",
       "        </tr>\n",
       "        <tr>\n",
       "            <td>1985</td> <td>9   </td> <td>1      </td> <td>85  </td> <td>2       </td> <td>2   </td> <td>1   </td> <td>0   </td> <td>0   </td> <td>0   </td> <td>2      </td> <td>1      </td> <td>0      </td> <td>0      </td> <td>0      </td> <td>45  </td> <td>84  </td> <td>-1  </td> <td>-1  </td> <td>-1  </td>\n",
       "        </tr>\n",
       "        <tr>\n",
       "            <td>1985</td> <td>10  </td> <td>5      </td> <td>65  </td> <td>2       </td> <td>2   </td> <td>9   </td> <td>0   </td> <td>0   </td> <td>0   </td> <td>2      </td> <td>2      </td> <td>0      </td> <td>0      </td> <td>0      </td> <td>65  </td> <td>65  </td> <td>-1  </td> <td>-1  </td> <td>-1  </td>\n",
       "        </tr>\n",
       "    </tbody>\n",
       "</table>\n",
       "<p>... (1521 rows omitted)</p>"
      ],
      "text/plain": [
       "year | id   | marital | age  | numgiven | sex1 | sex2 | sex3 | sex4 | sex5 | spouse1 | spouse2 | spouse3 | spouse4 | spouse5 | age1 | age2 | age3 | age4 | age5\n",
       "1985 | 1    | 1       | 33   | 6        | 1    | 2    | 1    | 1    | 2    | 2       | 1       | 2       | 2       | 2       | 32   | 29   | 32   | 35   | 29\n",
       "1985 | 2    | 1       | 49   | 6        | 2    | 1    | 1    | 2    | 1    | 1       | 2       | 2       | 2       | 2       | 42   | 44   | 45   | 40   | 50\n",
       "1985 | 3    | 5       | 23   | 5        | 2    | 2    | 2    | 2    | 2    | 2       | 2       | 2       | 2       | 2       | 25   | 24   | 46   | 21   | 35\n",
       "1985 | 4    | 5       | 26   | 5        | 2    | 1    | 1    | 1    | 2    | 2       | 2       | 2       | 2       | 2       | 26   | 27   | 28   | 27   | 25\n",
       "1985 | 5    | 5       | 24   | 5        | 2    | 2    | 1    | 1    | 1    | 2       | 2       | 2       | 2       | 2       | 44   | 25   | 20   | 19   | 12\n",
       "1985 | 6    | 5       | 45   | 4        | 1    | 1    | 1    | 2    | 0    | 2       | 2       | 2       | 2       | 0       | 40   | 35   | 44   | 35   | -1\n",
       "1985 | 7    | 5       | 44   | 6        | 2    | 2    | 2    | 2    | 1    | 2       | 2       | 2       | 2       | 2       | 33   | 43   | 41   | 40   | 37\n",
       "1985 | 8    | 5       | 56   | 5        | 2    | 1    | 2    | 1    | 1    | 2       | 2       | 2       | 2       | 2       | 40   | 50   | 40   | 50   | 65\n",
       "1985 | 9    | 1       | 85   | 2        | 2    | 1    | 0    | 0    | 0    | 2       | 1       | 0       | 0       | 0       | 45   | 84   | -1   | -1   | -1\n",
       "1985 | 10   | 5       | 65   | 2        | 2    | 9    | 0    | 0    | 0    | 2       | 2       | 0       | 0       | 0       | 65   | 65   | -1   | -1   | -1\n",
       "... (1521 rows omitted)"
      ]
     },
     "execution_count": 78,
     "metadata": {},
     "output_type": "execute_result"
    }
   ],
   "source": [
    "gss_1985.where('numgiven', are.not_equal_to(9)).where('numgiven', are.above(-1))"
   ]
  },
  {
   "cell_type": "code",
   "execution_count": 79,
   "metadata": {
    "tags": []
   },
   "outputs": [
    {
     "data": {
      "text/html": [
       "<table border=\"1\" class=\"dataframe\">\n",
       "    <thead>\n",
       "        <tr>\n",
       "            <th>year</th> <th>id</th> <th>marital</th> <th>age</th> <th>numgiven</th> <th>sex1</th> <th>sex2</th> <th>sex3</th> <th>sex4</th> <th>sex5</th> <th>spouse1</th> <th>spouse2</th> <th>spouse3</th> <th>spouse4</th> <th>spouse5</th> <th>age1</th> <th>age2</th> <th>age3</th> <th>age4</th> <th>age5</th>\n",
       "        </tr>\n",
       "    </thead>\n",
       "    <tbody>\n",
       "        <tr>\n",
       "            <td>1985</td> <td>1   </td> <td>1      </td> <td>33  </td> <td>6       </td> <td>1   </td> <td>2   </td> <td>1   </td> <td>1   </td> <td>2   </td> <td>2      </td> <td>1      </td> <td>2      </td> <td>2      </td> <td>2      </td> <td>32  </td> <td>29  </td> <td>32  </td> <td>35  </td> <td>29  </td>\n",
       "        </tr>\n",
       "        <tr>\n",
       "            <td>1985</td> <td>2   </td> <td>1      </td> <td>49  </td> <td>6       </td> <td>2   </td> <td>1   </td> <td>1   </td> <td>2   </td> <td>1   </td> <td>1      </td> <td>2      </td> <td>2      </td> <td>2      </td> <td>2      </td> <td>42  </td> <td>44  </td> <td>45  </td> <td>40  </td> <td>50  </td>\n",
       "        </tr>\n",
       "        <tr>\n",
       "            <td>1985</td> <td>3   </td> <td>5      </td> <td>23  </td> <td>5       </td> <td>2   </td> <td>2   </td> <td>2   </td> <td>2   </td> <td>2   </td> <td>2      </td> <td>2      </td> <td>2      </td> <td>2      </td> <td>2      </td> <td>25  </td> <td>24  </td> <td>46  </td> <td>21  </td> <td>35  </td>\n",
       "        </tr>\n",
       "        <tr>\n",
       "            <td>1985</td> <td>4   </td> <td>5      </td> <td>26  </td> <td>5       </td> <td>2   </td> <td>1   </td> <td>1   </td> <td>1   </td> <td>2   </td> <td>2      </td> <td>2      </td> <td>2      </td> <td>2      </td> <td>2      </td> <td>26  </td> <td>27  </td> <td>28  </td> <td>27  </td> <td>25  </td>\n",
       "        </tr>\n",
       "        <tr>\n",
       "            <td>1985</td> <td>5   </td> <td>5      </td> <td>24  </td> <td>5       </td> <td>2   </td> <td>2   </td> <td>1   </td> <td>1   </td> <td>1   </td> <td>2      </td> <td>2      </td> <td>2      </td> <td>2      </td> <td>2      </td> <td>44  </td> <td>25  </td> <td>20  </td> <td>19  </td> <td>12  </td>\n",
       "        </tr>\n",
       "        <tr>\n",
       "            <td>1985</td> <td>6   </td> <td>5      </td> <td>45  </td> <td>4       </td> <td>1   </td> <td>1   </td> <td>1   </td> <td>2   </td> <td>0   </td> <td>2      </td> <td>2      </td> <td>2      </td> <td>2      </td> <td>0      </td> <td>40  </td> <td>35  </td> <td>44  </td> <td>35  </td> <td>-1  </td>\n",
       "        </tr>\n",
       "        <tr>\n",
       "            <td>1985</td> <td>7   </td> <td>5      </td> <td>44  </td> <td>6       </td> <td>2   </td> <td>2   </td> <td>2   </td> <td>2   </td> <td>1   </td> <td>2      </td> <td>2      </td> <td>2      </td> <td>2      </td> <td>2      </td> <td>33  </td> <td>43  </td> <td>41  </td> <td>40  </td> <td>37  </td>\n",
       "        </tr>\n",
       "        <tr>\n",
       "            <td>1985</td> <td>8   </td> <td>5      </td> <td>56  </td> <td>5       </td> <td>2   </td> <td>1   </td> <td>2   </td> <td>1   </td> <td>1   </td> <td>2      </td> <td>2      </td> <td>2      </td> <td>2      </td> <td>2      </td> <td>40  </td> <td>50  </td> <td>40  </td> <td>50  </td> <td>65  </td>\n",
       "        </tr>\n",
       "        <tr>\n",
       "            <td>1985</td> <td>9   </td> <td>1      </td> <td>85  </td> <td>2       </td> <td>2   </td> <td>1   </td> <td>0   </td> <td>0   </td> <td>0   </td> <td>2      </td> <td>1      </td> <td>0      </td> <td>0      </td> <td>0      </td> <td>45  </td> <td>84  </td> <td>-1  </td> <td>-1  </td> <td>-1  </td>\n",
       "        </tr>\n",
       "        <tr>\n",
       "            <td>1985</td> <td>10  </td> <td>5      </td> <td>65  </td> <td>2       </td> <td>2   </td> <td>9   </td> <td>0   </td> <td>0   </td> <td>0   </td> <td>2      </td> <td>2      </td> <td>0      </td> <td>0      </td> <td>0      </td> <td>65  </td> <td>65  </td> <td>-1  </td> <td>-1  </td> <td>-1  </td>\n",
       "        </tr>\n",
       "    </tbody>\n",
       "</table>\n",
       "<p>... (1521 rows omitted)</p>"
      ],
      "text/plain": [
       "year | id   | marital | age  | numgiven | sex1 | sex2 | sex3 | sex4 | sex5 | spouse1 | spouse2 | spouse3 | spouse4 | spouse5 | age1 | age2 | age3 | age4 | age5\n",
       "1985 | 1    | 1       | 33   | 6        | 1    | 2    | 1    | 1    | 2    | 2       | 1       | 2       | 2       | 2       | 32   | 29   | 32   | 35   | 29\n",
       "1985 | 2    | 1       | 49   | 6        | 2    | 1    | 1    | 2    | 1    | 1       | 2       | 2       | 2       | 2       | 42   | 44   | 45   | 40   | 50\n",
       "1985 | 3    | 5       | 23   | 5        | 2    | 2    | 2    | 2    | 2    | 2       | 2       | 2       | 2       | 2       | 25   | 24   | 46   | 21   | 35\n",
       "1985 | 4    | 5       | 26   | 5        | 2    | 1    | 1    | 1    | 2    | 2       | 2       | 2       | 2       | 2       | 26   | 27   | 28   | 27   | 25\n",
       "1985 | 5    | 5       | 24   | 5        | 2    | 2    | 1    | 1    | 1    | 2       | 2       | 2       | 2       | 2       | 44   | 25   | 20   | 19   | 12\n",
       "1985 | 6    | 5       | 45   | 4        | 1    | 1    | 1    | 2    | 0    | 2       | 2       | 2       | 2       | 0       | 40   | 35   | 44   | 35   | -1\n",
       "1985 | 7    | 5       | 44   | 6        | 2    | 2    | 2    | 2    | 1    | 2       | 2       | 2       | 2       | 2       | 33   | 43   | 41   | 40   | 37\n",
       "1985 | 8    | 5       | 56   | 5        | 2    | 1    | 2    | 1    | 1    | 2       | 2       | 2       | 2       | 2       | 40   | 50   | 40   | 50   | 65\n",
       "1985 | 9    | 1       | 85   | 2        | 2    | 1    | 0    | 0    | 0    | 2       | 1       | 0       | 0       | 0       | 45   | 84   | -1   | -1   | -1\n",
       "1985 | 10   | 5       | 65   | 2        | 2    | 9    | 0    | 0    | 0    | 2       | 2       | 0       | 0       | 0       | 65   | 65   | -1   | -1   | -1\n",
       "... (1521 rows omitted)"
      ]
     },
     "execution_count": 79,
     "metadata": {},
     "output_type": "execute_result"
    }
   ],
   "source": [
    "gss_1985.where('numgiven', are.not_equal_to(9))\n",
    "# gss_2004_interviewed.where('numgiven', are.not_equal_to(9))"
   ]
  },
  {
   "cell_type": "code",
   "execution_count": 80,
   "metadata": {
    "tags": []
   },
   "outputs": [],
   "source": [
    "gss_1985_responded = gss_1985.where('numgiven', are.not_equal_to(9)).where('numgiven', are.above(-1))\n",
    "gss_2004_responded = gss_2004.where('numgiven', are.not_equal_to(9)).where('numgiven', are.above(-1))"
   ]
  },
  {
   "cell_type": "code",
   "execution_count": 81,
   "metadata": {
    "deletable": false,
    "editable": false
   },
   "outputs": [
    {
     "data": {
      "text/html": [
       "<p><strong><pre style='display: inline;'>q7</pre></strong> passed! ✨</p>"
      ],
      "text/plain": [
       "q7 results: All test cases passed!"
      ]
     },
     "execution_count": 81,
     "metadata": {},
     "output_type": "execute_result"
    }
   ],
   "source": [
    "grader.check(\"q7\")"
   ]
  },
  {
   "cell_type": "markdown",
   "metadata": {},
   "source": [
    "Now we have the set of respondents we will study in more detail: those who responded to the 'important matters' question.\n",
    "\n",
    "**For the problems below, please use `gss_1985_responded` and `gss_2004_responded`.**"
   ]
  },
  {
   "cell_type": "markdown",
   "metadata": {},
   "source": [
    "Many analysts have focused on how many survey respondents report that they don't discuss important matters with anyone.  They interpret the fraction of respondents who don't report discussing important matters with anyone as an indicator for the amount of social isolation. (These respondents who report not discussing important matters with anyone have `numgiven` equal to 0.)"
   ]
  },
  {
   "cell_type": "markdown",
   "metadata": {
    "deletable": false,
    "editable": false
   },
   "source": [
    "<!-- BEGIN QUESTION -->\n",
    "\n",
    "## Question 8:\n",
    "Do you think this is a good way to try to quantify social isolation? Name one way this could be a good measure of social isolation, and one way this could be a bad measure of social isolation. Please be specific."
   ]
  },
  {
   "cell_type": "markdown",
   "metadata": {},
   "source": [
    "_To me, this does not seem like the best way to quantify social isolation. While this metric may tell a good story of **how close** someone is with their network (as discussing important matters could indicate a close relation), it does not necessarily measure how many people someone has in their network. One person could be highly socially integrated, having a large social network with many different circles, but not discuss important matters with anyone. On the other hand, someone could have one person they discuss important matters with, but speak to nobody else at any point and be extremely socially isolated._"
   ]
  },
  {
   "cell_type": "markdown",
   "metadata": {
    "deletable": false,
    "editable": false
   },
   "source": [
    "<!-- END QUESTION -->\n",
    "\n",
    "## Question 9:\n",
    "For both the 1985 and 2004 datasets, create a new variable, `isolated` which has the value False if the respondent reports discussing important matters with anyone (`numgiven` not equal to 0), and True otherwise (`numgiven` equals to 0).\n"
   ]
  },
  {
   "cell_type": "code",
   "execution_count": 82,
   "metadata": {
    "tags": []
   },
   "outputs": [
    {
     "name": "stdout",
     "output_type": "stream",
     "text": [
      "[False False False ..., False False False]\n",
      "[ True  True False ..., False False  True]\n"
     ]
    }
   ],
   "source": [
    "isolated_1985 = gss_1985_responded.column('numgiven') == 0\n",
    "isolated_2004 = gss_2004_responded.column('numgiven') == 0\n",
    "\n",
    "print(isolated_1985)\n",
    "print(isolated_2004)"
   ]
  },
  {
   "cell_type": "code",
   "execution_count": 83,
   "metadata": {
    "deletable": false,
    "editable": false
   },
   "outputs": [
    {
     "data": {
      "text/html": [
       "<p><strong><pre style='display: inline;'>q9</pre></strong> passed! 🚀</p>"
      ],
      "text/plain": [
       "q9 results: All test cases passed!"
      ]
     },
     "execution_count": 83,
     "metadata": {},
     "output_type": "execute_result"
    }
   ],
   "source": [
    "grader.check(\"q9\")"
   ]
  },
  {
   "cell_type": "markdown",
   "metadata": {
    "deletable": false,
    "editable": false
   },
   "source": [
    "## Question 10:\n",
    "Using the variable you just created, what proportion of respondents was socially isolated in 1985? In 2004?\n",
    "\n",
    "*Hint: we learned how to calculate mean in Lab0*"
   ]
  },
  {
   "cell_type": "code",
   "execution_count": 84,
   "metadata": {
    "tags": []
   },
   "outputs": [
    {
     "name": "stdout",
     "output_type": "stream",
     "text": [
      "Proportion isolated in 1985:  0.0888308295232\n",
      "Proportion isolated in 2004:  0.249649368864\n"
     ]
    }
   ],
   "source": [
    "proportion_isolated_1985 = sum(isolated_1985)/len(isolated_1985)\n",
    "proportion_isolated_2004 = sum(isolated_2004)/len(isolated_2004)\n",
    "\n",
    "print(\"Proportion isolated in 1985: \", proportion_isolated_1985)\n",
    "print(\"Proportion isolated in 2004: \", proportion_isolated_2004)"
   ]
  },
  {
   "cell_type": "code",
   "execution_count": 85,
   "metadata": {
    "deletable": false,
    "editable": false
   },
   "outputs": [
    {
     "data": {
      "text/html": [
       "<p><strong><pre style='display: inline;'>q10</pre></strong> passed! 🙌</p>"
      ],
      "text/plain": [
       "q10 results: All test cases passed!"
      ]
     },
     "execution_count": 85,
     "metadata": {},
     "output_type": "execute_result"
    }
   ],
   "source": [
    "grader.check(\"q10\")"
   ]
  },
  {
   "cell_type": "markdown",
   "metadata": {
    "deletable": false,
    "editable": false
   },
   "source": [
    "## Question 11: Hypothesis Testing:\n",
    "\n",
    "We can see that the proportion of socially isolated respondents is 8.9% in 1985 and 25.0% in 2004. This seems like a substantial increase in social isolation. However, it is still possible that the difference in proportion isolated is due to randomness in the data. We need to perform some form of hypothesis testing to make sure that the difference is statistically significant.\n",
    "\n",
    "What should the appropriate null hypothesis(H0) and alternative hypothesis(H1) be?"
   ]
  },
  {
   "cell_type": "markdown",
   "metadata": {},
   "source": [
    "Because isolation is a categorical variable, we can perform a Pearson's chi-squared test."
   ]
  },
  {
   "cell_type": "code",
   "execution_count": 86,
   "metadata": {},
   "outputs": [
    {
     "name": "stdout",
     "output_type": "stream",
     "text": [
      "97.4133235946 5.62661469187e-23\n"
     ]
    }
   ],
   "source": [
    "# Pearson's Chi-Square Test\n",
    "table = [np.array([sum(isolated_1985), sum(isolated_2004)]), \n",
    "         np.array([gss_1985_responded.num_rows, gss_2004_responded.num_rows])         ]\n",
    "\n",
    "stat, p, dof, expected = chi2_contingency(table)\n",
    "# print out test statistic and p value\n",
    "print(stat, p)\n"
   ]
  },
  {
   "cell_type": "markdown",
   "metadata": {},
   "source": [
    "In the social sciences, the commonly used significance level in hypothesis testing is 0.05. We can see that the p value of 5.62661469187e-23 is smaller than 0.05, which means we can reject the null hypothesis. The difference between proportion socially isolated in 1985 and that in 2004 is therefore statistically significant. "
   ]
  },
  {
   "cell_type": "markdown",
   "metadata": {},
   "source": [
    "## Converting from wide to long\n",
    "\n",
    "So far, we have only looked at the number of people survey respondents discuss important matters with. However, each respondent provided specific information on the people they discuss important matters with (let's call them 'alters'). In order to look at the characteristics of all of the alters respondents reported about, we're going to have to manipulate the dataset a bit more extensively. This manipulation is a little bit tricky, but we're going to go through how it can be done step by step.\n",
    "\n",
    "First, let's take a look at the first few rows of the dataset again to remind ourselves of how it is structured:"
   ]
  },
  {
   "cell_type": "code",
   "execution_count": 87,
   "metadata": {},
   "outputs": [
    {
     "data": {
      "text/html": [
       "<table border=\"1\" class=\"dataframe\">\n",
       "    <thead>\n",
       "        <tr>\n",
       "            <th>year</th> <th>id</th> <th>marital</th> <th>age</th> <th>numgiven</th> <th>sex1</th> <th>sex2</th> <th>sex3</th> <th>sex4</th> <th>sex5</th> <th>spouse1</th> <th>spouse2</th> <th>spouse3</th> <th>spouse4</th> <th>spouse5</th> <th>age1</th> <th>age2</th> <th>age3</th> <th>age4</th> <th>age5</th>\n",
       "        </tr>\n",
       "    </thead>\n",
       "    <tbody>\n",
       "        <tr>\n",
       "            <td>1972</td> <td>1   </td> <td>5      </td> <td>23  </td> <td>-1      </td> <td>0   </td> <td>0   </td> <td>0   </td> <td>0   </td> <td>0   </td> <td>0      </td> <td>0      </td> <td>0      </td> <td>0      </td> <td>0      </td> <td>-1  </td> <td>-1  </td> <td>-1  </td> <td>-1  </td> <td>-1  </td>\n",
       "        </tr>\n",
       "        <tr>\n",
       "            <td>1972</td> <td>2   </td> <td>1      </td> <td>70  </td> <td>-1      </td> <td>0   </td> <td>0   </td> <td>0   </td> <td>0   </td> <td>0   </td> <td>0      </td> <td>0      </td> <td>0      </td> <td>0      </td> <td>0      </td> <td>-1  </td> <td>-1  </td> <td>-1  </td> <td>-1  </td> <td>-1  </td>\n",
       "        </tr>\n",
       "        <tr>\n",
       "            <td>1972</td> <td>3   </td> <td>1      </td> <td>48  </td> <td>-1      </td> <td>0   </td> <td>0   </td> <td>0   </td> <td>0   </td> <td>0   </td> <td>0      </td> <td>0      </td> <td>0      </td> <td>0      </td> <td>0      </td> <td>-1  </td> <td>-1  </td> <td>-1  </td> <td>-1  </td> <td>-1  </td>\n",
       "        </tr>\n",
       "        <tr>\n",
       "            <td>1972</td> <td>4   </td> <td>1      </td> <td>27  </td> <td>-1      </td> <td>0   </td> <td>0   </td> <td>0   </td> <td>0   </td> <td>0   </td> <td>0      </td> <td>0      </td> <td>0      </td> <td>0      </td> <td>0      </td> <td>-1  </td> <td>-1  </td> <td>-1  </td> <td>-1  </td> <td>-1  </td>\n",
       "        </tr>\n",
       "        <tr>\n",
       "            <td>1972</td> <td>5   </td> <td>1      </td> <td>61  </td> <td>-1      </td> <td>0   </td> <td>0   </td> <td>0   </td> <td>0   </td> <td>0   </td> <td>0      </td> <td>0      </td> <td>0      </td> <td>0      </td> <td>0      </td> <td>-1  </td> <td>-1  </td> <td>-1  </td> <td>-1  </td> <td>-1  </td>\n",
       "        </tr>\n",
       "        <tr>\n",
       "            <td>1972</td> <td>6   </td> <td>5      </td> <td>26  </td> <td>-1      </td> <td>0   </td> <td>0   </td> <td>0   </td> <td>0   </td> <td>0   </td> <td>0      </td> <td>0      </td> <td>0      </td> <td>0      </td> <td>0      </td> <td>-1  </td> <td>-1  </td> <td>-1  </td> <td>-1  </td> <td>-1  </td>\n",
       "        </tr>\n",
       "    </tbody>\n",
       "</table>\n",
       "<p>... (59593 rows omitted)</p>"
      ],
      "text/plain": [
       "<IPython.core.display.HTML object>"
      ]
     },
     "metadata": {},
     "output_type": "display_data"
    }
   ],
   "source": [
    "gss_data.show(6)"
   ]
  },
  {
   "cell_type": "markdown",
   "metadata": {},
   "source": [
    "The dataset is in *wide* format: all of the information reported by a respondent is stored in a single row:\n",
    "\n",
    "[respondent 1 info] ... [info about respondent 1's first alter] ... [info about respondent 1's second alter] ...   \n",
    "[respondent 2 info] ... [info about respondent 2's first alter] ... [info about respondent 2's second alter] ...   \n",
    "...\n",
    "\n",
    "Our goal is to reshape the dataset so that the information is in *long* format instead:\n",
    "\n",
    "[respondent 1 info] [info about respondent 1's first alter]  \n",
    "[respondent 1 info] [info about respondent 1's second alter]  \n",
    "[respondent 1 info] [info about respondent 1's third alter]  \n",
    "[respondent 1 info] [info about respondent 1's fourth alter]  \n",
    "[respondent 1 info] [info about respondent 1's fifth alter]  \n",
    "[respondent 2 info] [info about respondent 2's first alter]  \n",
    "[respondent 2 info] [info about respondent 2's second alter]  \n",
    "..."
   ]
  },
  {
   "cell_type": "markdown",
   "metadata": {},
   "source": [
    "In order to convert the alter information from wide to long format, we're going to use two functions that have been written for you below.\n",
    "\n",
    "Let's look at the function below and try to understand how it works.\n",
    "\n",
    "PS. The portion highlighted in red is called a docstring. It describes what the function does and gives examples. The code following \">>>\" is fully executable and the following line is what that function call should return."
   ]
  },
  {
   "cell_type": "code",
   "execution_count": 88,
   "metadata": {},
   "outputs": [],
   "source": [
    "def repeat_single_col(data, var_name, times=5):\n",
    "    \"\"\"Repeats a single column multiple times.\n",
    "    \n",
    "    Parameters\n",
    "    ----------\n",
    "    var_name : str\n",
    "        Text that contains the name of the column to repeat.\n",
    "    \n",
    "    Returns\n",
    "    -------\n",
    "    np.array\n",
    "        A single array with the contents of the column repeated five times.\n",
    "    \n",
    "    Examples\n",
    "    --------\n",
    "    >>> repeat_single_col(Table().with_columns(['respondent_age', [10]]),\n",
    "                          'respondent_age')\n",
    "    \n",
    "    array([10, 10, 10, 10, 10])\n",
    "    \"\"\"\n",
    "    new_col = np.tile(data.column(var_name), times)\n",
    "    return new_col"
   ]
  },
  {
   "cell_type": "markdown",
   "metadata": {},
   "source": [
    "The key to understanding repeat_single_col is the `np.tile` function. Look that function up and read its help page."
   ]
  },
  {
   "cell_type": "markdown",
   "metadata": {},
   "source": [
    "**Practice** Use `np.tile` to create an array that contains [1,3,5,7,1,3,5,7,1,3,5,7,1,3,5,7]."
   ]
  },
  {
   "cell_type": "code",
   "execution_count": 89,
   "metadata": {},
   "outputs": [
    {
     "data": {
      "text/plain": [
       "array([1, 3, 5, 7, 1, 3, 5, 7, 1, 3, 5, 7, 1, 3, 5, 7])"
      ]
     },
     "execution_count": 89,
     "metadata": {},
     "output_type": "execute_result"
    }
   ],
   "source": [
    "np.tile # You can remove the # sign and see the 'help' documentation for np.tile\n",
    "practice = [1, 3, 5, 7]\n",
    "practice_array = np.tile(practice, 4)\n",
    "practice_array"
   ]
  },
  {
   "cell_type": "markdown",
   "metadata": {},
   "source": [
    "**Practice** What is the difference between `np.tile` and `np.repeat`? Do they do the same thing? What happens if you pass the same arguments to `np.repeat` as to `np.tile`?\n",
    "\n",
    "[Hint: you can use the help page to figure out what np.repeat does.]"
   ]
  },
  {
   "cell_type": "code",
   "execution_count": 90,
   "metadata": {},
   "outputs": [
    {
     "data": {
      "text/plain": [
       "array([1, 1, 1, 1, 3, 3, 3, 3, 5, 5, 5, 5, 7, 7, 7, 7])"
      ]
     },
     "execution_count": 90,
     "metadata": {},
     "output_type": "execute_result"
    }
   ],
   "source": [
    "#np.repeat? # You can remove the # sign and see the 'help' documentation for np.repeat\n",
    "practice2 = [1, 3, 5, 7]\n",
    "practice2_array = np.repeat(practice2, 4)\n",
    "practice2_array"
   ]
  },
  {
   "cell_type": "markdown",
   "metadata": {},
   "source": [
    "Now look at the next function, and try to understand how it works."
   ]
  },
  {
   "cell_type": "code",
   "execution_count": 91,
   "metadata": {},
   "outputs": [],
   "source": [
    "def wide_to_long(data, var_name, times=5):\n",
    "    \"\"\"Given columns of alter characteristics, stack them into one long column.\n",
    "    \n",
    "    Parameters\n",
    "    ----------\n",
    "    data : Table\n",
    "        The data table containing the alter characteristics\n",
    "    var_name : str\n",
    "        Text that contains the variable name; columns of the dataset should\n",
    "        match the pattern: [var_name][alter_number]\n",
    "        For example, if var_name is 'age' then this function expects to find\n",
    "        columns in the survey dataset named \n",
    "        'age1', 'age2', 'age3', 'age4', and 'age5'\n",
    "    times : int\n",
    "        The number of columns for each characteristic\n",
    "    \n",
    "    Returns\n",
    "    -------\n",
    "    np.array\n",
    "        A single array with the contents of all of the columns stacked on top of one another.\n",
    "    \n",
    "    Examples\n",
    "    --------\n",
    "    >>> wide_to_long(Table().with_columns(['age1', [10, 15],\n",
    "                                           'age2', [30, 35],\n",
    "                                           'age3', [20, 15],\n",
    "                                           'age4', [60, 70],\n",
    "                                           'age5', [20, 25]]),\n",
    "                     'age')\n",
    "    \n",
    "    array([10, 15, 30, 35, 20, 15, 60, 70, 20, 25])\n",
    "    \"\"\"\n",
    "    new_col = np.concatenate([data.column(var_name + str(idx)) for idx in range(1,times+1)])\n",
    "    return new_col"
   ]
  },
  {
   "cell_type": "markdown",
   "metadata": {},
   "source": [
    "The key to understanding this second function is np.concatenate. Look up the help page for np.concatenate."
   ]
  },
  {
   "cell_type": "code",
   "execution_count": 92,
   "metadata": {},
   "outputs": [
    {
     "data": {
      "text/plain": [
       "\u001b[0;31mCall signature:\u001b[0m  \u001b[0mnp\u001b[0m\u001b[0;34m.\u001b[0m\u001b[0mconcatenate\u001b[0m\u001b[0;34m(\u001b[0m\u001b[0;34m*\u001b[0m\u001b[0margs\u001b[0m\u001b[0;34m,\u001b[0m \u001b[0;34m**\u001b[0m\u001b[0mkwargs\u001b[0m\u001b[0;34m)\u001b[0m\u001b[0;34m\u001b[0m\u001b[0;34m\u001b[0m\u001b[0m\n",
       "\u001b[0;31mType:\u001b[0m            _ArrayFunctionDispatcher\n",
       "\u001b[0;31mString form:\u001b[0m     <built-in function concatenate>\n",
       "\u001b[0;31mDocstring:\u001b[0m      \n",
       "concatenate((a1, a2, ...), axis=0, out=None, dtype=None, casting=\"same_kind\")\n",
       "\n",
       "Join a sequence of arrays along an existing axis.\n",
       "\n",
       "Parameters\n",
       "----------\n",
       "a1, a2, ... : sequence of array_like\n",
       "    The arrays must have the same shape, except in the dimension\n",
       "    corresponding to `axis` (the first, by default).\n",
       "axis : int, optional\n",
       "    The axis along which the arrays will be joined.  If axis is None,\n",
       "    arrays are flattened before use.  Default is 0.\n",
       "out : ndarray, optional\n",
       "    If provided, the destination to place the result. The shape must be\n",
       "    correct, matching that of what concatenate would have returned if no\n",
       "    out argument were specified.\n",
       "dtype : str or dtype\n",
       "    If provided, the destination array will have this dtype. Cannot be\n",
       "    provided together with `out`.\n",
       "\n",
       "    .. versionadded:: 1.20.0\n",
       "\n",
       "casting : {'no', 'equiv', 'safe', 'same_kind', 'unsafe'}, optional\n",
       "    Controls what kind of data casting may occur. Defaults to 'same_kind'.\n",
       "\n",
       "    .. versionadded:: 1.20.0\n",
       "\n",
       "Returns\n",
       "-------\n",
       "res : ndarray\n",
       "    The concatenated array.\n",
       "\n",
       "See Also\n",
       "--------\n",
       "ma.concatenate : Concatenate function that preserves input masks.\n",
       "array_split : Split an array into multiple sub-arrays of equal or\n",
       "              near-equal size.\n",
       "split : Split array into a list of multiple sub-arrays of equal size.\n",
       "hsplit : Split array into multiple sub-arrays horizontally (column wise).\n",
       "vsplit : Split array into multiple sub-arrays vertically (row wise).\n",
       "dsplit : Split array into multiple sub-arrays along the 3rd axis (depth).\n",
       "stack : Stack a sequence of arrays along a new axis.\n",
       "block : Assemble arrays from blocks.\n",
       "hstack : Stack arrays in sequence horizontally (column wise).\n",
       "vstack : Stack arrays in sequence vertically (row wise).\n",
       "dstack : Stack arrays in sequence depth wise (along third dimension).\n",
       "column_stack : Stack 1-D arrays as columns into a 2-D array.\n",
       "\n",
       "Notes\n",
       "-----\n",
       "When one or more of the arrays to be concatenated is a MaskedArray,\n",
       "this function will return a MaskedArray object instead of an ndarray,\n",
       "but the input masks are *not* preserved. In cases where a MaskedArray\n",
       "is expected as input, use the ma.concatenate function from the masked\n",
       "array module instead.\n",
       "\n",
       "Examples\n",
       "--------\n",
       ">>> a = np.array([[1, 2], [3, 4]])\n",
       ">>> b = np.array([[5, 6]])\n",
       ">>> np.concatenate((a, b), axis=0)\n",
       "array([[1, 2],\n",
       "       [3, 4],\n",
       "       [5, 6]])\n",
       ">>> np.concatenate((a, b.T), axis=1)\n",
       "array([[1, 2, 5],\n",
       "       [3, 4, 6]])\n",
       ">>> np.concatenate((a, b), axis=None)\n",
       "array([1, 2, 3, 4, 5, 6])\n",
       "\n",
       "This function will not preserve masking of MaskedArray inputs.\n",
       "\n",
       ">>> a = np.ma.arange(3)\n",
       ">>> a[1] = np.ma.masked\n",
       ">>> b = np.arange(2, 5)\n",
       ">>> a\n",
       "masked_array(data=[0, --, 2],\n",
       "             mask=[False,  True, False],\n",
       "       fill_value=999999)\n",
       ">>> b\n",
       "array([2, 3, 4])\n",
       ">>> np.concatenate([a, b])\n",
       "masked_array(data=[0, 1, 2, 2, 3, 4],\n",
       "             mask=False,\n",
       "       fill_value=999999)\n",
       ">>> np.ma.concatenate([a, b])\n",
       "masked_array(data=[0, --, 2, 2, 3, 4],\n",
       "             mask=[False,  True, False, False, False, False],\n",
       "       fill_value=999999)\n",
       "\u001b[0;31mClass docstring:\u001b[0m\n",
       "Class to wrap functions with checks for __array_function__ overrides.\n",
       "\n",
       "All arguments are required, and can only be passed by position.\n",
       "\n",
       "Parameters\n",
       "----------\n",
       "dispatcher : function or None\n",
       "    The dispatcher function that returns a single sequence-like object\n",
       "    of all arguments relevant.  It must have the same signature (except\n",
       "    the default values) as the actual implementation.\n",
       "    If ``None``, this is a ``like=`` dispatcher and the\n",
       "    ``_ArrayFunctionDispatcher`` must be called with ``like`` as the\n",
       "    first (additional and positional) argument.\n",
       "implementation : function\n",
       "    Function that implements the operation on NumPy arrays without\n",
       "    overrides.  Arguments passed calling the ``_ArrayFunctionDispatcher``\n",
       "    will be forwarded to this (and the ``dispatcher``) as if using\n",
       "    ``*args, **kwargs``.\n",
       "\n",
       "Attributes\n",
       "----------\n",
       "_implementation : function\n",
       "    The original implementation passed in."
      ]
     },
     "metadata": {},
     "output_type": "display_data"
    }
   ],
   "source": [
    "np.concatenate?"
   ]
  },
  {
   "cell_type": "markdown",
   "metadata": {},
   "source": [
    "**Practice** Use `np.concatenate` to make a single array that has the contents of `column_one` and `column_two` concatenated together:"
   ]
  },
  {
   "cell_type": "code",
   "execution_count": 93,
   "metadata": {},
   "outputs": [
    {
     "data": {
      "text/html": [
       "<table border=\"1\" class=\"dataframe\">\n",
       "    <thead>\n",
       "        <tr>\n",
       "            <th>column_one</th> <th>column_two</th>\n",
       "        </tr>\n",
       "    </thead>\n",
       "    <tbody>\n",
       "        <tr>\n",
       "            <td>1         </td> <td>2         </td>\n",
       "        </tr>\n",
       "        <tr>\n",
       "            <td>3         </td> <td>4         </td>\n",
       "        </tr>\n",
       "        <tr>\n",
       "            <td>5         </td> <td>6         </td>\n",
       "        </tr>\n",
       "        <tr>\n",
       "            <td>7         </td> <td>8         </td>\n",
       "        </tr>\n",
       "        <tr>\n",
       "            <td>9         </td> <td>10        </td>\n",
       "        </tr>\n",
       "    </tbody>\n",
       "</table>"
      ],
      "text/plain": [
       "column_one | column_two\n",
       "1          | 2\n",
       "3          | 4\n",
       "5          | 6\n",
       "7          | 8\n",
       "9          | 10"
      ]
     },
     "execution_count": 93,
     "metadata": {},
     "output_type": "execute_result"
    }
   ],
   "source": [
    "concat_table = Table().with_columns(['column_one', [1,3,5,7,9],\n",
    "                                    'column_two', [2,4,6,8,10]])\n",
    "concat_table"
   ]
  },
  {
   "cell_type": "code",
   "execution_count": 94,
   "metadata": {},
   "outputs": [
    {
     "data": {
      "text/plain": [
       "array([ 1,  3,  5,  7,  9,  2,  4,  6,  8, 10])"
      ]
     },
     "execution_count": 94,
     "metadata": {},
     "output_type": "execute_result"
    }
   ],
   "source": [
    "#to make a single array with the contents of column_one and column_two\n",
    "column_one = concat_table.column('column_one') \n",
    "column_two = concat_table.column('column_two')\n",
    "concat_array = np.concatenate((column_one, column_two))\n",
    "concat_array"
   ]
  },
  {
   "cell_type": "markdown",
   "metadata": {},
   "source": [
    "Now that we understand what `np.concatenate` does, let's run the wide_to_long() function on a simple table to see what it does."
   ]
  },
  {
   "cell_type": "code",
   "execution_count": 95,
   "metadata": {},
   "outputs": [
    {
     "data": {
      "text/plain": [
       "array([10, 15, 30, 35, 20, 15, 60, 70, 20, 25])"
      ]
     },
     "execution_count": 95,
     "metadata": {},
     "output_type": "execute_result"
    }
   ],
   "source": [
    "temp_table = Table().with_columns(['age1', [10, 15],\n",
    "                                   'age2', [30, 35],\n",
    "                                   'age3', [20, 15],\n",
    "                                   'age4', [60, 70],\n",
    "                                   'age5', [20, 25]])\n",
    "wide_to_long(temp_table,'age')"
   ]
  },
  {
   "cell_type": "markdown",
   "metadata": {},
   "source": [
    "You can see that it links the head and end of columns.\n",
    "\n",
    "We'll take a first try at converting `gss_1985_responded` to long format together, and then you'll do a more complete job as an exercise.\n",
    "\n",
    "For our first step, we'll only keep the respondent's id number and the age of the alters each respondent reported about. Since there is space for 5 alters per respondent, we expect (number of respondents x 5)\n",
    "\n",
    "Let's construct the table."
   ]
  },
  {
   "cell_type": "code",
   "execution_count": 96,
   "metadata": {},
   "outputs": [
    {
     "data": {
      "text/html": [
       "<table border=\"1\" class=\"dataframe\">\n",
       "    <thead>\n",
       "        <tr>\n",
       "            <th>id</th> <th>alter_age</th>\n",
       "        </tr>\n",
       "    </thead>\n",
       "    <tbody>\n",
       "        <tr>\n",
       "            <td>1   </td> <td>32       </td>\n",
       "        </tr>\n",
       "        <tr>\n",
       "            <td>2   </td> <td>42       </td>\n",
       "        </tr>\n",
       "        <tr>\n",
       "            <td>3   </td> <td>25       </td>\n",
       "        </tr>\n",
       "        <tr>\n",
       "            <td>4   </td> <td>26       </td>\n",
       "        </tr>\n",
       "        <tr>\n",
       "            <td>5   </td> <td>44       </td>\n",
       "        </tr>\n",
       "        <tr>\n",
       "            <td>6   </td> <td>40       </td>\n",
       "        </tr>\n",
       "        <tr>\n",
       "            <td>7   </td> <td>33       </td>\n",
       "        </tr>\n",
       "        <tr>\n",
       "            <td>8   </td> <td>40       </td>\n",
       "        </tr>\n",
       "        <tr>\n",
       "            <td>9   </td> <td>45       </td>\n",
       "        </tr>\n",
       "        <tr>\n",
       "            <td>10  </td> <td>65       </td>\n",
       "        </tr>\n",
       "    </tbody>\n",
       "</table>\n",
       "<p>... (7645 rows omitted)</p>"
      ],
      "text/plain": [
       "id   | alter_age\n",
       "1    | 32\n",
       "2    | 42\n",
       "3    | 25\n",
       "4    | 26\n",
       "5    | 44\n",
       "6    | 40\n",
       "7    | 33\n",
       "8    | 40\n",
       "9    | 45\n",
       "10   | 65\n",
       "... (7645 rows omitted)"
      ]
     },
     "execution_count": 96,
     "metadata": {},
     "output_type": "execute_result"
    }
   ],
   "source": [
    "alter_first_try = Table().with_columns([\n",
    "    'id', repeat_single_col(gss_1985_responded, 'id'),\n",
    "    'alter_age', wide_to_long(gss_1985_responded, 'age')])\n",
    "alter_first_try"
   ]
  },
  {
   "cell_type": "markdown",
   "metadata": {},
   "source": [
    "You can see that we want to use `repeat_single_col` for the column that is a respondent characteristic and that we want to use `wide_to_long` for the column that is an alter characteristic.\n",
    "\n",
    "Let's check that the resulting Table, called `alter_first_try` makes sense.\n",
    "\n"
   ]
  },
  {
   "cell_type": "markdown",
   "metadata": {
    "deletable": false,
    "editable": false
   },
   "source": [
    "## Question 12: \n",
    "How many rows do you think alter_first_try should have? Check the number of rows."
   ]
  },
  {
   "cell_type": "code",
   "execution_count": 97,
   "metadata": {
    "tags": []
   },
   "outputs": [
    {
     "data": {
      "text/plain": [
       "7655"
      ]
     },
     "execution_count": 97,
     "metadata": {},
     "output_type": "execute_result"
    }
   ],
   "source": [
    "q1 = alter_first_try.num_rows\n",
    "q1"
   ]
  },
  {
   "cell_type": "code",
   "execution_count": 98,
   "metadata": {
    "deletable": false,
    "editable": false
   },
   "outputs": [
    {
     "data": {
      "text/html": [
       "<p><strong><pre style='display: inline;'>q12</pre></strong> passed! ✨</p>"
      ],
      "text/plain": [
       "q12 results: All test cases passed!"
      ]
     },
     "execution_count": 98,
     "metadata": {},
     "output_type": "execute_result"
    }
   ],
   "source": [
    "grader.check(\"q12\")"
   ]
  },
  {
   "cell_type": "code",
   "execution_count": 99,
   "metadata": {},
   "outputs": [
    {
     "data": {
      "text/html": [
       "<table border=\"1\" class=\"dataframe\">\n",
       "    <thead>\n",
       "        <tr>\n",
       "            <th>year</th> <th>id</th> <th>marital</th> <th>age</th> <th>numgiven</th> <th>sex1</th> <th>sex2</th> <th>sex3</th> <th>sex4</th> <th>sex5</th> <th>spouse1</th> <th>spouse2</th> <th>spouse3</th> <th>spouse4</th> <th>spouse5</th> <th>age1</th> <th>age2</th> <th>age3</th> <th>age4</th> <th>age5</th>\n",
       "        </tr>\n",
       "    </thead>\n",
       "    <tbody>\n",
       "        <tr>\n",
       "            <td>1985</td> <td>1   </td> <td>1      </td> <td>33  </td> <td>6       </td> <td>1   </td> <td>2   </td> <td>1   </td> <td>1   </td> <td>2   </td> <td>2      </td> <td>1      </td> <td>2      </td> <td>2      </td> <td>2      </td> <td>32  </td> <td>29  </td> <td>32  </td> <td>35  </td> <td>29  </td>\n",
       "        </tr>\n",
       "        <tr>\n",
       "            <td>1985</td> <td>2   </td> <td>1      </td> <td>49  </td> <td>6       </td> <td>2   </td> <td>1   </td> <td>1   </td> <td>2   </td> <td>1   </td> <td>1      </td> <td>2      </td> <td>2      </td> <td>2      </td> <td>2      </td> <td>42  </td> <td>44  </td> <td>45  </td> <td>40  </td> <td>50  </td>\n",
       "        </tr>\n",
       "        <tr>\n",
       "            <td>1985</td> <td>3   </td> <td>5      </td> <td>23  </td> <td>5       </td> <td>2   </td> <td>2   </td> <td>2   </td> <td>2   </td> <td>2   </td> <td>2      </td> <td>2      </td> <td>2      </td> <td>2      </td> <td>2      </td> <td>25  </td> <td>24  </td> <td>46  </td> <td>21  </td> <td>35  </td>\n",
       "        </tr>\n",
       "        <tr>\n",
       "            <td>1985</td> <td>4   </td> <td>5      </td> <td>26  </td> <td>5       </td> <td>2   </td> <td>1   </td> <td>1   </td> <td>1   </td> <td>2   </td> <td>2      </td> <td>2      </td> <td>2      </td> <td>2      </td> <td>2      </td> <td>26  </td> <td>27  </td> <td>28  </td> <td>27  </td> <td>25  </td>\n",
       "        </tr>\n",
       "        <tr>\n",
       "            <td>1985</td> <td>5   </td> <td>5      </td> <td>24  </td> <td>5       </td> <td>2   </td> <td>2   </td> <td>1   </td> <td>1   </td> <td>1   </td> <td>2      </td> <td>2      </td> <td>2      </td> <td>2      </td> <td>2      </td> <td>44  </td> <td>25  </td> <td>20  </td> <td>19  </td> <td>12  </td>\n",
       "        </tr>\n",
       "        <tr>\n",
       "            <td>1985</td> <td>6   </td> <td>5      </td> <td>45  </td> <td>4       </td> <td>1   </td> <td>1   </td> <td>1   </td> <td>2   </td> <td>0   </td> <td>2      </td> <td>2      </td> <td>2      </td> <td>2      </td> <td>0      </td> <td>40  </td> <td>35  </td> <td>44  </td> <td>35  </td> <td>-1  </td>\n",
       "        </tr>\n",
       "        <tr>\n",
       "            <td>1985</td> <td>7   </td> <td>5      </td> <td>44  </td> <td>6       </td> <td>2   </td> <td>2   </td> <td>2   </td> <td>2   </td> <td>1   </td> <td>2      </td> <td>2      </td> <td>2      </td> <td>2      </td> <td>2      </td> <td>33  </td> <td>43  </td> <td>41  </td> <td>40  </td> <td>37  </td>\n",
       "        </tr>\n",
       "        <tr>\n",
       "            <td>1985</td> <td>8   </td> <td>5      </td> <td>56  </td> <td>5       </td> <td>2   </td> <td>1   </td> <td>2   </td> <td>1   </td> <td>1   </td> <td>2      </td> <td>2      </td> <td>2      </td> <td>2      </td> <td>2      </td> <td>40  </td> <td>50  </td> <td>40  </td> <td>50  </td> <td>65  </td>\n",
       "        </tr>\n",
       "        <tr>\n",
       "            <td>1985</td> <td>9   </td> <td>1      </td> <td>85  </td> <td>2       </td> <td>2   </td> <td>1   </td> <td>0   </td> <td>0   </td> <td>0   </td> <td>2      </td> <td>1      </td> <td>0      </td> <td>0      </td> <td>0      </td> <td>45  </td> <td>84  </td> <td>-1  </td> <td>-1  </td> <td>-1  </td>\n",
       "        </tr>\n",
       "        <tr>\n",
       "            <td>1985</td> <td>10  </td> <td>5      </td> <td>65  </td> <td>2       </td> <td>2   </td> <td>9   </td> <td>0   </td> <td>0   </td> <td>0   </td> <td>2      </td> <td>2      </td> <td>0      </td> <td>0      </td> <td>0      </td> <td>65  </td> <td>65  </td> <td>-1  </td> <td>-1  </td> <td>-1  </td>\n",
       "        </tr>\n",
       "    </tbody>\n",
       "</table>\n",
       "<p>... (1521 rows omitted)</p>"
      ],
      "text/plain": [
       "year | id   | marital | age  | numgiven | sex1 | sex2 | sex3 | sex4 | sex5 | spouse1 | spouse2 | spouse3 | spouse4 | spouse5 | age1 | age2 | age3 | age4 | age5\n",
       "1985 | 1    | 1       | 33   | 6        | 1    | 2    | 1    | 1    | 2    | 2       | 1       | 2       | 2       | 2       | 32   | 29   | 32   | 35   | 29\n",
       "1985 | 2    | 1       | 49   | 6        | 2    | 1    | 1    | 2    | 1    | 1       | 2       | 2       | 2       | 2       | 42   | 44   | 45   | 40   | 50\n",
       "1985 | 3    | 5       | 23   | 5        | 2    | 2    | 2    | 2    | 2    | 2       | 2       | 2       | 2       | 2       | 25   | 24   | 46   | 21   | 35\n",
       "1985 | 4    | 5       | 26   | 5        | 2    | 1    | 1    | 1    | 2    | 2       | 2       | 2       | 2       | 2       | 26   | 27   | 28   | 27   | 25\n",
       "1985 | 5    | 5       | 24   | 5        | 2    | 2    | 1    | 1    | 1    | 2       | 2       | 2       | 2       | 2       | 44   | 25   | 20   | 19   | 12\n",
       "1985 | 6    | 5       | 45   | 4        | 1    | 1    | 1    | 2    | 0    | 2       | 2       | 2       | 2       | 0       | 40   | 35   | 44   | 35   | -1\n",
       "1985 | 7    | 5       | 44   | 6        | 2    | 2    | 2    | 2    | 1    | 2       | 2       | 2       | 2       | 2       | 33   | 43   | 41   | 40   | 37\n",
       "1985 | 8    | 5       | 56   | 5        | 2    | 1    | 2    | 1    | 1    | 2       | 2       | 2       | 2       | 2       | 40   | 50   | 40   | 50   | 65\n",
       "1985 | 9    | 1       | 85   | 2        | 2    | 1    | 0    | 0    | 0    | 2       | 1       | 0       | 0       | 0       | 45   | 84   | -1   | -1   | -1\n",
       "1985 | 10   | 5       | 65   | 2        | 2    | 9    | 0    | 0    | 0    | 2       | 2       | 0       | 0       | 0       | 65   | 65   | -1   | -1   | -1\n",
       "... (1521 rows omitted)"
      ]
     },
     "execution_count": 99,
     "metadata": {},
     "output_type": "execute_result"
    }
   ],
   "source": [
    "gss_1985_responded"
   ]
  },
  {
   "cell_type": "markdown",
   "metadata": {
    "deletable": false,
    "editable": false
   },
   "source": [
    "## Question 13: \n",
    "Now we will use these functions to convert the wide-format data from 1985 and 2004 into long format. This will enable us to examine whether or not there is evidence of homophily in the GSS confidant reports from those two years.\n",
    "\n",
    "Be sure to include the following:\n",
    "\n",
    "* respondent's age\n",
    "* alter's age\n"
   ]
  },
  {
   "cell_type": "code",
   "execution_count": 103,
   "metadata": {
    "tags": []
   },
   "outputs": [
    {
     "data": {
      "text/html": [
       "<table border=\"1\" class=\"dataframe\">\n",
       "    <thead>\n",
       "        <tr>\n",
       "            <th>respondents age</th> <th>alter_age</th>\n",
       "        </tr>\n",
       "    </thead>\n",
       "    <tbody>\n",
       "        <tr>\n",
       "            <td>52             </td> <td>-1       </td>\n",
       "        </tr>\n",
       "        <tr>\n",
       "            <td>43             </td> <td>-1       </td>\n",
       "        </tr>\n",
       "        <tr>\n",
       "            <td>52             </td> <td>56       </td>\n",
       "        </tr>\n",
       "        <tr>\n",
       "            <td>34             </td> <td>63       </td>\n",
       "        </tr>\n",
       "        <tr>\n",
       "            <td>22             </td> <td>-1       </td>\n",
       "        </tr>\n",
       "        <tr>\n",
       "            <td>26             </td> <td>25       </td>\n",
       "        </tr>\n",
       "        <tr>\n",
       "            <td>74             </td> <td>-1       </td>\n",
       "        </tr>\n",
       "        <tr>\n",
       "            <td>58             </td> <td>57       </td>\n",
       "        </tr>\n",
       "        <tr>\n",
       "            <td>32             </td> <td>-1       </td>\n",
       "        </tr>\n",
       "        <tr>\n",
       "            <td>48             </td> <td>50       </td>\n",
       "        </tr>\n",
       "    </tbody>\n",
       "</table>\n",
       "<p>... (7120 rows omitted)</p>"
      ],
      "text/plain": [
       "respondents age | alter_age\n",
       "52              | -1\n",
       "43              | -1\n",
       "52              | 56\n",
       "34              | 63\n",
       "22              | -1\n",
       "26              | 25\n",
       "74              | -1\n",
       "58              | 57\n",
       "32              | -1\n",
       "48              | 50\n",
       "... (7120 rows omitted)"
      ]
     },
     "execution_count": 103,
     "metadata": {},
     "output_type": "execute_result"
    }
   ],
   "source": [
    "gss_1985_long_raw = Table().with_columns([\n",
    "    'respondents age', repeat_single_col(gss_1985_responded, 'age'),\n",
    "    'alter_age', wide_to_long(gss_1985_responded, 'age')])\n",
    "gss_2004_long_raw = Table().with_columns([\n",
    "    'respondents age', repeat_single_col(gss_2004_responded, 'age'),\n",
    "    'alter_age', wide_to_long(gss_2004_responded, 'age')])\n",
    "\n",
    "gss_2004_long_raw"
   ]
  },
  {
   "cell_type": "code",
   "execution_count": 111,
   "metadata": {
    "deletable": false,
    "editable": false
   },
   "outputs": [
    {
     "data": {
      "text/html": [
       "<p><strong><pre style='display: inline;'>q13</pre></strong> passed! 🙌</p>"
      ],
      "text/plain": [
       "q13 results: All test cases passed!"
      ]
     },
     "execution_count": 111,
     "metadata": {},
     "output_type": "execute_result"
    }
   ],
   "source": [
    "grader.check(\"q13\")"
   ]
  },
  {
   "cell_type": "markdown",
   "metadata": {
    "deletable": false,
    "editable": false
   },
   "source": [
    "## Question 13:\n",
    "Not all respondents reported 5 alters. In cases where alter information is missing, `alter_age` is coded as -1. Furthermore, in cases where respondents did report about an alter, but they did not know or refused to give the alter's age, [the codebook](http://gss.norc.org/documents/codebook/GSS_Codebook.pdf) tells use that `alter_age` will have the value 98 or 99.\n",
    "\n",
    "Create the Tables gss_1985_long and gss_2004_long, which start from `gss_1985_long_raw` and `gss_2004_long_raw` and filter out rows where `alter_age` equals -1, 98, or 99 so that we are left with only actual reported alters whose age was given.\n",
    "\n",
    "*Hint: use `.where()` and `are.not_equal_to()` to perform filtering.*"
   ]
  },
  {
   "cell_type": "code",
   "execution_count": 109,
   "metadata": {},
   "outputs": [],
   "source": [
    "gss_1985_long = gss_1985_long_raw.where(\"alter_age\", are.between(0, 98))\n",
    "#gss_1985_long = gss_1985_long.where(...)\n",
    "#gss_1985_long = gss_1985_long.where(...)\n",
    "\n",
    "gss_2004_long = gss_2004_long_raw.where(\"alter_age\", are.between(0, 98))\n",
    "#gss_2004_long = gss_2004_long.where(...)\n",
    "#gss_2004_long = gss_2004_long.where(...)"
   ]
  },
  {
   "cell_type": "code",
   "execution_count": 110,
   "metadata": {
    "deletable": false,
    "editable": false
   },
   "outputs": [
    {
     "data": {
      "text/html": [
       "<p><strong><pre style='display: inline;'>q13</pre></strong> passed! ✨</p>"
      ],
      "text/plain": [
       "q13 results: All test cases passed!"
      ]
     },
     "execution_count": 110,
     "metadata": {},
     "output_type": "execute_result"
    }
   ],
   "source": [
    "grader.check(\"q13\")"
   ]
  },
  {
   "cell_type": "markdown",
   "metadata": {
    "deletable": false,
    "editable": false
   },
   "source": [
    "<!-- BEGIN QUESTION -->\n",
    "\n",
    "## Question 14:\n",
    "Create a scatterplot of the respondent's age and the alter's age (make a separate plot for 1985 and for 2004)."
   ]
  },
  {
   "cell_type": "code",
   "execution_count": 113,
   "metadata": {
    "tags": []
   },
   "outputs": [
    {
     "data": {
      "image/png": "[encoded data removed]",
      "text/plain": [
       "<Figure size 500x500 with 1 Axes>"
      ]
     },
     "metadata": {},
     "output_type": "display_data"
    }
   ],
   "source": [
    "gss_1985_long.scatter(\"respondents age\", \"alter_age\")"
   ]
  },
  {
   "cell_type": "code",
   "execution_count": 114,
   "metadata": {
    "tags": []
   },
   "outputs": [
    {
     "data": {
      "image/png": "[encoded data removed]",
      "text/plain": [
       "<Figure size 500x500 with 1 Axes>"
      ]
     },
     "metadata": {},
     "output_type": "display_data"
    }
   ],
   "source": [
    "gss_2004_long.scatter(\"respondents age\", \"alter_age\")"
   ]
  },
  {
   "cell_type": "markdown",
   "metadata": {
    "deletable": false,
    "editable": false
   },
   "source": [
    "<!-- END QUESTION -->\n",
    "\n",
    "## Additional Topic: Sampling Variation and Bootstrapping\n",
    "\n",
    "Most data we collect or use is based on a \"sample\" of some sort. For example, the dataset we will create with your Homework 1 personal networks survey tells us something about the personal networks of Berkeley students.\n",
    "But if we talked to a different set of Berkeley students, we could get a different answer. How do we know if what we observe in our sample is a good reflection of the real world? How does the variation in our sample relate to variation in the real world?\n",
    "\n",
    "We can actually estimate the sampling variation within our data, if we assume our data is sampled randomly. (This is a stretch, of course - we won't actually take a random sample. What difference might we expect between the people in our dataset and a randomly selected set of Berkeley students?)\n",
    "\n",
    "In order to estimate the sampling variation, we'll use an approach called resampling or the bootstrap. This is a topic we'll cover in more depth later, but this is a quick introduction.\n",
    "\n",
    "Bootstrapping involves resampling the data. If we picture our data sample as a bag of coins, where each coin is an observation, bootstrapping is the processing of putting all drawn coins back into the bag, reaching into the bag again and randomly drawing from the sample we've already collected. Let us resample the `numgiven` column in the GSS data we used as an example:\n"
   ]
  },
  {
   "cell_type": "code",
   "execution_count": 115,
   "metadata": {},
   "outputs": [],
   "source": [
    "resampled_survey = gss_1985_responded.select('numgiven').sample()"
   ]
  },
  {
   "cell_type": "markdown",
   "metadata": {},
   "source": [
    "To see what happened here, let's look at resampled_survey:"
   ]
  },
  {
   "cell_type": "code",
   "execution_count": 116,
   "metadata": {},
   "outputs": [
    {
     "data": {
      "text/html": [
       "<table border=\"1\" class=\"dataframe\">\n",
       "    <thead>\n",
       "        <tr>\n",
       "            <th>numgiven</th>\n",
       "        </tr>\n",
       "    </thead>\n",
       "    <tbody>\n",
       "        <tr>\n",
       "            <td>3       </td>\n",
       "        </tr>\n",
       "        <tr>\n",
       "            <td>3       </td>\n",
       "        </tr>\n",
       "        <tr>\n",
       "            <td>3       </td>\n",
       "        </tr>\n",
       "        <tr>\n",
       "            <td>6       </td>\n",
       "        </tr>\n",
       "        <tr>\n",
       "            <td>3       </td>\n",
       "        </tr>\n",
       "        <tr>\n",
       "            <td>5       </td>\n",
       "        </tr>\n",
       "        <tr>\n",
       "            <td>3       </td>\n",
       "        </tr>\n",
       "        <tr>\n",
       "            <td>2       </td>\n",
       "        </tr>\n",
       "        <tr>\n",
       "            <td>5       </td>\n",
       "        </tr>\n",
       "        <tr>\n",
       "            <td>0       </td>\n",
       "        </tr>\n",
       "    </tbody>\n",
       "</table>\n",
       "<p>... (1521 rows omitted)</p>"
      ],
      "text/plain": [
       "numgiven\n",
       "3\n",
       "3\n",
       "3\n",
       "6\n",
       "3\n",
       "5\n",
       "3\n",
       "2\n",
       "5\n",
       "0\n",
       "... (1521 rows omitted)"
      ]
     },
     "execution_count": 116,
     "metadata": {},
     "output_type": "execute_result"
    }
   ],
   "source": [
    "resampled_survey"
   ]
  },
  {
   "cell_type": "markdown",
   "metadata": {},
   "source": [
    "`resampled_survey` is a random sample of the data from the `numgiven` values recorded in the original GSS data.\n",
    "To estimate the sampling variation, we need many resamples. So we'll stick the resampling in a loop:"
   ]
  },
  {
   "cell_type": "code",
   "execution_count": 117,
   "metadata": {},
   "outputs": [],
   "source": [
    "resampled_numgiven = make_array()\n",
    "\n",
    "for _ in np.arange(10000):\n",
    "    # NB: num_responses rows in our dataset\n",
    "    resampled_survey = gss_1985_responded.select('numgiven').sample()  # resample the survey\n",
    "    resampled_numgiven = np.append(resampled_numgiven, \n",
    "                                        np.mean(resampled_survey['numgiven'])) # calculate the mean and add it to our list of means\n",
    "resampled_net_size = Table().with_column('numgiven', resampled_numgiven)"
   ]
  },
  {
   "cell_type": "markdown",
   "metadata": {},
   "source": [
    "'resampled_numgiven' now has the mean number of people respondents discuss important matters with for many different resamples of our data.\n",
    "\n",
    "Let's look at the distribution of the sample means"
   ]
  },
  {
   "cell_type": "code",
   "execution_count": 118,
   "metadata": {},
   "outputs": [
    {
     "data": {
      "image/png": "[encoded data removed]",
      "text/plain": [
       "<Figure size 600x400 with 1 Axes>"
      ]
     },
     "metadata": {},
     "output_type": "display_data"
    }
   ],
   "source": [
    "resampled_net_size.hist('numgiven', bins=50)"
   ]
  },
  {
   "cell_type": "markdown",
   "metadata": {},
   "source": [
    "Let's also check the mean of all values of `numgiven` in our GSS 1985 data:"
   ]
  },
  {
   "cell_type": "code",
   "execution_count": 119,
   "metadata": {},
   "outputs": [
    {
     "data": {
      "text/plain": [
       "2.9830176355323319"
      ]
     },
     "execution_count": 119,
     "metadata": {},
     "output_type": "execute_result"
    }
   ],
   "source": [
    "np.mean(gss_1985_responded['numgiven'])"
   ]
  },
  {
   "cell_type": "markdown",
   "metadata": {},
   "source": [
    "We can see that the sample means we obtained from 10000 resamples varies around the population mean, and the distribution approximates a normal distribution. "
   ]
  },
  {
   "cell_type": "markdown",
   "metadata": {
    "deletable": false,
    "editable": false
   },
   "source": [
    "---\n",
    "\n",
    "To double-check your work, the cell below will rerun all of the autograder tests."
   ]
  },
  {
   "cell_type": "code",
   "execution_count": 120,
   "metadata": {
    "deletable": false,
    "editable": false
   },
   "outputs": [
    {
     "data": {
      "text/plain": [
       "q1 results: All test cases passed!\n",
       "\n",
       "q10 results: All test cases passed!\n",
       "\n",
       "q12 results: All test cases passed!\n",
       "\n",
       "q13 results: All test cases passed!\n",
       "\n",
       "q2 results: All test cases passed!\n",
       "\n",
       "q3 results: All test cases passed!\n",
       "\n",
       "q4 results: All test cases passed!\n",
       "\n",
       "q5 results: All test cases passed!\n",
       "\n",
       "q6 results: All test cases passed!\n",
       "\n",
       "q7 results: All test cases passed!\n",
       "\n",
       "q9 results: All test cases passed!"
      ]
     },
     "execution_count": 120,
     "metadata": {},
     "output_type": "execute_result"
    }
   ],
   "source": [
    "grader.check_all()"
   ]
  },
  {
   "cell_type": "markdown",
   "metadata": {
    "deletable": false,
    "editable": false
   },
   "source": [
    "## Submission\n",
    "\n",
    "Make sure you have run all cells in your notebook in order before running the cell below, so that all images/graphs appear in the output. The cell below will generate a zip file for you to submit. **Please save before exporting!**\n",
    "\n",
    "Please upload the .zip file to Gradescope."
   ]
  },
  {
   "cell_type": "code",
   "execution_count": 121,
   "metadata": {
    "deletable": false,
    "editable": false
   },
   "outputs": [
    {
     "name": "stdout",
     "output_type": "stream",
     "text": [
      "Running your submission against local test cases...\n",
      "\n",
      "\n",
      "\n",
      "Your submission received the following results when run against available test cases:\n",
      "\n",
      "    q1 results: All test cases passed!\n",
      "\n",
      "    q2 results: All test cases passed!\n",
      "\n",
      "    q3 results: All test cases passed!\n",
      "\n",
      "    q4 results: All test cases passed!\n",
      "\n",
      "    q5 results: All test cases passed!\n",
      "\n",
      "    q6 results: All test cases passed!\n",
      "\n",
      "    q7 results: All test cases passed!\n",
      "\n",
      "    q9 results: All test cases passed!\n",
      "\n",
      "    q10 results: All test cases passed!\n",
      "\n",
      "    q12 results: All test cases passed!\n",
      "\n",
      "    q13 results: All test cases passed!\n"
     ]
    },
    {
     "data": {
      "text/html": [
       "\n",
       "            <p>Your submission has been exported. Click <a href=\"lab01_personal_network_survey_2024_09_09T05_56_10_980105.zip\" download=\"lab01_personal_network_survey_2024_09_09T05_56_10_980105.zip\" target=\"_blank\">here</a>\n",
       "            to download the zip file.</p>\n",
       "            "
      ],
      "text/plain": [
       "<IPython.core.display.HTML object>"
      ]
     },
     "metadata": {},
     "output_type": "display_data"
    }
   ],
   "source": [
    "# Save your notebook first, then run this cell to export your submission.\n",
    "grader.export(run_tests=True)"
   ]
  },
  {
   "cell_type": "markdown",
   "metadata": {},
   "source": [
    " "
   ]
  }
 ],
 "metadata": {
  "kernelspec": {
   "display_name": "Python 3 (ipykernel)",
   "language": "python",
   "name": "python3"
  },
  "language_info": {
   "codemirror_mode": {
    "name": "ipython",
    "version": 3
   },
   "file_extension": ".py",
   "mimetype": "text/x-python",
   "name": "python",
   "nbconvert_exporter": "python",
   "pygments_lexer": "ipython3",
   "version": "3.11.10"
  },
  "otter": {
   "OK_FORMAT": true,
   "tests": {
    "q1": {
     "name": "q1",
     "points": 2,
     "suites": [
      {
       "cases": [
        {
         "code": ">>> np.isclose(gss_number_of_rows, 59599)\nTrue",
         "failure_message": "Incorrect number of rows",
         "hidden": false,
         "locked": false
        },
        {
         "code": ">>> np.isclose(gss_number_of_cols, 20)\nTrue",
         "failure_message": "Incorrect number of columns",
         "hidden": false,
         "locked": false
        }
       ],
       "scored": true,
       "setup": "",
       "teardown": "",
       "type": "doctest"
      }
     ]
    },
    "q10": {
     "name": "q10",
     "points": 2,
     "suites": [
      {
       "cases": [
        {
         "code": ">>> round(proportion_isolated_1985, 3) == 0.089\nTrue",
         "failure_message": "1985 survey incorrect proportion isolated",
         "hidden": false,
         "locked": false
        },
        {
         "code": ">>> round(proportion_isolated_2004, 3) == 0.25\nTrue",
         "failure_message": "2004 survey incorrect proportion isolated",
         "hidden": false,
         "locked": false
        }
       ],
       "scored": true,
       "setup": "",
       "teardown": "",
       "type": "doctest"
      }
     ]
    },
    "q12": {
     "name": "q12",
     "points": 1,
     "suites": [
      {
       "cases": [
        {
         "code": ">>> np.isclose(q1, 7655)\nTrue",
         "hidden": false,
         "locked": false
        }
       ],
       "scored": true,
       "setup": "",
       "teardown": "",
       "type": "doctest"
      }
     ]
    },
    "q13": {
     "name": "q13",
     "points": 1,
     "suites": [
      {
       "cases": [
        {
         "code": ">>> gss_1985_long_raw.num_rows == 7655\nTrue",
         "failure_message": "1985 incorrect number of rows. Hint- use `repeat_single_col` to replicate ego information and `wide_to_long` to pivot the alter information, as done in lab1",
         "hidden": false,
         "locked": false
        },
        {
         "code": ">>> gss_2004_long_raw.num_rows == 7130\nTrue",
         "failure_message": "2004 incorrect number of rows. Hint- use `repeat_single_col` to replicate ego information and `wide_to_long` to pivot the alter information, as done in lab1",
         "hidden": false,
         "locked": false
        },
        {
         "code": ">>> gss_1985_long.num_rows == 4429\nTrue",
         "failure_message": "1985 incorrect number of rows.",
         "hidden": false,
         "locked": false
        },
        {
         "code": ">>> gss_2004_long.num_rows == 2811\nTrue",
         "failure_message": "2004 incorrect number of rows.",
         "hidden": false,
         "locked": false
        }
       ],
       "scored": true,
       "setup": "",
       "teardown": "",
       "type": "doctest"
      }
     ]
    },
    "q2": {
     "name": "q2",
     "points": 2,
     "suites": [
      {
       "cases": [
        {
         "code": ">>> np.isclose(smallest_year, 1972)\nTrue",
         "failure_message": "Incorrect earliest year. Hint- select a column using `Table.column('column name in quotes')`",
         "hidden": false,
         "locked": false
        },
        {
         "code": ">>> np.isclose(largest_year, 2014)\nTrue",
         "failure_message": "Incorrect latest year. Hint- select a column using `Table.column('column name in quotes')`",
         "hidden": false,
         "locked": false
        }
       ],
       "scored": true,
       "setup": "",
       "teardown": "",
       "type": "doctest"
      }
     ]
    },
    "q3": {
     "name": "q3",
     "points": 2,
     "suites": [
      {
       "cases": [
        {
         "code": ">>> np.isclose(gss_1985.num_rows, 1534)\nTrue",
         "failure_message": "1985 survey incorrect number of rows. Hint- use functions `Table.where` and `are.equal_to(...)`",
         "hidden": false,
         "locked": false
        },
        {
         "code": ">>> np.isclose(gss_2004.num_rows, 2812)\nTrue",
         "failure_message": "2004 survey incorrect number of rows. Hint- use functions `Table.where` and `are.equal_to(...)`",
         "hidden": false,
         "locked": false
        }
       ],
       "scored": true,
       "setup": "",
       "teardown": "",
       "type": "doctest"
      }
     ]
    },
    "q4": {
     "name": "q4",
     "points": 1,
     "suites": [
      {
       "cases": [
        {
         "code": ">>> np.isclose(responses_from_1985, 1534)\nTrue",
         "failure_message": "1985 survey incorrect number of rows",
         "hidden": false,
         "locked": false
        },
        {
         "code": ">>> np.isclose(responses_from_2004, 2812)\nTrue",
         "failure_message": "2004 survey incorrect number of rows",
         "hidden": false,
         "locked": false
        }
       ],
       "scored": true,
       "setup": "",
       "teardown": "",
       "type": "doctest"
      }
     ]
    },
    "q5": {
     "name": "q5",
     "points": 1,
     "suites": [
      {
       "cases": [
        {
         "code": ">>> np.isclose(gss_1985_numgiven.num_rows, 8)\nTrue",
         "failure_message": "1985 survey incorrect number of rows.",
         "hidden": false,
         "locked": false
        },
        {
         "code": ">>> np.isclose(gss_1985_numgiven.num_columns, 2)\nTrue",
         "failure_message": "1985 survey incorrect number of columns",
         "hidden": false,
         "locked": false
        },
        {
         "code": ">>> np.isclose(gss_2004_numgiven.num_rows, 9)\nTrue",
         "failure_message": "2004 survey incorrect number of rows",
         "hidden": false,
         "locked": false
        },
        {
         "code": ">>> np.isclose(gss_2004_numgiven.num_columns, 2)\nTrue",
         "failure_message": "2004 survey incorrect number of columns",
         "hidden": false,
         "locked": false
        }
       ],
       "scored": true,
       "setup": "",
       "teardown": "",
       "type": "doctest"
      }
     ]
    },
    "q6": {
     "name": "q6",
     "points": 2,
     "suites": [
      {
       "cases": [
        {
         "code": ">>> np.isclose(gss_2004_interviewed.num_rows, 1472)\nTrue",
         "failure_message": "Incorrect number of rows",
         "hidden": false,
         "locked": false
        }
       ],
       "scored": true,
       "setup": "",
       "teardown": "",
       "type": "doctest"
      }
     ]
    },
    "q7": {
     "name": "q7",
     "points": 1,
     "suites": [
      {
       "cases": [
        {
         "code": ">>> np.isclose(gss_2004_responded.num_rows, 1426)\nTrue",
         "failure_message": "2004 survey incorrect number of columns.",
         "hidden": false,
         "locked": false
        },
        {
         "code": ">>> np.isclose(gss_1985_responded.num_rows, 1531)\nTrue",
         "failure_message": "1985 survey incorrect number of columns",
         "hidden": false,
         "locked": false
        }
       ],
       "scored": true,
       "setup": "",
       "teardown": "",
       "type": "doctest"
      }
     ]
    },
    "q9": {
     "name": "q9",
     "points": 1,
     "suites": [
      {
       "cases": [
        {
         "code": ">>> np.isclose(sum(isolated_1985), 136)\nTrue",
         "failure_message": "1985 survey incorrect number",
         "hidden": false,
         "locked": false
        },
        {
         "code": ">>> np.isclose(sum(isolated_2004), 356)\nTrue",
         "failure_message": "2004 survey incorrect number",
         "hidden": false,
         "locked": false
        }
       ],
       "scored": true,
       "setup": "",
       "teardown": "",
       "type": "doctest"
      }
     ]
    }
   }
  }
 },
 "nbformat": 4,
 "nbformat_minor": 4
}
