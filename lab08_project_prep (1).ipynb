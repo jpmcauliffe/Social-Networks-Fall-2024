{
 "cells": [
  {
   "cell_type": "code",
   "execution_count": 50,
   "id": "ec1e890d",
   "metadata": {},
   "outputs": [],
   "source": [
    "import pandas as pd\n",
    "import numpy as np\n",
    "import os\n",
    "import networkx as nx\n",
    "import matplotlib.pyplot as plt"
   ]
  },
  {
   "cell_type": "markdown",
   "id": "156e0c34",
   "metadata": {},
   "source": [
    "# Lab 8: Preparing for the Mini Project"
   ]
  },
  {
   "cell_type": "markdown",
   "id": "b038a4b2-91ca-4431-a769-696fc8ecdd35",
   "metadata": {},
   "source": [
    "So far this semester, we have given you the majority of the code needed to analyze networks. However, you have learned all the basics necessary to analyze data on your own! For your upcoming mini project, you will be:\n",
    "1. Creating a new python notebook\n",
    "2. Reading in epistolary data\n",
    "3. Creating an undirected network from the data\n",
    "4. Calculating the average in-degree and out-degree of the network\n",
    "5. Making a scatterplot of in-degrees and out-degrees\n",
    "\n",
    "As well as a few other analyses."
   ]
  },
  {
   "cell_type": "markdown",
   "id": "7b4741e7-90a0-46cf-86e3-b5cd5c20de2a",
   "metadata": {},
   "source": [
    "This lab is designed to make sure you have all the tools you need to complete the mini project. We will be working through the same steps as the mini-project, but with a different epistolary dataset. **You do not need to turn this lab in.**"
   ]
  },
  {
   "cell_type": "markdown",
   "id": "85321f44-9b81-405a-b726-1ac3b1a4f9da",
   "metadata": {},
   "source": [
    "## Step 1: Creating a new python notebook"
   ]
  },
  {
   "cell_type": "markdown",
   "id": "51dbbd4e-d696-4d77-9f2d-725a195fdda0",
   "metadata": {},
   "source": [
    "There are a number of different ways to go about this. One possibility is Cal's Datahub:\n",
    "\n",
    "_https://datahub.berkeley.edu/hub_\n",
    "\n",
    "You can log in with your Calnet ID, then go to file > new > new notebook. Make sure to save your work in a place you can access it again!"
   ]
  },
  {
   "cell_type": "markdown",
   "id": "c6f03417-19fa-4f38-9b89-745a19581649",
   "metadata": {},
   "source": [
    "You could also download Anaconda-Navigator, and then open a Jupyter Notebook. Again, you would create a new file by going to file > new > new notebook."
   ]
  },
  {
   "cell_type": "markdown",
   "id": "6478c067-4166-4d28-a949-b54593c8415b",
   "metadata": {},
   "source": [
    "## Step 2: Reading in the data"
   ]
  },
  {
   "cell_type": "markdown",
   "id": "cb0920a7-bcb4-48ef-bd54-964f7cb3ac8e",
   "metadata": {},
   "source": [
    "Reading in the data is often the most difficult and time consuming part of the research process, as silly as that may sound. Here, we will read in the Stanford email data. It is always useful to check out the data documentation."
   ]
  },
  {
   "cell_type": "markdown",
   "id": "9b951595-1956-46f6-8f10-77f94ed01bd1",
   "metadata": {},
   "source": [
    "Here is the documentation for the Stanford Data. This is also **where you will download the data:**\n",
    "\n",
    "https://snap.stanford.edu/data/email-Eu-core-temporal.html"
   ]
  },
  {
   "cell_type": "markdown",
   "id": "9d704ebc-09ba-4c9b-bd52-0c0079ce1248",
   "metadata": {},
   "source": [
    "Here is where you will download the Tudor data, and also read the necessary documentation:\n",
    "\n",
    "\n",
    "https://github.com/tudor-networks-of-power/code/tree/main/TNP_DATA"
   ]
  },
  {
   "cell_type": "markdown",
   "id": "6e2ae876-fc41-4a6b-8f86-c993f5db2bb5",
   "metadata": {},
   "source": [
    "Although the Stanford dataset is obviously much more recent than the Tudor data you will be using for the Mini Project, the basic premise is similar. If one person sent another an email or letter, there is an edge between those two nodes. It is possible to create a directed, weighted network from the data if we keep track of who sent the correspondence and how many were sent. It is also possible to flatten the data into a simple, undirected, unweighted graph."
   ]
  },
  {
   "cell_type": "markdown",
   "id": "8f2cef08-5e42-49ad-9a57-5e0794ccf270",
   "metadata": {},
   "source": [
    "First, **identify what data you need.** In the Stanford case, it would be useful to get all emails between members of the institution. In the Tudor dataset, you will probably want to focus on the letter edgelist, rather than anything specific to one of the chapters."
   ]
  },
  {
   "cell_type": "markdown",
   "id": "60a2d568-0041-4b88-9fbe-94ece3166799",
   "metadata": {},
   "source": [
    "Next, **download that data.** Click the link with the relevant files, and then store those files someplace you can find on your own computer (or upload to the datahub server)."
   ]
  },
  {
   "cell_type": "markdown",
   "id": "6e80aa68-4b02-4c85-a71e-0a79dc4d3d86",
   "metadata": {},
   "source": [
    "There are many different ways to \"read in\" the data, or to tell your Python program where to access the data on your own computer. Here, we assign a filepath first."
   ]
  },
  {
   "cell_type": "code",
   "execution_count": 51,
   "id": "1b4dbf60-edeb-4454-9088-d551df33b997",
   "metadata": {},
   "outputs": [],
   "source": [
    "data_dir = \"./email-Eu-core-temporal.txt.gz\""
   ]
  },
  {
   "cell_type": "markdown",
   "id": "f27a04aa-68ce-4e85-8c81-cc88a55ea5b2",
   "metadata": {},
   "source": [
    "One common method to read in the data is the pandas .read function. It will be important to read the data documentation and know what format the data is in (e.g. tab delimited, csv, etc.)\n",
    "\n",
    "For the Stanford data, we've specificed that the separation between data cells is a blank space, or \" \". For the tudor data, you may want to google \"How to convert tab-separated file into a dataframe using Python.\""
   ]
  },
  {
   "cell_type": "code",
   "execution_count": 52,
   "id": "785a5dd2",
   "metadata": {},
   "outputs": [
    {
     "data": {
      "text/html": [
       "<div>\n",
       "<style scoped>\n",
       "    .dataframe tbody tr th:only-of-type {\n",
       "        vertical-align: middle;\n",
       "    }\n",
       "\n",
       "    .dataframe tbody tr th {\n",
       "        vertical-align: top;\n",
       "    }\n",
       "\n",
       "    .dataframe thead th {\n",
       "        text-align: right;\n",
       "    }\n",
       "</style>\n",
       "<table border=\"1\" class=\"dataframe\">\n",
       "  <thead>\n",
       "    <tr style=\"text-align: right;\">\n",
       "      <th></th>\n",
       "      <th>0</th>\n",
       "      <th>1</th>\n",
       "      <th>2</th>\n",
       "    </tr>\n",
       "  </thead>\n",
       "  <tbody>\n",
       "    <tr>\n",
       "      <th>0</th>\n",
       "      <td>582</td>\n",
       "      <td>364</td>\n",
       "      <td>0</td>\n",
       "    </tr>\n",
       "    <tr>\n",
       "      <th>1</th>\n",
       "      <td>168</td>\n",
       "      <td>472</td>\n",
       "      <td>2797</td>\n",
       "    </tr>\n",
       "    <tr>\n",
       "      <th>2</th>\n",
       "      <td>168</td>\n",
       "      <td>912</td>\n",
       "      <td>3304</td>\n",
       "    </tr>\n",
       "    <tr>\n",
       "      <th>3</th>\n",
       "      <td>2</td>\n",
       "      <td>790</td>\n",
       "      <td>4523</td>\n",
       "    </tr>\n",
       "    <tr>\n",
       "      <th>4</th>\n",
       "      <td>2</td>\n",
       "      <td>322</td>\n",
       "      <td>7926</td>\n",
       "    </tr>\n",
       "    <tr>\n",
       "      <th>...</th>\n",
       "      <td>...</td>\n",
       "      <td>...</td>\n",
       "      <td>...</td>\n",
       "    </tr>\n",
       "    <tr>\n",
       "      <th>332329</th>\n",
       "      <td>324</td>\n",
       "      <td>367</td>\n",
       "      <td>45401817</td>\n",
       "    </tr>\n",
       "    <tr>\n",
       "      <th>332330</th>\n",
       "      <td>790</td>\n",
       "      <td>126</td>\n",
       "      <td>45402441</td>\n",
       "    </tr>\n",
       "    <tr>\n",
       "      <th>332331</th>\n",
       "      <td>790</td>\n",
       "      <td>126</td>\n",
       "      <td>45403709</td>\n",
       "    </tr>\n",
       "    <tr>\n",
       "      <th>332332</th>\n",
       "      <td>782</td>\n",
       "      <td>126</td>\n",
       "      <td>45404903</td>\n",
       "    </tr>\n",
       "    <tr>\n",
       "      <th>332333</th>\n",
       "      <td>685</td>\n",
       "      <td>643</td>\n",
       "      <td>45405138</td>\n",
       "    </tr>\n",
       "  </tbody>\n",
       "</table>\n",
       "<p>332334 rows × 3 columns</p>\n",
       "</div>"
      ],
      "text/plain": [
       "          0    1         2\n",
       "0       582  364         0\n",
       "1       168  472      2797\n",
       "2       168  912      3304\n",
       "3         2  790      4523\n",
       "4         2  322      7926\n",
       "...     ...  ...       ...\n",
       "332329  324  367  45401817\n",
       "332330  790  126  45402441\n",
       "332331  790  126  45403709\n",
       "332332  782  126  45404903\n",
       "332333  685  643  45405138\n",
       "\n",
       "[332334 rows x 3 columns]"
      ]
     },
     "execution_count": 52,
     "metadata": {},
     "output_type": "execute_result"
    }
   ],
   "source": [
    "raw_data = pd.read_csv(data_dir, sep=\" \", header=None)\n",
    "raw_data"
   ]
  },
  {
   "cell_type": "markdown",
   "id": "6a82d58b-1d07-4321-91ab-08bf8ad63d54",
   "metadata": {},
   "source": [
    "Success! We have the data loaded. Still, it is a little confusing to look at right now. If we refer to the documentation, we learn that the first column is an index variable, the second column is who the email is from, third column is who the email is to, and fourth column is the time that email was sent."
   ]
  },
  {
   "cell_type": "code",
   "execution_count": 53,
   "id": "489ad16d",
   "metadata": {},
   "outputs": [
    {
     "data": {
      "text/html": [
       "<div>\n",
       "<style scoped>\n",
       "    .dataframe tbody tr th:only-of-type {\n",
       "        vertical-align: middle;\n",
       "    }\n",
       "\n",
       "    .dataframe tbody tr th {\n",
       "        vertical-align: top;\n",
       "    }\n",
       "\n",
       "    .dataframe thead th {\n",
       "        text-align: right;\n",
       "    }\n",
       "</style>\n",
       "<table border=\"1\" class=\"dataframe\">\n",
       "  <thead>\n",
       "    <tr style=\"text-align: right;\">\n",
       "      <th></th>\n",
       "      <th>from</th>\n",
       "      <th>to</th>\n",
       "      <th>time</th>\n",
       "    </tr>\n",
       "  </thead>\n",
       "  <tbody>\n",
       "    <tr>\n",
       "      <th>0</th>\n",
       "      <td>582</td>\n",
       "      <td>364</td>\n",
       "      <td>0</td>\n",
       "    </tr>\n",
       "    <tr>\n",
       "      <th>1</th>\n",
       "      <td>168</td>\n",
       "      <td>472</td>\n",
       "      <td>2797</td>\n",
       "    </tr>\n",
       "    <tr>\n",
       "      <th>2</th>\n",
       "      <td>168</td>\n",
       "      <td>912</td>\n",
       "      <td>3304</td>\n",
       "    </tr>\n",
       "    <tr>\n",
       "      <th>3</th>\n",
       "      <td>2</td>\n",
       "      <td>790</td>\n",
       "      <td>4523</td>\n",
       "    </tr>\n",
       "    <tr>\n",
       "      <th>4</th>\n",
       "      <td>2</td>\n",
       "      <td>322</td>\n",
       "      <td>7926</td>\n",
       "    </tr>\n",
       "  </tbody>\n",
       "</table>\n",
       "</div>"
      ],
      "text/plain": [
       "   from   to  time\n",
       "0   582  364     0\n",
       "1   168  472  2797\n",
       "2   168  912  3304\n",
       "3     2  790  4523\n",
       "4     2  322  7926"
      ]
     },
     "execution_count": 53,
     "metadata": {},
     "output_type": "execute_result"
    }
   ],
   "source": [
    "# Add column names so we know how to interpret the data\n",
    "raw_data = raw_data.rename(index=str, columns={0 : \"from\", 1 : \"to\", 2 : \"time\"})\n",
    "raw_data.head()"
   ]
  },
  {
   "cell_type": "markdown",
   "id": "02f9a45d-6f50-44e2-9934-51ff1233a2d5",
   "metadata": {},
   "source": [
    "## Step 3: Creating an undirected network from the data"
   ]
  },
  {
   "cell_type": "markdown",
   "id": "6c23b09d-aed8-4445-b75f-9cc2bf77e8ec",
   "metadata": {},
   "source": [
    "We need to transform the data into an undirected network. As it currently stands, each row in the dataset is an observation. \"At time X, there was an email from node Z to node Y.\" We want to transform this, so that there is a single row for every sender/recipient pairing. In other words, if Z emailed Y many different times, we want to condense all that information to a single row by adding a \"weight\" variable."
   ]
  },
  {
   "cell_type": "code",
   "execution_count": 54,
   "id": "6f493b93",
   "metadata": {},
   "outputs": [
    {
     "data": {
      "text/html": [
       "<div>\n",
       "<style scoped>\n",
       "    .dataframe tbody tr th:only-of-type {\n",
       "        vertical-align: middle;\n",
       "    }\n",
       "\n",
       "    .dataframe tbody tr th {\n",
       "        vertical-align: top;\n",
       "    }\n",
       "\n",
       "    .dataframe thead th {\n",
       "        text-align: right;\n",
       "    }\n",
       "</style>\n",
       "<table border=\"1\" class=\"dataframe\">\n",
       "  <thead>\n",
       "    <tr style=\"text-align: right;\">\n",
       "      <th></th>\n",
       "      <th>from</th>\n",
       "      <th>to</th>\n",
       "      <th>weight</th>\n",
       "    </tr>\n",
       "  </thead>\n",
       "  <tbody>\n",
       "    <tr>\n",
       "      <th>0</th>\n",
       "      <td>0</td>\n",
       "      <td>5</td>\n",
       "      <td>2</td>\n",
       "    </tr>\n",
       "    <tr>\n",
       "      <th>1</th>\n",
       "      <td>0</td>\n",
       "      <td>6</td>\n",
       "      <td>55</td>\n",
       "    </tr>\n",
       "    <tr>\n",
       "      <th>2</th>\n",
       "      <td>0</td>\n",
       "      <td>29</td>\n",
       "      <td>1</td>\n",
       "    </tr>\n",
       "    <tr>\n",
       "      <th>3</th>\n",
       "      <td>0</td>\n",
       "      <td>78</td>\n",
       "      <td>37</td>\n",
       "    </tr>\n",
       "    <tr>\n",
       "      <th>4</th>\n",
       "      <td>0</td>\n",
       "      <td>99</td>\n",
       "      <td>11</td>\n",
       "    </tr>\n",
       "    <tr>\n",
       "      <th>...</th>\n",
       "      <td>...</td>\n",
       "      <td>...</td>\n",
       "      <td>...</td>\n",
       "    </tr>\n",
       "    <tr>\n",
       "      <th>24924</th>\n",
       "      <td>1004</td>\n",
       "      <td>922</td>\n",
       "      <td>1</td>\n",
       "    </tr>\n",
       "    <tr>\n",
       "      <th>24925</th>\n",
       "      <td>1004</td>\n",
       "      <td>928</td>\n",
       "      <td>2</td>\n",
       "    </tr>\n",
       "    <tr>\n",
       "      <th>24926</th>\n",
       "      <td>1004</td>\n",
       "      <td>969</td>\n",
       "      <td>2</td>\n",
       "    </tr>\n",
       "    <tr>\n",
       "      <th>24927</th>\n",
       "      <td>1004</td>\n",
       "      <td>977</td>\n",
       "      <td>100</td>\n",
       "    </tr>\n",
       "    <tr>\n",
       "      <th>24928</th>\n",
       "      <td>1004</td>\n",
       "      <td>980</td>\n",
       "      <td>1</td>\n",
       "    </tr>\n",
       "  </tbody>\n",
       "</table>\n",
       "<p>24929 rows × 3 columns</p>\n",
       "</div>"
      ],
      "text/plain": [
       "       from   to  weight\n",
       "0         0    5       2\n",
       "1         0    6      55\n",
       "2         0   29       1\n",
       "3         0   78      37\n",
       "4         0   99      11\n",
       "...     ...  ...     ...\n",
       "24924  1004  922       1\n",
       "24925  1004  928       2\n",
       "24926  1004  969       2\n",
       "24927  1004  977     100\n",
       "24928  1004  980       1\n",
       "\n",
       "[24929 rows x 3 columns]"
      ]
     },
     "execution_count": 54,
     "metadata": {},
     "output_type": "execute_result"
    }
   ],
   "source": [
    "# Create an aggregated edge list, so we only have one row for each sender/recipient pairing\n",
    "# And calculate a \"weight\" variable\n",
    "raw_data_agg = raw_data.groupby(['from', 'to']).size().reset_index(name='weight')\n",
    "raw_data_agg"
   ]
  },
  {
   "cell_type": "code",
   "execution_count": 55,
   "id": "4ac26e25",
   "metadata": {},
   "outputs": [
    {
     "data": {
      "text/html": [
       "<div>\n",
       "<style scoped>\n",
       "    .dataframe tbody tr th:only-of-type {\n",
       "        vertical-align: middle;\n",
       "    }\n",
       "\n",
       "    .dataframe tbody tr th {\n",
       "        vertical-align: top;\n",
       "    }\n",
       "\n",
       "    .dataframe thead th {\n",
       "        text-align: right;\n",
       "    }\n",
       "</style>\n",
       "<table border=\"1\" class=\"dataframe\">\n",
       "  <thead>\n",
       "    <tr style=\"text-align: right;\">\n",
       "      <th></th>\n",
       "      <th>from</th>\n",
       "      <th>to</th>\n",
       "      <th>weight</th>\n",
       "    </tr>\n",
       "  </thead>\n",
       "  <tbody>\n",
       "    <tr>\n",
       "      <th>19599</th>\n",
       "      <td>774</td>\n",
       "      <td>947</td>\n",
       "      <td>2816</td>\n",
       "    </tr>\n",
       "    <tr>\n",
       "      <th>23468</th>\n",
       "      <td>947</td>\n",
       "      <td>774</td>\n",
       "      <td>2176</td>\n",
       "    </tr>\n",
       "    <tr>\n",
       "      <th>10813</th>\n",
       "      <td>418</td>\n",
       "      <td>996</td>\n",
       "      <td>1248</td>\n",
       "    </tr>\n",
       "    <tr>\n",
       "      <th>4815</th>\n",
       "      <td>168</td>\n",
       "      <td>912</td>\n",
       "      <td>1212</td>\n",
       "    </tr>\n",
       "    <tr>\n",
       "      <th>22476</th>\n",
       "      <td>912</td>\n",
       "      <td>168</td>\n",
       "      <td>1197</td>\n",
       "    </tr>\n",
       "    <tr>\n",
       "      <th>...</th>\n",
       "      <td>...</td>\n",
       "      <td>...</td>\n",
       "      <td>...</td>\n",
       "    </tr>\n",
       "    <tr>\n",
       "      <th>16418</th>\n",
       "      <td>658</td>\n",
       "      <td>847</td>\n",
       "      <td>1</td>\n",
       "    </tr>\n",
       "    <tr>\n",
       "      <th>16419</th>\n",
       "      <td>658</td>\n",
       "      <td>870</td>\n",
       "      <td>1</td>\n",
       "    </tr>\n",
       "    <tr>\n",
       "      <th>16421</th>\n",
       "      <td>658</td>\n",
       "      <td>902</td>\n",
       "      <td>1</td>\n",
       "    </tr>\n",
       "    <tr>\n",
       "      <th>16422</th>\n",
       "      <td>658</td>\n",
       "      <td>953</td>\n",
       "      <td>1</td>\n",
       "    </tr>\n",
       "    <tr>\n",
       "      <th>16423</th>\n",
       "      <td>658</td>\n",
       "      <td>954</td>\n",
       "      <td>1</td>\n",
       "    </tr>\n",
       "  </tbody>\n",
       "</table>\n",
       "<p>24929 rows × 3 columns</p>\n",
       "</div>"
      ],
      "text/plain": [
       "       from   to  weight\n",
       "19599   774  947    2816\n",
       "23468   947  774    2176\n",
       "10813   418  996    1248\n",
       "4815    168  912    1212\n",
       "22476   912  168    1197\n",
       "...     ...  ...     ...\n",
       "16418   658  847       1\n",
       "16419   658  870       1\n",
       "16421   658  902       1\n",
       "16422   658  953       1\n",
       "16423   658  954       1\n",
       "\n",
       "[24929 rows x 3 columns]"
      ]
     },
     "execution_count": 55,
     "metadata": {},
     "output_type": "execute_result"
    }
   ],
   "source": [
    "# Sort by the weight of the edges\n",
    "raw_data_agg.sort_values(by='weight', ascending=False)"
   ]
  },
  {
   "cell_type": "markdown",
   "id": "7bb9bb62-9f98-4159-8512-de0616389c8b",
   "metadata": {},
   "source": [
    "## Step 4: Calculating the average in-degree and out-degree of the network"
   ]
  },
  {
   "cell_type": "markdown",
   "id": "73f87703-f5b7-4c78-8959-cfed500fa670",
   "metadata": {},
   "source": [
    "We currently have a dataset with one row for each sender/recipient pairing. There are many different ways to calculate the average in-degree and out-degree of a network, but one easy way is to reformulate the data. We can collapse the data even further, so there is  a single row for each node. Then we can calculate the number of emails sent to and from that node."
   ]
  },
  {
   "cell_type": "code",
   "execution_count": 56,
   "id": "6f1c3a77",
   "metadata": {},
   "outputs": [],
   "source": [
    "email_net = nx.from_pandas_edgelist(df = raw_data_agg, source='from', target='to', edge_attr=True)"
   ]
  },
  {
   "cell_type": "code",
   "execution_count": 57,
   "id": "96bd291c",
   "metadata": {},
   "outputs": [],
   "source": [
    "email_net_directed = nx.from_pandas_edgelist(df = raw_data_agg, \n",
    "                                             source='from', \n",
    "                                             target='to',\n",
    "                                             create_using = nx.DiGraph(),\n",
    "                                             edge_attr=True)"
   ]
  },
  {
   "cell_type": "code",
   "execution_count": 58,
   "id": "1e9f7eed",
   "metadata": {},
   "outputs": [
    {
     "data": {
      "text/html": [
       "<div>\n",
       "<style scoped>\n",
       "    .dataframe tbody tr th:only-of-type {\n",
       "        vertical-align: middle;\n",
       "    }\n",
       "\n",
       "    .dataframe tbody tr th {\n",
       "        vertical-align: top;\n",
       "    }\n",
       "\n",
       "    .dataframe thead th {\n",
       "        text-align: right;\n",
       "    }\n",
       "</style>\n",
       "<table border=\"1\" class=\"dataframe\">\n",
       "  <thead>\n",
       "    <tr style=\"text-align: right;\">\n",
       "      <th></th>\n",
       "      <th>id</th>\n",
       "      <th>in_degree</th>\n",
       "      <th>out_degree</th>\n",
       "    </tr>\n",
       "  </thead>\n",
       "  <tbody>\n",
       "    <tr>\n",
       "      <th>0</th>\n",
       "      <td>0</td>\n",
       "      <td>43</td>\n",
       "      <td>54</td>\n",
       "    </tr>\n",
       "    <tr>\n",
       "      <th>1</th>\n",
       "      <td>5</td>\n",
       "      <td>49</td>\n",
       "      <td>35</td>\n",
       "    </tr>\n",
       "    <tr>\n",
       "      <th>2</th>\n",
       "      <td>6</td>\n",
       "      <td>39</td>\n",
       "      <td>0</td>\n",
       "    </tr>\n",
       "    <tr>\n",
       "      <th>3</th>\n",
       "      <td>29</td>\n",
       "      <td>43</td>\n",
       "      <td>65</td>\n",
       "    </tr>\n",
       "    <tr>\n",
       "      <th>4</th>\n",
       "      <td>78</td>\n",
       "      <td>39</td>\n",
       "      <td>25</td>\n",
       "    </tr>\n",
       "    <tr>\n",
       "      <th>...</th>\n",
       "      <td>...</td>\n",
       "      <td>...</td>\n",
       "      <td>...</td>\n",
       "    </tr>\n",
       "    <tr>\n",
       "      <th>981</th>\n",
       "      <td>20</td>\n",
       "      <td>1</td>\n",
       "      <td>0</td>\n",
       "    </tr>\n",
       "    <tr>\n",
       "      <th>982</th>\n",
       "      <td>911</td>\n",
       "      <td>1</td>\n",
       "      <td>2</td>\n",
       "    </tr>\n",
       "    <tr>\n",
       "      <th>983</th>\n",
       "      <td>877</td>\n",
       "      <td>1</td>\n",
       "      <td>0</td>\n",
       "    </tr>\n",
       "    <tr>\n",
       "      <th>984</th>\n",
       "      <td>960</td>\n",
       "      <td>0</td>\n",
       "      <td>1</td>\n",
       "    </tr>\n",
       "    <tr>\n",
       "      <th>985</th>\n",
       "      <td>222</td>\n",
       "      <td>1</td>\n",
       "      <td>0</td>\n",
       "    </tr>\n",
       "  </tbody>\n",
       "</table>\n",
       "<p>986 rows × 3 columns</p>\n",
       "</div>"
      ],
      "text/plain": [
       "      id  in_degree  out_degree\n",
       "0      0         43          54\n",
       "1      5         49          35\n",
       "2      6         39           0\n",
       "3     29         43          65\n",
       "4     78         39          25\n",
       "..   ...        ...         ...\n",
       "981   20          1           0\n",
       "982  911          1           2\n",
       "983  877          1           0\n",
       "984  960          0           1\n",
       "985  222          1           0\n",
       "\n",
       "[986 rows x 3 columns]"
      ]
     },
     "execution_count": 58,
     "metadata": {},
     "output_type": "execute_result"
    }
   ],
   "source": [
    "# Create a dataset with only one row for each node (rather than one row for each node/node pair)\n",
    "# Calculate the number of emails sent to that node by any other node\n",
    "# And the number of emails sent from that node to any other node\n",
    "\n",
    "email_degree_df = pd.DataFrame({'id' : email_net_directed.nodes(),\n",
    "             'in_degree' : [y for (x,y) in email_net_directed.in_degree()],\n",
    "             'out_degree' : [y for (x,y) in email_net_directed.out_degree()]\n",
    "             })\n",
    "\n",
    "email_degree_df"
   ]
  },
  {
   "cell_type": "code",
   "execution_count": 59,
   "id": "2150d8ab-18b6-4dea-ae73-0e4c045f4442",
   "metadata": {},
   "outputs": [
    {
     "data": {
      "text/plain": [
       "25.28296146044625"
      ]
     },
     "execution_count": 59,
     "metadata": {},
     "output_type": "execute_result"
    }
   ],
   "source": [
    "# Calculate the average in-degree\n",
    "av_in_degree = np.average(email_degree_df['in_degree'])\n",
    "av_in_degree"
   ]
  },
  {
   "cell_type": "code",
   "execution_count": 60,
   "id": "3df8eeef-f257-45ba-9b93-96020e06622d",
   "metadata": {},
   "outputs": [
    {
     "data": {
      "text/plain": [
       "25.28296146044625"
      ]
     },
     "execution_count": 60,
     "metadata": {},
     "output_type": "execute_result"
    }
   ],
   "source": [
    "# Calculate the average out-degree\n",
    "av_out_degree = np.average(email_degree_df['out_degree'])\n",
    "av_out_degree"
   ]
  },
  {
   "cell_type": "markdown",
   "id": "778a9984-579d-4595-86d2-d267fa36e2d3",
   "metadata": {},
   "source": [
    "Success!"
   ]
  },
  {
   "cell_type": "markdown",
   "id": "a42fd38a-7849-4c81-8617-463fd00ded81",
   "metadata": {},
   "source": [
    "## Step 5: Making a scatterplot of in-degrees and out-degrees"
   ]
  },
  {
   "cell_type": "markdown",
   "id": "c8a5e339-fb82-4ded-9654-647c355e1ec3",
   "metadata": {},
   "source": [
    "A scatterplot of in-degrees and out-degrees will allow us to see whether epistolary edges are somewhat reciprocal. Do some people send far more emails than they receive? "
   ]
  },
  {
   "cell_type": "code",
   "execution_count": 61,
   "id": "a09685c0-de6d-431c-a79b-79c546e096db",
   "metadata": {},
   "outputs": [
    {
     "data": {
      "text/plain": [
       "{'divide': 'ignore', 'over': 'warn', 'under': 'ignore', 'invalid': 'warn'}"
      ]
     },
     "execution_count": 61,
     "metadata": {},
     "output_type": "execute_result"
    }
   ],
   "source": [
    "# Uncomment and run the following cell if you get the warning \"divide by zero encountered in log\"\n",
    "np.seterr(divide = 'ignore') "
   ]
  },
  {
   "cell_type": "code",
   "execution_count": 62,
   "id": "ed72af3b",
   "metadata": {},
   "outputs": [
    {
     "data": {
      "image/png": "[encoded data removed]",
      "text/plain": [
       "<Figure size 640x480 with 1 Axes>"
      ]
     },
     "metadata": {},
     "output_type": "display_data"
    }
   ],
   "source": [
    "plt.scatter(np.log(email_degree_df['in_degree']),\n",
    "            np.log(email_degree_df['out_degree']),\n",
    "            alpha = 0.3)\n",
    "#plt.xscale('log')\n",
    "#plt.yscale('log')\n",
    "plt.xlabel(\"In-degree\")\n",
    "plt.ylabel(\"Out-degree\")\n",
    "plt.show()"
   ]
  },
  {
   "cell_type": "markdown",
   "id": "6f38a2c6-4cbc-4230-a70e-408917689dff",
   "metadata": {},
   "source": [
    "Congratulations! You've finished Lab 8 and hopefully have all the tools you need to complete the mini-project. You will be running the same analyses, just on a different set of data.\n",
    "\n",
    "Please do reach out to us if you encounter difficulties. This would be a good time to attend section or come to office hours!"
   ]
  }
 ],
 "metadata": {
  "kernelspec": {
   "display_name": "Python 3 (ipykernel)",
   "language": "python",
   "name": "python3"
  },
  "language_info": {
   "codemirror_mode": {
    "name": "ipython",
    "version": 3
   },
   "file_extension": ".py",
   "mimetype": "text/x-python",
   "name": "python",
   "nbconvert_exporter": "python",
   "pygments_lexer": "ipython3",
   "version": "3.11.10"
  }
 },
 "nbformat": 4,
 "nbformat_minor": 5
}
